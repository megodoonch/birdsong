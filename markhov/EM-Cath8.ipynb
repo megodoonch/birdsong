{
 "cells": [
  {
   "cell_type": "markdown",
   "metadata": {},
   "source": [
    "# Running EM on the birdsong corpus\n",
    "\n",
    "## Getting set up"
   ]
  },
  {
   "cell_type": "code",
   "execution_count": null,
   "metadata": {
    "collapsed": false
   },
   "outputs": [],
   "source": [
    "import markhov\n",
    "import em\n",
    "import numpy as np\n",
    "import pandas as pd\n",
    "from pandas_functions import *\n",
    "%pylab inline\n",
    "import seaborn as sns\n",
    "from florisplotlib import *"
   ]
  },
  {
   "cell_type": "code",
   "execution_count": null,
   "metadata": {
    "collapsed": false
   },
   "outputs": [],
   "source": [
    "reload(em)\n",
    "import pandas_functions\n",
    "reload(pandas_functions)\n",
    "from pandas_functions import *"
   ]
  },
  {
   "cell_type": "markdown",
   "metadata": {},
   "source": [
    "Read in the birdsong corpus"
   ]
  },
  {
   "cell_type": "code",
   "execution_count": null,
   "metadata": {
    "collapsed": true
   },
   "outputs": [],
   "source": [
    "f=open('../corpus/cath8.txt','r')\n",
    "corpus = f.readlines()\n",
    "f.close()\n",
    "corpus = [line.rstrip('\\n') for line in corpus]\n"
   ]
  },
  {
   "cell_type": "markdown",
   "metadata": {},
   "source": [
    "Create a transition grammar for the corpus"
   ]
  },
  {
   "cell_type": "code",
   "execution_count": null,
   "metadata": {
    "collapsed": true
   },
   "outputs": [],
   "source": [
    "trans = {'[':[]}\n",
    "for s in corpus:\n",
    "    s=['[']+s.split(' ')\n",
    "    for i in range(1,len(s)):\n",
    "        trans[s[i-1]]=trans.get(s[i-1],[])\n",
    "        if s[i] not in trans[s[i-1]]:\n",
    "            trans[s[i-1]].append(s[i])\n"
   ]
  },
  {
   "cell_type": "markdown",
   "metadata": {},
   "source": [
    "Operations FSAs"
   ]
  },
  {
   "cell_type": "code",
   "execution_count": null,
   "metadata": {
    "collapsed": true
   },
   "outputs": [],
   "source": [
    "# copy grammar\n",
    "ops_c = {'S':[('NotCL','mg')], # from start we have to merge\n",
    "       'NotCL':[('NotCL','mg'),('NotCL','copy'), # this state is the state in which the last \"special\" operation was *not* Clear. Either we've done none or the last was copy. From here we can do everything including end\n",
    "               ('CLEAR_S','clear'), # go here to clear the buffer\n",
    "               ('F','end') # go here to end\n",
    "           ],\n",
    "       'CLEAR_S':[('CLEAR','mg')], # this is where we've just cleared. Buffer is empty so you can only Merge\n",
    "       'CLEAR':[('CLEAR','mg'), # the last special op was Clear so we can Copy or Merge.\n",
    "                ('NotCL','copy') # if we Copy, the last special op was Copy so go to NotCL\n",
    "            ],\n",
    "       'F':[] #final state\n",
    "   }\n",
    "\n",
    "# no copy grammar\n",
    "ops_nc = {'S':[('S','mg'),('F','end')], # from start we have to merge\n",
    "       'F':[] #final state\n",
    "   }\n"
   ]
  },
  {
   "cell_type": "markdown",
   "metadata": {},
   "source": [
    "## Expectation Maximisation time!"
   ]
  },
  {
   "cell_type": "code",
   "execution_count": null,
   "metadata": {
    "collapsed": true
   },
   "outputs": [],
   "source": [
    "n = 10 # number of EM iterations to do"
   ]
  },
  {
   "cell_type": "code",
   "execution_count": null,
   "metadata": {
    "collapsed": false
   },
   "outputs": [],
   "source": [
    "history=em.em(corpus,trans,ops,n) # run EM"
   ]
  },
  {
   "cell_type": "markdown",
   "metadata": {},
   "source": [
    "### Display the results"
   ]
  },
  {
   "cell_type": "markdown",
   "metadata": {},
   "source": [
    "Make the rules into a simpler list"
   ]
  },
  {
   "cell_type": "code",
   "execution_count": null,
   "metadata": {
    "collapsed": false
   },
   "outputs": [],
   "source": [
    "rules=[]\n",
    "for lhs in ops:\n",
    "    for (rhs,e) in ops[lhs]:\n",
    "        rules.append(('%s->%s %s'%(lhs,e,rhs),(lhs,rhs,e)))"
   ]
  },
  {
   "cell_type": "markdown",
   "metadata": {},
   "source": [
    "Put them and their updating probabilities into a table"
   ]
  },
  {
   "cell_type": "code",
   "execution_count": null,
   "metadata": {
    "collapsed": true
   },
   "outputs": [],
   "source": [
    "tab=[]\n",
    "for (rule,(lhs,rhs,e)) in rules:\n",
    "    thisrule={' rule':rule}\n",
    "    for i in range(n):\n",
    "        p=history[i]['fsa'][lhs][(rhs,e)]\n",
    "        thisrule[\"p.iteration%03d\"%i]=p\n",
    "    tab.append(thisrule)"
   ]
  },
  {
   "cell_type": "markdown",
   "metadata": {},
   "source": [
    "Use pandas to make the table into a datafram"
   ]
  },
  {
   "cell_type": "code",
   "execution_count": null,
   "metadata": {
    "collapsed": true
   },
   "outputs": [],
   "source": [
    "df = pd.DataFrame(tab)"
   ]
  },
  {
   "cell_type": "code",
   "execution_count": null,
   "metadata": {
    "collapsed": false
   },
   "outputs": [],
   "source": [
    "df"
   ]
  },
  {
   "cell_type": "code",
   "execution_count": null,
   "metadata": {
    "collapsed": true
   },
   "outputs": [],
   "source": [
    "df.to_csv('ops_%s.csv'%('oct_23_2016_cath8')) # print to file"
   ]
  },
  {
   "cell_type": "code",
   "execution_count": null,
   "metadata": {
    "collapsed": false
   },
   "outputs": [],
   "source": [
    "ncol,_ = df.shape\n",
    "colors = get_colors(ncol)\n",
    "for i,row in df.iterrows():\n",
    "    col = colors[i]\n",
    "    plot(range(n),[ row[\"p.iteration%03d\"%i] for i in range(n) ],'-',color=col,label=row[\" rule\"])\n",
    "legend()\n",
    "xlim(-.5,n+15)\n",
    "xlabel(\"Iteration\")\n",
    "ylabel(\"Rule probability (log)\")"
   ]
  },
  {
   "cell_type": "markdown",
   "metadata": {},
   "source": [
    "Same for the transitions"
   ]
  },
  {
   "cell_type": "code",
   "execution_count": null,
   "metadata": {
    "collapsed": true
   },
   "outputs": [],
   "source": [
    "bigrams=[]\n",
    "for lhs in trans:\n",
    "    for rhs in trans[lhs]:\n",
    "        bigrams.append(('%s,%s'%(lhs,rhs),(lhs,rhs)))"
   ]
  },
  {
   "cell_type": "code",
   "execution_count": null,
   "metadata": {
    "collapsed": true
   },
   "outputs": [],
   "source": [
    "tab=[]\n",
    "for (bi,(lhs,rhs)) in bigrams:\n",
    "    thisrule={' bigram':bi}\n",
    "    for i in range(n):\n",
    "        p=history[i]['trans_probs'][lhs][rhs]\n",
    "        thisrule[\"p.iteration%03d\"%i]=p\n",
    "    tab.append(thisrule)"
   ]
  },
  {
   "cell_type": "code",
   "execution_count": null,
   "metadata": {
    "collapsed": true
   },
   "outputs": [],
   "source": [
    "df_bis = pd.DataFrame(tab)"
   ]
  },
  {
   "cell_type": "code",
   "execution_count": null,
   "metadata": {
    "collapsed": false
   },
   "outputs": [],
   "source": [
    "df_bis"
   ]
  },
  {
   "cell_type": "code",
   "execution_count": null,
   "metadata": {
    "collapsed": true
   },
   "outputs": [],
   "source": [
    "df_bis.to_csv('trans_%s.csv'%('oct_23_2016_cath8'))"
   ]
  },
  {
   "cell_type": "markdown",
   "metadata": {},
   "source": [
    "### Calculate the log likelihood of the corpus given the trained grammar\n",
    "\n",
    "This is the ll of the corpus at the end of training:"
   ]
  },
  {
   "cell_type": "code",
   "execution_count": null,
   "metadata": {
    "collapsed": false
   },
   "outputs": [],
   "source": [
    "# parse the corpus\n",
    "parsed_corpus=em.parse_corpus(corpus,trans,ops)"
   ]
  },
  {
   "cell_type": "code",
   "execution_count": null,
   "metadata": {
    "collapsed": false
   },
   "outputs": [],
   "source": [
    "em.ll_corpus(parsed_corpus,history[-1]['trans_probs'],history[-1]['fsa'])"
   ]
  },
  {
   "cell_type": "markdown",
   "metadata": {},
   "source": [
    "Make a dataframe of the LL of the corpus throughout training:"
   ]
  },
  {
   "cell_type": "code",
   "execution_count": null,
   "metadata": {
    "collapsed": true
   },
   "outputs": [],
   "source": [
    "tab=[]\n",
    "for i in range(n):\n",
    "    this_iter={'iteration':i,\n",
    "               'likelihood':em.ll_corpus(parsed_corpus,history[i]['trans_probs'],history[i]['fsa'])}\n",
    "    tab.append(this_iter)"
   ]
  },
  {
   "cell_type": "code",
   "execution_count": null,
   "metadata": {
    "collapsed": true
   },
   "outputs": [],
   "source": [
    "df_lls=pd.DataFrame(tab)"
   ]
  },
  {
   "cell_type": "code",
   "execution_count": null,
   "metadata": {
    "collapsed": false
   },
   "outputs": [],
   "source": [
    "df_lls"
   ]
  },
  {
   "cell_type": "code",
   "execution_count": null,
   "metadata": {
    "collapsed": false,
    "scrolled": true
   },
   "outputs": [],
   "source": [
    "plot(df_lls[\"iteration\"],df_lls[\"likelihood\"],'o-')\n",
    "xlabel(\"Iteration\")\n",
    "ylabel(\"Log Likelihood\")"
   ]
  },
  {
   "cell_type": "markdown",
   "metadata": {},
   "source": [
    "Compare the grammars"
   ]
  },
  {
   "cell_type": "code",
   "execution_count": null,
   "metadata": {
    "collapsed": false
   },
   "outputs": [],
   "source": [
    "compare = em.compare(corpus[:123],corpus[123:],trans,ops_c,ops_nc,n)"
   ]
  },
  {
   "cell_type": "code",
   "execution_count": null,
   "metadata": {
    "collapsed": false
   },
   "outputs": [],
   "source": [
    "df_copy = ll_table(compare[0][1])\n",
    "df_no_copy =ll_table(compare[1][1])"
   ]
  },
  {
   "cell_type": "code",
   "execution_count": null,
   "metadata": {
    "collapsed": false,
    "scrolled": true
   },
   "outputs": [],
   "source": [
    "df_copy"
   ]
  },
  {
   "cell_type": "code",
   "execution_count": null,
   "metadata": {
    "collapsed": false
   },
   "outputs": [],
   "source": [
    "df_no_copy"
   ]
  },
  {
   "cell_type": "code",
   "execution_count": null,
   "metadata": {
    "collapsed": false,
    "scrolled": true
   },
   "outputs": [],
   "source": [
    "n=10\n",
    "w = 3\n",
    "sc=0.01\n",
    "window = em.windows(corpus,trans,ops_c,ops_nc,n,w,sc)"
   ]
  },
  {
   "cell_type": "code",
   "execution_count": null,
   "metadata": {
    "collapsed": false,
    "scrolled": true
   },
   "outputs": [],
   "source": [
    "r=3 # run windows three times\n",
    "ws=em.iter_windows(corpus,trans,ops_c,ops_nc,n,w,r,sc)"
   ]
  },
  {
   "cell_type": "code",
   "execution_count": null,
   "metadata": {
    "collapsed": false,
    "scrolled": false
   },
   "outputs": [],
   "source": [
    "df_window=ll_window(ws,True)"
   ]
  },
  {
   "cell_type": "code",
   "execution_count": null,
   "metadata": {
    "collapsed": false,
    "scrolled": true
   },
   "outputs": [],
   "source": [
    "df_window"
   ]
  },
  {
   "cell_type": "code",
   "execution_count": null,
   "metadata": {
    "collapsed": false
   },
   "outputs": [],
   "source": [
    "f,ax = subplots(1,3,figsize=(20,10),sharey=False)\n",
    "colors = {'copy':\"red\",\"no copy\":\"blue\"}\n",
    "for names,data in df_window.groupby(['run','training window','grammar']):\n",
    "    run,window,gram = names\n",
    "    ax[window].plot(data[\"iteration\"],data[\"train LL\"],'o-',label=names,color=colors[gram])\n",
    "    ax[window].set_title(\"LL training corpus as a function of iteration\")\n",
    "    xlabel(\"Iteration\")\n",
    "    ylabel(\"Log-Likelihood\")\n",
    "legend()\n"
   ]
  },
  {
   "cell_type": "code",
   "execution_count": null,
   "metadata": {
    "collapsed": false
   },
   "outputs": [],
   "source": [
    "f,ax = subplots(1,3,figsize=(20,10),sharey=True)\n",
    "colors = {'copy':\"red\",\"no copy\":\"blue\"}\n",
    "for names,data in df_window.groupby(['run','training window','grammar']):\n",
    "    run,window,gram = names\n",
    "    ax[window].plot(data[\"iteration\"],data[\"test LL\"],'o-',label=names,color=colors[gram])\n",
    "    ax[window].set_title(\"LL testing corpus as a function of iteration\")\n",
    "    xlabel(\"Iteration\")\n",
    "    ylabel(\"Log-Likelihood\")\n",
    "legend()\n"
   ]
  },
  {
   "cell_type": "code",
   "execution_count": null,
   "metadata": {
    "collapsed": true
   },
   "outputs": [],
   "source": []
  },
  {
   "cell_type": "code",
   "execution_count": null,
   "metadata": {
    "collapsed": false
   },
   "outputs": [],
   "source": [
    "f,ax = subplots(1,3,figsize=(20,10),sharey=True)\n",
    "selections = df_window[ (df_window[\"grammar\"]==\"copy\") & ((df_window[\"iteration\"]==0) | (df_window[\"iteration\"]==n)) ]\n",
    "colors = {'train':'purple','test':'green'}\n",
    "for names,data in selections.groupby(['run','training window']):\n",
    "    run,window = names\n",
    "    for corp in [\"test\",\"train\"]:\n",
    "        it0 = data[ data[\"iteration\"]==0 ][\"%s LL\"%corp].iloc[0]\n",
    "        itn = data[ data[\"iteration\"]==n ][\"%s LL\"%corp].iloc[0]\n",
    "        ax[window].plot(it0,itn,'o-',color=colors[corp],label=corp)\n",
    "    ax[window].set_title(\"LL testing corpus as a function of iteration\")\n",
    "    xlabel(\"LL on iteration 0\")\n",
    "    ylabel(\"LL on iteration n\")\n",
    "legend()\n"
   ]
  },
  {
   "cell_type": "code",
   "execution_count": null,
   "metadata": {
    "collapsed": false,
    "scrolled": true
   },
   "outputs": [],
   "source": [
    "df_rules = rule_probs_table(ws,trans,ops_c,ops_nc,True)"
   ]
  },
  {
   "cell_type": "code",
   "execution_count": null,
   "metadata": {
    "collapsed": false
   },
   "outputs": [],
   "source": [
    "df_rules"
   ]
  },
  {
   "cell_type": "code",
   "execution_count": null,
   "metadata": {
    "collapsed": false
   },
   "outputs": [],
   "source": [
    "selections = df_rules[ (df_rules['prob'] < np.log(0.01)) & (df_rules['iteration']==n) & (df_rules['run']==0) & (df_rules['training window']==0)] "
   ]
  },
  {
   "cell_type": "code",
   "execution_count": null,
   "metadata": {
    "collapsed": false,
    "scrolled": true
   },
   "outputs": [],
   "source": [
    "len(selections)"
   ]
  },
  {
   "cell_type": "code",
   "execution_count": null,
   "metadata": {
    "collapsed": false
   },
   "outputs": [],
   "source": [
    "selections\n"
   ]
  },
  {
   "cell_type": "code",
   "execution_count": null,
   "metadata": {
    "collapsed": true
   },
   "outputs": [],
   "source": []
  },
  {
   "cell_type": "code",
   "execution_count": null,
   "metadata": {
    "collapsed": true
   },
   "outputs": [],
   "source": [
    "x = [1,2,3]\n",
    "x[3]\n"
   ]
  },
  {
   "cell_type": "code",
   "execution_count": null,
   "metadata": {
    "collapsed": false
   },
   "outputs": [],
   "source": []
  },
  {
   "cell_type": "code",
   "execution_count": null,
   "metadata": {
    "collapsed": true
   },
   "outputs": [],
   "source": []
  },
  {
   "cell_type": "code",
   "execution_count": null,
   "metadata": {
    "collapsed": true
   },
   "outputs": [],
   "source": []
  },
  {
   "cell_type": "code",
   "execution_count": null,
   "metadata": {
    "collapsed": true
   },
   "outputs": [],
   "source": []
  },
  {
   "cell_type": "code",
   "execution_count": null,
   "metadata": {
    "collapsed": true
   },
   "outputs": [],
   "source": []
  },
  {
   "cell_type": "code",
   "execution_count": null,
   "metadata": {
    "collapsed": true
   },
   "outputs": [],
   "source": []
  },
  {
   "cell_type": "code",
   "execution_count": null,
   "metadata": {
    "collapsed": true
   },
   "outputs": [],
   "source": []
  },
  {
   "cell_type": "code",
   "execution_count": null,
   "metadata": {
    "collapsed": true
   },
   "outputs": [],
   "source": []
  },
  {
   "cell_type": "code",
   "execution_count": null,
   "metadata": {
    "collapsed": true
   },
   "outputs": [],
   "source": []
  },
  {
   "cell_type": "code",
   "execution_count": null,
   "metadata": {
    "collapsed": true
   },
   "outputs": [],
   "source": []
  },
  {
   "cell_type": "code",
   "execution_count": null,
   "metadata": {
    "collapsed": true
   },
   "outputs": [],
   "source": []
  },
  {
   "cell_type": "code",
   "execution_count": null,
   "metadata": {
    "collapsed": true
   },
   "outputs": [],
   "source": []
  },
  {
   "cell_type": "code",
   "execution_count": null,
   "metadata": {
    "collapsed": true
   },
   "outputs": [],
   "source": []
  },
  {
   "cell_type": "code",
   "execution_count": null,
   "metadata": {
    "collapsed": true
   },
   "outputs": [],
   "source": []
  },
  {
   "cell_type": "code",
   "execution_count": null,
   "metadata": {
    "collapsed": false
   },
   "outputs": [],
   "source": [
    "plot(df_window[\"iteration\"],df_window[\"train LL\"],'o-')\n",
    "xlabel(\"Iteration\")\n",
    "ylabel(\"Log Likelihood of training corpus\")\n",
    "title(\"Copy grammar, window 1\")"
   ]
  },
  {
   "cell_type": "code",
   "execution_count": null,
   "metadata": {
    "collapsed": true
   },
   "outputs": [],
   "source": []
  }
 ],
 "metadata": {
  "anaconda-cloud": {},
  "kernelspec": {
   "display_name": "Python [Root]",
   "language": "python",
   "name": "Python [Root]"
  },
  "language_info": {
   "codemirror_mode": {
    "name": "ipython",
    "version": 2
   },
   "file_extension": ".py",
   "mimetype": "text/x-python",
   "name": "python",
   "nbconvert_exporter": "python",
   "pygments_lexer": "ipython2",
   "version": "2.7.12"
  }
 },
 "nbformat": 4,
 "nbformat_minor": 0
}
