{
 "cells": [
  {
   "cell_type": "markdown",
   "metadata": {},
   "source": [
    "# Running EM on the birdsong corpus\n",
    "\n",
    "## Getting set up"
   ]
  },
  {
   "cell_type": "code",
   "execution_count": null,
   "metadata": {
    "collapsed": false
   },
   "outputs": [],
   "source": [
    "import markhov\n",
    "import em\n",
    "import numpy as np\n",
    "%pylab inline"
   ]
  },
  {
   "cell_type": "markdown",
   "metadata": {},
   "source": [
    "Read in the birdsong corpus"
   ]
  },
  {
   "cell_type": "code",
   "execution_count": null,
   "metadata": {
    "collapsed": true
   },
   "outputs": [],
   "source": [
    "f=open('../corpus/cath8.txt','r')\n",
    "corpus = f.readlines()\n",
    "f.close()\n",
    "corpus = [line.rstrip('\\n') for line in corpus]\n"
   ]
  },
  {
   "cell_type": "markdown",
   "metadata": {},
   "source": [
    "Create a transition grammar for the corpus"
   ]
  },
  {
   "cell_type": "code",
   "execution_count": null,
   "metadata": {
    "collapsed": true
   },
   "outputs": [],
   "source": [
    "trans = {'[':[]}\n",
    "for s in corpus:\n",
    "    s=['[']+s.split(' ')\n",
    "    for i in range(1,len(s)):\n",
    "        trans[s[i-1]]=trans.get(s[i-1],[])\n",
    "        if s[i] not in trans[s[i-1]]:\n",
    "            trans[s[i-1]].append(s[i])\n"
   ]
  },
  {
   "cell_type": "markdown",
   "metadata": {},
   "source": [
    "Operations FSA"
   ]
  },
  {
   "cell_type": "code",
   "execution_count": null,
   "metadata": {
    "collapsed": true
   },
   "outputs": [],
   "source": [
    "ops = {'S':{'NotCL':['mg']}, # from start we have to merge\n",
    "       'NotCL':{'NotCL':['mg','copy'], # this state is the state in which the last \"special\" operation was *not* Clear. \n",
    "                #Either we've done none or the last was copy. From here we can do everything including end\n",
    "               'CLEAR_S':['clear'], # go here to clear the buffer\n",
    "               'F':['end'] # go here to end\n",
    "           },\n",
    "       'CLEAR_S':{'CLEAR':['mg']}, # this is where we've just cleared. Buffer is empty so you can only Merge\n",
    "       'CLEAR':{'CLEAR':['mg'], # the last special op was Clear so we can Copy or Merge.\n",
    "                'NotCL':['copy'] # if we Copy, the last special op was Copy so go to NotCL\n",
    "            },\n",
    "       'F':{} #final state\n",
    "   }\n"
   ]
  },
  {
   "cell_type": "code",
   "execution_count": null,
   "metadata": {
    "collapsed": true
   },
   "outputs": [],
   "source": []
  },
  {
   "cell_type": "markdown",
   "metadata": {},
   "source": [
    "## Expectation Maximisation time!"
   ]
  },
  {
   "cell_type": "code",
   "execution_count": null,
   "metadata": {
    "collapsed": true
   },
   "outputs": [],
   "source": [
    "n = 10 # number of EM iterations to do"
   ]
  },
  {
   "cell_type": "code",
   "execution_count": null,
   "metadata": {
    "collapsed": false
   },
   "outputs": [],
   "source": [
    "history=em.em_rabbit(corpus,trans,ops,n) # run EM"
   ]
  },
  {
   "cell_type": "markdown",
   "metadata": {},
   "source": [
    "Display the results"
   ]
  },
  {
   "cell_type": "code",
   "execution_count": null,
   "metadata": {
    "collapsed": true
   },
   "outputs": [],
   "source": [
    "import pandas as pd"
   ]
  },
  {
   "cell_type": "markdown",
   "metadata": {},
   "source": [
    "Make the rules into a simpler list"
   ]
  },
  {
   "cell_type": "code",
   "execution_count": null,
   "metadata": {
    "collapsed": false
   },
   "outputs": [],
   "source": [
    "rules=[]\n",
    "for lhs in ops:\n",
    "    for rhs in ops[lhs]:\n",
    "        for e in ops[lhs][rhs]:\n",
    "            rules.append(('%s->%s %s'%(lhs,e,rhs),(lhs,rhs,e)))"
   ]
  },
  {
   "cell_type": "markdown",
   "metadata": {},
   "source": [
    "Put them and their updating probabilities into a table"
   ]
  },
  {
   "cell_type": "code",
   "execution_count": null,
   "metadata": {
    "collapsed": true
   },
   "outputs": [],
   "source": [
    "tab=[]\n",
    "for (rule,(lhs,rhs,e)) in rules:\n",
    "    thisrule={'rule':rule}\n",
    "    for i in range(n):\n",
    "        p=history[i]['fsa'][lhs][rhs][e]\n",
    "        thisrule[\"p.iteration%i\"%i]=p\n",
    "    tab.append(thisrule)"
   ]
  },
  {
   "cell_type": "markdown",
   "metadata": {},
   "source": [
    "Use pandas to make the table into a datafram"
   ]
  },
  {
   "cell_type": "code",
   "execution_count": null,
   "metadata": {
    "collapsed": true
   },
   "outputs": [],
   "source": [
    "df = pd.DataFrame(tab)"
   ]
  },
  {
   "cell_type": "code",
   "execution_count": null,
   "metadata": {
    "collapsed": false
   },
   "outputs": [],
   "source": [
    "df"
   ]
  },
  {
   "cell_type": "code",
   "execution_count": null,
   "metadata": {
    "collapsed": true
   },
   "outputs": [],
   "source": [
    "df.to_csv('ops_%s.csv'%('oct_22_2016_aaa')) # print to file"
   ]
  },
  {
   "cell_type": "markdown",
   "metadata": {},
   "source": [
    "Same for the transitions"
   ]
  },
  {
   "cell_type": "code",
   "execution_count": null,
   "metadata": {
    "collapsed": true
   },
   "outputs": [],
   "source": [
    "bigrams=[]\n",
    "for lhs in trans:\n",
    "    for rhs in trans[lhs]:\n",
    "        bigrams.append(('%s,%s'%(lhs,rhs),(lhs,rhs)))"
   ]
  },
  {
   "cell_type": "code",
   "execution_count": null,
   "metadata": {
    "collapsed": true
   },
   "outputs": [],
   "source": [
    "tab=[]\n",
    "for (bi,(lhs,rhs)) in bigrams:\n",
    "    thisrule={'rule':bi}\n",
    "    for i in range(n):\n",
    "        p=history[i]['trans_probs'][lhs][rhs]\n",
    "        thisrule[\"p.iteration%i\"%i]=p\n",
    "    tab.append(thisrule)"
   ]
  },
  {
   "cell_type": "code",
   "execution_count": null,
   "metadata": {
    "collapsed": true
   },
   "outputs": [],
   "source": [
    "df_bis = pd.DataFrame(tab)"
   ]
  },
  {
   "cell_type": "code",
   "execution_count": null,
   "metadata": {
    "collapsed": false
   },
   "outputs": [],
   "source": [
    "df_bis"
   ]
  },
  {
   "cell_type": "code",
   "execution_count": null,
   "metadata": {
    "collapsed": true
   },
   "outputs": [],
   "source": [
    "df_bis.to_csv('trans_%s.csv'%('oct_22_2016_cath8'))"
   ]
  },
  {
   "cell_type": "markdown",
   "metadata": {},
   "source": [
    "### Calculate the log likelihood of the corpus given the trained grammar\n",
    "\n",
    "This is the ll of the corpus at the end of training:"
   ]
  },
  {
   "cell_type": "code",
   "execution_count": null,
   "metadata": {
    "collapsed": false
   },
   "outputs": [],
   "source": [
    "# parse the corpus\n",
    "parsed_corpus=em.parse_corpus(corpus,trans,ops)"
   ]
  },
  {
   "cell_type": "code",
   "execution_count": null,
   "metadata": {
    "collapsed": false
   },
   "outputs": [],
   "source": [
    "markhov.ll_corpus(parsed_corpus,history[-1]['trans_probs'],history[-1]['fsa'])"
   ]
  },
  {
   "cell_type": "markdown",
   "metadata": {},
   "source": [
    "Make a dataframe of the LL of the corpus throughout training:"
   ]
  },
  {
   "cell_type": "code",
   "execution_count": null,
   "metadata": {
    "collapsed": true
   },
   "outputs": [],
   "source": [
    "tab=[]\n",
    "for i in range(n):\n",
    "    this_iter={'iteration':i,\n",
    "               'likelihood':markhov.ll_corpus(parsed_corpus,history[i]['trans_probs'],history[i]['fsa'])}\n",
    "    tab.append(this_iter)"
   ]
  },
  {
   "cell_type": "code",
   "execution_count": null,
   "metadata": {
    "collapsed": true
   },
   "outputs": [],
   "source": [
    "df_lls=pd.DataFrame(tab)"
   ]
  },
  {
   "cell_type": "code",
   "execution_count": null,
   "metadata": {
    "collapsed": false
   },
   "outputs": [],
   "source": [
    "df_lls"
   ]
  },
  {
   "cell_type": "code",
   "execution_count": null,
   "metadata": {
    "collapsed": false
   },
   "outputs": [],
   "source": [
    "plot(df_lls[\"iteration\"],df_lls[\"likelihood\"],'o-')\n",
    "xlabel(\"Iteration\")\n",
    "ylabel(\"Log Likelihood\")"
   ]
  },
  {
   "cell_type": "code",
   "execution_count": null,
   "metadata": {
    "collapsed": false
   },
   "outputs": [],
   "source": [
    "reload(em)"
   ]
  },
  {
   "cell_type": "code",
   "execution_count": null,
   "metadata": {
    "collapsed": true
   },
   "outputs": [],
   "source": []
  }
 ],
 "metadata": {
  "anaconda-cloud": {},
  "kernelspec": {
   "display_name": "Python [Root]",
   "language": "python",
   "name": "Python [Root]"
  },
  "language_info": {
   "codemirror_mode": {
    "name": "ipython",
    "version": 2
   },
   "file_extension": ".py",
   "mimetype": "text/x-python",
   "name": "python",
   "nbconvert_exporter": "python",
   "pygments_lexer": "ipython2",
   "version": "2.7.12"
  }
 },
 "nbformat": 4,
 "nbformat_minor": 0
}
