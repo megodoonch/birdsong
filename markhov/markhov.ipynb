{
 "cells": [
  {
   "cell_type": "code",
   "execution_count": null,
   "metadata": {
    "collapsed": false
   },
   "outputs": [],
   "source": [
    "import markhov\n",
    "import em\n",
    "import pandas_functions\n",
    "import numpy as np\n",
    "import pandas as pd\n",
    "from florisplotlib import *\n",
    "%pylab inline"
   ]
  },
  {
   "cell_type": "markdown",
   "metadata": {},
   "source": [
    "# Demonstrating EM\n",
    "\n",
    "Here we demonstrate the use and behaviour of the various functions in our expectation maximisation algorithm for learning rule probagbilities for a two-part grammar made up of a finite state automaton that generates strings of operations and a bigram grammar of legal transitions for the operation Merge."
   ]
  },
  {
   "cell_type": "markdown",
   "metadata": {},
   "source": [
    "### Get set up"
   ]
  },
  {
   "cell_type": "markdown",
   "metadata": {},
   "source": [
    "Some functions for log-transforming the grammar"
   ]
  },
  {
   "cell_type": "markdown",
   "metadata": {},
   "source": [
    "Make some transitions"
   ]
  },
  {
   "cell_type": "code",
   "execution_count": null,
   "metadata": {
    "collapsed": true
   },
   "outputs": [],
   "source": [
    "trans = {'a':['a','b'],\n",
    "           'b':['b','a'],\n",
    "           '[':['a','b']\n",
    "       }\n"
   ]
  },
  {
   "cell_type": "code",
   "execution_count": null,
   "metadata": {
    "collapsed": false
   },
   "outputs": [],
   "source": [
    "trans_probs = {'a':{'a':0.5,'b':0.5},\n",
    "           'b':{'b':0.5,'a':0.5},\n",
    "           '[':{'a':0.5,'b':0.5}\n",
    "       }\n",
    "\n",
    "trans_probs=markhov.fsa_log(trans_probs)"
   ]
  },
  {
   "cell_type": "markdown",
   "metadata": {},
   "source": [
    "Operations FSA"
   ]
  },
  {
   "cell_type": "code",
   "execution_count": null,
   "metadata": {
    "collapsed": true
   },
   "outputs": [],
   "source": [
    "ops = {'S':[('NotCL','mg')], # from start we have to merge\n",
    "       'NotCL':[('NotCL','mg'),('NotCL','copy'), # this state is the state in which the last \"special\" operation was *not* Clear. Either we've done none or the last was copy. From here we can do everything including end\n",
    "               ('CLEAR_S','clear'), # go here to clear the buffer\n",
    "               ('F','end') # go here to end\n",
    "           ],\n",
    "       'CLEAR_S':[('CLEAR','mg')], # this is where we've just cleared. Buffer is empty so you can only Merge\n",
    "       'CLEAR':[('CLEAR','mg'), # the last special op was Clear so we can Copy or Merge.\n",
    "                ('NotCL','copy') # if we Copy, the last special op was Copy so go to NotCL\n",
    "            ],\n",
    "       'F':[] #final state\n",
    "   }\n",
    "\n",
    "# no copy\n",
    "ops_nc = {'S':[('S','mg'),('F','end')],\n",
    "          'F':[]}"
   ]
  },
  {
   "cell_type": "code",
   "execution_count": null,
   "metadata": {
    "collapsed": true
   },
   "outputs": [],
   "source": [
    "ops_probs=em.initialise(ops)"
   ]
  },
  {
   "cell_type": "markdown",
   "metadata": {
    "collapsed": false
   },
   "source": [
    "Corpora"
   ]
  },
  {
   "cell_type": "code",
   "execution_count": null,
   "metadata": {
    "collapsed": false
   },
   "outputs": [],
   "source": [
    "aaa = ['a','a a','a a a']\n",
    "aaaa=aaa+['a a a a','a a a a a']"
   ]
  },
  {
   "cell_type": "markdown",
   "metadata": {},
   "source": [
    "### Parse a sentence"
   ]
  },
  {
   "cell_type": "code",
   "execution_count": null,
   "metadata": {
    "collapsed": true
   },
   "outputs": [],
   "source": [
    "s=aaa[-1]"
   ]
  },
  {
   "cell_type": "code",
   "execution_count": null,
   "metadata": {
    "collapsed": false
   },
   "outputs": [],
   "source": [
    "parses=markhov.parse(s,trans,ops)"
   ]
  },
  {
   "cell_type": "code",
   "execution_count": null,
   "metadata": {
    "collapsed": false
   },
   "outputs": [],
   "source": [
    "for i in range(len(parses)):\n",
    "    print(markhov.parse2string(parses[i]))"
   ]
  },
  {
   "cell_type": "markdown",
   "metadata": {},
   "source": [
    "### Parse the corpus"
   ]
  },
  {
   "cell_type": "code",
   "execution_count": null,
   "metadata": {
    "collapsed": false
   },
   "outputs": [],
   "source": [
    "parsed_corpus=em.parse_corpus(aaa,trans,ops)"
   ]
  },
  {
   "cell_type": "code",
   "execution_count": null,
   "metadata": {
    "collapsed": false
   },
   "outputs": [],
   "source": [
    "print(em.parsed_corpus2string(parsed_corpus))"
   ]
  },
  {
   "cell_type": "markdown",
   "metadata": {},
   "source": [
    "Make a parallel list of parse relative probabilities"
   ]
  },
  {
   "cell_type": "code",
   "execution_count": null,
   "metadata": {
    "collapsed": false
   },
   "outputs": [],
   "source": [
    "parse_probs=em.get_p_parses(parsed_corpus,ops_probs,trans_probs)"
   ]
  },
  {
   "cell_type": "code",
   "execution_count": null,
   "metadata": {
    "collapsed": false
   },
   "outputs": [],
   "source": [
    "print(parse_probs)"
   ]
  },
  {
   "cell_type": "code",
   "execution_count": null,
   "metadata": {
    "collapsed": false
   },
   "outputs": [],
   "source": [
    "exp_bigrams = em.expected_transition_counts(parsed_corpus,parse_probs,trans,'bc')\n",
    "exp_unigrams = em.expected_state_counts(parsed_corpus,parse_probs,trans,'uc')"
   ]
  },
  {
   "cell_type": "code",
   "execution_count": null,
   "metadata": {
    "collapsed": false
   },
   "outputs": [],
   "source": [
    "for u in exp_unigrams:\n",
    "    print ('\\nExpected count of %s in each sentence:'%u)\n",
    "    for s in exp_unigrams[u]:\n",
    "        print (' %s: %.4f'%(s,exp_unigrams[u][s]))"
   ]
  },
  {
   "cell_type": "code",
   "execution_count": null,
   "metadata": {
    "collapsed": false
   },
   "outputs": [],
   "source": [
    "for a in exp_bigrams:\n",
    "    for b in exp_bigrams[a]:\n",
    "        print ('\\nExpected count of %s %s in each sentence:'%(a,b))\n",
    "        for s in exp_bigrams[a][b]:\n",
    "            print (' %s: %.4f'%(s,exp_bigrams[a][b][s]))"
   ]
  },
  {
   "cell_type": "code",
   "execution_count": null,
   "metadata": {
    "collapsed": false
   },
   "outputs": [],
   "source": [
    "exp_tr = em.expected_transition_counts(parsed_corpus,parse_probs,ops,'tc')\n",
    "exp_states = em.expected_state_counts(parsed_corpus,parse_probs,ops,'sc')"
   ]
  },
  {
   "cell_type": "code",
   "execution_count": null,
   "metadata": {
    "collapsed": false
   },
   "outputs": [],
   "source": [
    "for u in exp_states:\n",
    "    print ('\\nExpected count of %s in each sentence:'%u)\n",
    "    for s in exp_states[u]:\n",
    "        print (' %s: %.4f'%(s,exp_states[u][s]))"
   ]
  },
  {
   "cell_type": "code",
   "execution_count": null,
   "metadata": {
    "collapsed": false
   },
   "outputs": [],
   "source": [
    "for a in exp_tr:\n",
    "    for (b,e) in exp_tr[a]:\n",
    "        print ('\\nExpected count of (%s %s %s) in each sentence:'%(a,e,b))\n",
    "        for s in exp_tr[a][(b,e)]:\n",
    "            print (' %s: %.4f'%(s,exp_tr[a][(b,e)][s]))"
   ]
  },
  {
   "cell_type": "code",
   "execution_count": null,
   "metadata": {
    "collapsed": false
   },
   "outputs": [],
   "source": [
    "new_ops = em.update(exp_states,exp_tr,ops)"
   ]
  },
  {
   "cell_type": "code",
   "execution_count": null,
   "metadata": {
    "collapsed": false
   },
   "outputs": [],
   "source": [
    "print (markhov.fsa2string(new_ops,False)) # False prints the non-log probs"
   ]
  },
  {
   "cell_type": "code",
   "execution_count": null,
   "metadata": {
    "collapsed": false
   },
   "outputs": [],
   "source": [
    "em.check_fsa(new_ops) # is this a valid probability distribution?"
   ]
  },
  {
   "cell_type": "code",
   "execution_count": null,
   "metadata": {
    "collapsed": false,
    "scrolled": true
   },
   "outputs": [],
   "source": [
    "em.smooth(new_ops,0.01)"
   ]
  },
  {
   "cell_type": "code",
   "execution_count": null,
   "metadata": {
    "collapsed": false
   },
   "outputs": [],
   "source": [
    "new_trans = em.update(exp_unigrams,exp_bigrams,trans)"
   ]
  },
  {
   "cell_type": "code",
   "execution_count": null,
   "metadata": {
    "collapsed": false
   },
   "outputs": [],
   "source": [
    "print (markhov.fsa2string(new_trans))"
   ]
  },
  {
   "cell_type": "code",
   "execution_count": null,
   "metadata": {
    "collapsed": false
   },
   "outputs": [],
   "source": [
    "em.check_fsa(new_trans) # check this is a valid probability distribution"
   ]
  },
  {
   "cell_type": "code",
   "execution_count": null,
   "metadata": {
    "collapsed": false,
    "scrolled": true
   },
   "outputs": [],
   "source": [
    "reload(em)"
   ]
  },
  {
   "cell_type": "code",
   "execution_count": null,
   "metadata": {
    "collapsed": false
   },
   "outputs": [],
   "source": [
    "em.smooth(new_trans,0.01)"
   ]
  },
  {
   "cell_type": "markdown",
   "metadata": {},
   "source": [
    "## Expectation Maximisation time!"
   ]
  },
  {
   "cell_type": "code",
   "execution_count": null,
   "metadata": {
    "collapsed": true
   },
   "outputs": [],
   "source": [
    "n = 10 # number of EM iterations to do"
   ]
  },
  {
   "cell_type": "code",
   "execution_count": null,
   "metadata": {
    "collapsed": false
   },
   "outputs": [],
   "source": [
    "history,corpus=em.em(aaa,trans,ops,n) # run EM\n"
   ]
  },
  {
   "cell_type": "code",
   "execution_count": null,
   "metadata": {
    "collapsed": false
   },
   "outputs": [],
   "source": [
    "#for i,step in enumerate(history):\n",
    "#    print ('\\n--------\\n--------\\nIteration %i'%i)\n",
    "#    print ('FSA:')\n",
    "#    print (markhov.fsa2string(step['fsa']))\n",
    "#    print ('\\n------\\nTrans probs:')\n",
    "#    print (markhov.trans2string(step['trans_probs']))"
   ]
  },
  {
   "cell_type": "markdown",
   "metadata": {},
   "source": [
    "Display the results"
   ]
  },
  {
   "cell_type": "code",
   "execution_count": null,
   "metadata": {
    "collapsed": false
   },
   "outputs": [],
   "source": [
    "df_ops=pandas_functions.ops_table(history,ops)\n",
    "df_ops"
   ]
  },
  {
   "cell_type": "code",
   "execution_count": null,
   "metadata": {
    "collapsed": true
   },
   "outputs": [],
   "source": [
    "df_ops.to_csv('ops_%s.csv'%('oct_22_2016_aaa')) # print to file"
   ]
  },
  {
   "cell_type": "code",
   "execution_count": null,
   "metadata": {
    "collapsed": false
   },
   "outputs": [],
   "source": [
    "ncol,_ = df_ops.shape\n",
    "colors = get_colors(ncol)\n",
    "for i,row in df_ops.iterrows():\n",
    "    col = colors[i]\n",
    "    plot(range(n),[ row[\"p.iteration%03d\"%i] for i in range(n) ],'-',color=col,label=row[\" rule\"])\n",
    "legend()\n",
    "xlim(-.5,n+15)\n",
    "xlabel(\"Iteration\")\n",
    "ylabel(\"Rule probability (log)\")"
   ]
  },
  {
   "cell_type": "markdown",
   "metadata": {},
   "source": [
    "Same for the transitions"
   ]
  },
  {
   "cell_type": "code",
   "execution_count": null,
   "metadata": {
    "collapsed": false,
    "scrolled": true
   },
   "outputs": [],
   "source": [
    "df_bis=pandas_functions.trans_probs_table(history,trans)\n",
    "df_bis"
   ]
  },
  {
   "cell_type": "code",
   "execution_count": null,
   "metadata": {
    "collapsed": true
   },
   "outputs": [],
   "source": [
    "df_bis.to_csv('trans_%s.csv'%('oct_22_2016_aaa'))"
   ]
  },
  {
   "cell_type": "markdown",
   "metadata": {},
   "source": [
    "### Calculate the log likelihood of the corpus given the trained grammar\n",
    "\n",
    "This is the ll of the corpus at the end of training:"
   ]
  },
  {
   "cell_type": "code",
   "execution_count": null,
   "metadata": {
    "collapsed": false
   },
   "outputs": [],
   "source": [
    "em.ll_corpus(parsed_corpus,history[-1]['trans_probs'],history[-1]['fsa'])"
   ]
  },
  {
   "cell_type": "markdown",
   "metadata": {},
   "source": [
    "Make a dataframe of the LL of the corpus throughout training:"
   ]
  },
  {
   "cell_type": "code",
   "execution_count": null,
   "metadata": {
    "collapsed": false,
    "scrolled": true
   },
   "outputs": [],
   "source": [
    "df_lls=pandas_functions.ll_corpus_table(history)\n",
    "df_lls"
   ]
  },
  {
   "cell_type": "code",
   "execution_count": null,
   "metadata": {
    "collapsed": false,
    "scrolled": false
   },
   "outputs": [],
   "source": [
    "plot(df_lls[\"iteration\"],df_lls[\"likelihood\"],'o-')\n",
    "xlabel(\"Iteration\")\n",
    "ylabel(\"Log Likelihood\")"
   ]
  },
  {
   "cell_type": "markdown",
   "metadata": {},
   "source": [
    "Look at the changing relative probabilities of the parses"
   ]
  },
  {
   "cell_type": "code",
   "execution_count": null,
   "metadata": {
    "collapsed": false,
    "scrolled": false
   },
   "outputs": [],
   "source": []
  },
  {
   "cell_type": "code",
   "execution_count": null,
   "metadata": {
    "collapsed": false
   },
   "outputs": [],
   "source": [
    "df_parses=pandas_functions.p_parses_table(parsed_corpus,history)\n",
    "df_parses"
   ]
  },
  {
   "cell_type": "code",
   "execution_count": null,
   "metadata": {
    "collapsed": false,
    "scrolled": false
   },
   "outputs": [],
   "source": [
    "reload(em)\n",
    "reload(pandas_functions)"
   ]
  },
  {
   "cell_type": "code",
   "execution_count": null,
   "metadata": {
    "collapsed": true
   },
   "outputs": [],
   "source": [
    "sc=0.01 # smoothing constant"
   ]
  },
  {
   "cell_type": "code",
   "execution_count": null,
   "metadata": {
    "collapsed": false,
    "scrolled": true
   },
   "outputs": [],
   "source": [
    "ll_test,parsed_train,parsed_test,history = em.em_train(aaa,aaaa,trans,ops,n,sc)"
   ]
  },
  {
   "cell_type": "code",
   "execution_count": null,
   "metadata": {
    "collapsed": false
   },
   "outputs": [],
   "source": [
    "df_test = pandas_functions.ll_table(history)\n",
    "df_test"
   ]
  },
  {
   "cell_type": "code",
   "execution_count": null,
   "metadata": {
    "collapsed": false,
    "scrolled": false
   },
   "outputs": [],
   "source": [
    "compare = em.compare(aaaa,bbbb,trans,ops,ops_nc,10)"
   ]
  },
  {
   "cell_type": "code",
   "execution_count": null,
   "metadata": {
    "collapsed": false
   },
   "outputs": [],
   "source": [
    "print ('LL test corpus, Copy grammar:\\t%.3f'%compare[0][0])\n",
    "print ('LL test corpus, No-Copy grammar:%.3f'%compare[1][0])"
   ]
  },
  {
   "cell_type": "code",
   "execution_count": null,
   "metadata": {
    "collapsed": false
   },
   "outputs": [],
   "source": [
    "df_copy = pandas_functions.ll_table(compare[0][1])\n",
    "df_no_copy =pandas_functions.ll_table(compare[1][1])"
   ]
  },
  {
   "cell_type": "code",
   "execution_count": null,
   "metadata": {
    "collapsed": false
   },
   "outputs": [],
   "source": [
    "df_copy"
   ]
  },
  {
   "cell_type": "code",
   "execution_count": null,
   "metadata": {
    "collapsed": false
   },
   "outputs": [],
   "source": [
    "df_no_copy"
   ]
  },
  {
   "cell_type": "code",
   "execution_count": null,
   "metadata": {
    "collapsed": false
   },
   "outputs": [],
   "source": [
    "bbbb=['b','b b','b b b','b b b b','b b b b b']\n",
    "\n",
    "asbs = ['a b','b a','a a b', 'b b a','a b a b a b']\n",
    "\n",
    "ab=aaaa+bbbb\n",
    "\n",
    "for s in ab:\n",
    "    print (s)"
   ]
  },
  {
   "cell_type": "code",
   "execution_count": null,
   "metadata": {
    "collapsed": false,
    "scrolled": true
   },
   "outputs": [],
   "source": [
    "n=10\n",
    "w = 2\n",
    "sc=0.01\n",
    "window = em.windows(ab,trans,ops,ops_nc,n,w,sc)"
   ]
  },
  {
   "cell_type": "code",
   "execution_count": null,
   "metadata": {
    "collapsed": false
   },
   "outputs": [],
   "source": [
    "reload(em)"
   ]
  },
  {
   "cell_type": "code",
   "execution_count": null,
   "metadata": {
    "collapsed": false,
    "scrolled": false
   },
   "outputs": [],
   "source": [
    "window[0][1][0][1][0]['fsa']"
   ]
  },
  {
   "cell_type": "code",
   "execution_count": null,
   "metadata": {
    "collapsed": true
   },
   "outputs": [],
   "source": []
  }
 ],
 "metadata": {
  "anaconda-cloud": {},
  "kernelspec": {
   "display_name": "Python [Root]",
   "language": "python",
   "name": "Python [Root]"
  },
  "language_info": {
   "codemirror_mode": {
    "name": "ipython",
    "version": 2
   },
   "file_extension": ".py",
   "mimetype": "text/x-python",
   "name": "python",
   "nbconvert_exporter": "python",
   "pygments_lexer": "ipython2",
   "version": "2.7.12"
  }
 },
 "nbformat": 4,
 "nbformat_minor": 0
}
