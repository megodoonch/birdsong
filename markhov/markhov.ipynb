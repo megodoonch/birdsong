{
 "cells": [
  {
   "cell_type": "code",
   "execution_count": 212,
   "metadata": {
    "collapsed": false
   },
   "outputs": [
    {
     "name": "stdout",
     "output_type": "stream",
     "text": [
      "Populating the interactive namespace from numpy and matplotlib\n"
     ]
    },
    {
     "name": "stderr",
     "output_type": "stream",
     "text": [
      "WARNING: pylab import has clobbered these variables: ['draw_if_interactive', 'new_figure_manager', 'e']\n",
      "`%matplotlib` prevents importing * from pylab and numpy\n"
     ]
    }
   ],
   "source": [
    "import markhov\n",
    "import em\n",
    "import pandas_functions\n",
    "import numpy as np\n",
    "import pandas as pd\n",
    "from florisplotlib import *\n",
    "%pylab inline"
   ]
  },
  {
   "cell_type": "markdown",
   "metadata": {},
   "source": [
    "# Demonstrating EM\n",
    "\n",
    "Here we demonstrate the use and behaviour of the various functions in our expectation maximisation algorithm for learning rule probagbilities for a two-part grammar made up of a finite state automaton that generates strings of operations and a bigram grammar of legal transitions for the operation Merge."
   ]
  },
  {
   "cell_type": "markdown",
   "metadata": {},
   "source": [
    "### Get set up"
   ]
  },
  {
   "cell_type": "markdown",
   "metadata": {},
   "source": [
    "Some functions for log-transforming the grammar"
   ]
  },
  {
   "cell_type": "markdown",
   "metadata": {},
   "source": [
    "Make some transitions"
   ]
  },
  {
   "cell_type": "code",
   "execution_count": 59,
   "metadata": {
    "collapsed": true
   },
   "outputs": [],
   "source": [
    "trans = {'a':['a','b'],\n",
    "           'b':['b','a'],\n",
    "           '[':['a','b']\n",
    "       }\n"
   ]
  },
  {
   "cell_type": "code",
   "execution_count": 60,
   "metadata": {
    "collapsed": false
   },
   "outputs": [],
   "source": [
    "trans_probs = {'a':{'a':0.5,'b':0.5},\n",
    "           'b':{'b':0.5,'a':0.5},\n",
    "           '[':{'a':0.5,'b':0.5}\n",
    "       }\n",
    "\n",
    "trans_probs=markhov.fsa_log(trans_probs)"
   ]
  },
  {
   "cell_type": "markdown",
   "metadata": {},
   "source": [
    "Operations FSA"
   ]
  },
  {
   "cell_type": "code",
   "execution_count": 141,
   "metadata": {
    "collapsed": true
   },
   "outputs": [],
   "source": [
    "ops = {'S':[('NotCL','mg')], # from start we have to merge\n",
    "       'NotCL':[('NotCL','mg'),('NotCL','copy'), # this state is the state in which the last \"special\" operation was *not* Clear. Either we've done none or the last was copy. From here we can do everything including end\n",
    "               ('CLEAR_S','clear'), # go here to clear the buffer\n",
    "               ('F','end') # go here to end\n",
    "           ],\n",
    "       'CLEAR_S':[('CLEAR','mg')], # this is where we've just cleared. Buffer is empty so you can only Merge\n",
    "       'CLEAR':[('CLEAR','mg'), # the last special op was Clear so we can Copy or Merge.\n",
    "                ('NotCL','copy') # if we Copy, the last special op was Copy so go to NotCL\n",
    "            ],\n",
    "       'F':[] #final state\n",
    "   }\n",
    "\n",
    "# no copy\n",
    "ops_nc = {'S':[('S','mg'),('F','end')],\n",
    "          'F':[]}"
   ]
  },
  {
   "cell_type": "code",
   "execution_count": 62,
   "metadata": {
    "collapsed": true
   },
   "outputs": [],
   "source": [
    "ops_probs=em.initialise(ops)"
   ]
  },
  {
   "cell_type": "markdown",
   "metadata": {
    "collapsed": false
   },
   "source": [
    "Corpora"
   ]
  },
  {
   "cell_type": "code",
   "execution_count": 136,
   "metadata": {
    "collapsed": false
   },
   "outputs": [],
   "source": [
    "aaa = ['a','a a','a a a']\n",
    "aaaa=aaa+['a a a a','a a a a a']"
   ]
  },
  {
   "cell_type": "markdown",
   "metadata": {},
   "source": [
    "### Parse a sentence"
   ]
  },
  {
   "cell_type": "code",
   "execution_count": 64,
   "metadata": {
    "collapsed": true
   },
   "outputs": [],
   "source": [
    "s=aaa[-1]"
   ]
  },
  {
   "cell_type": "code",
   "execution_count": 65,
   "metadata": {
    "collapsed": false
   },
   "outputs": [],
   "source": [
    "parses=markhov.parse(s,trans,ops)"
   ]
  },
  {
   "cell_type": "code",
   "execution_count": 66,
   "metadata": {
    "collapsed": false
   },
   "outputs": [
    {
     "name": "stdout",
     "output_type": "stream",
     "text": [
      "\n",
      "bigrams: [ a a a\n",
      "buffer: a a a\n",
      "op states: S NotCL NotCL NotCL F\n",
      "operations: mg mg mg end\n",
      "k: 3\n",
      "\n",
      "bigrams: [ a a\n",
      "buffer: a a a\n",
      "op states: S NotCL NotCL NotCL F\n",
      "operations: mg copy mg end\n",
      "k: 3\n",
      "\n",
      "bigrams: [ a a\n",
      "buffer: a a\n",
      "op states: S NotCL CLEAR_S CLEAR NotCL F\n",
      "operations: mg clear mg copy end\n",
      "k: 3\n"
     ]
    }
   ],
   "source": [
    "for i in range(len(parses)):\n",
    "    print(markhov.parse2string(parses[i]))"
   ]
  },
  {
   "cell_type": "markdown",
   "metadata": {},
   "source": [
    "### Parse the corpus"
   ]
  },
  {
   "cell_type": "code",
   "execution_count": 67,
   "metadata": {
    "collapsed": false
   },
   "outputs": [],
   "source": [
    "parsed_corpus=em.parse_corpus(aaa,trans,ops)"
   ]
  },
  {
   "cell_type": "code",
   "execution_count": 68,
   "metadata": {
    "collapsed": false
   },
   "outputs": [
    {
     "name": "stdout",
     "output_type": "stream",
     "text": [
      "\n",
      "Parse 0:\n",
      "Sentence: 0\n",
      "bigrams: [ a\n",
      "Q: S NotCL F\n",
      "E: mg end\n",
      "SC:\n",
      "  S 1\n",
      "  F 1\n",
      "  NotCL 1\n",
      "TC:\n",
      "  S mg NotCL 1\n",
      "  NotCL end F 1\n",
      "UC:\n",
      "  [ 1\n",
      "BC:\n",
      "  [ a 1\n",
      "\n",
      "Parse 1:\n",
      "Sentence: 1\n",
      "bigrams: [ a a\n",
      "Q: S NotCL NotCL F\n",
      "E: mg mg end\n",
      "SC:\n",
      "  S 1\n",
      "  F 1\n",
      "  NotCL 2\n",
      "TC:\n",
      "  NotCL mg NotCL 1\n",
      "  S mg NotCL 1\n",
      "  NotCL end F 1\n",
      "UC:\n",
      "  a 1\n",
      "  [ 1\n",
      "BC:\n",
      "  [ a 1\n",
      "  a a 1\n",
      "\n",
      "Parse 2:\n",
      "Sentence: 1\n",
      "bigrams: [ a\n",
      "Q: S NotCL NotCL F\n",
      "E: mg copy end\n",
      "SC:\n",
      "  S 1\n",
      "  F 1\n",
      "  NotCL 2\n",
      "TC:\n",
      "  S mg NotCL 1\n",
      "  NotCL end F 1\n",
      "  NotCL copy NotCL 1\n",
      "UC:\n",
      "  [ 1\n",
      "BC:\n",
      "  [ a 1\n",
      "\n",
      "Parse 3:\n",
      "Sentence: 2\n",
      "bigrams: [ a a a\n",
      "Q: S NotCL NotCL NotCL F\n",
      "E: mg mg mg end\n",
      "SC:\n",
      "  S 1\n",
      "  F 1\n",
      "  NotCL 3\n",
      "TC:\n",
      "  NotCL mg NotCL 2\n",
      "  S mg NotCL 1\n",
      "  NotCL end F 1\n",
      "UC:\n",
      "  a 2\n",
      "  [ 1\n",
      "BC:\n",
      "  [ a 1\n",
      "  a a 2\n",
      "\n",
      "Parse 4:\n",
      "Sentence: 2\n",
      "bigrams: [ a a\n",
      "Q: S NotCL NotCL NotCL F\n",
      "E: mg copy mg end\n",
      "SC:\n",
      "  S 1\n",
      "  F 1\n",
      "  NotCL 3\n",
      "TC:\n",
      "  NotCL mg NotCL 1\n",
      "  S mg NotCL 1\n",
      "  NotCL end F 1\n",
      "  NotCL copy NotCL 1\n",
      "UC:\n",
      "  a 1\n",
      "  [ 1\n",
      "BC:\n",
      "  [ a 1\n",
      "  a a 1\n",
      "\n",
      "Parse 5:\n",
      "Sentence: 2\n",
      "bigrams: [ a a\n",
      "Q: S NotCL CLEAR_S CLEAR NotCL F\n",
      "E: mg clear mg copy end\n",
      "SC:\n",
      "  S 1\n",
      "  F 1\n",
      "  CLEAR 1\n",
      "  CLEAR_S 1\n",
      "  NotCL 2\n",
      "TC:\n",
      "  CLEAR_S mg CLEAR 1\n",
      "  S mg NotCL 1\n",
      "  NotCL end F 1\n",
      "  NotCL clear CLEAR_S 1\n",
      "  CLEAR copy NotCL 1\n",
      "UC:\n",
      "  a 1\n",
      "  [ 1\n",
      "BC:\n",
      "  [ a 1\n",
      "  a a 1\n",
      "\n"
     ]
    }
   ],
   "source": [
    "print(em.parsed_corpus2string(parsed_corpus))"
   ]
  },
  {
   "cell_type": "markdown",
   "metadata": {},
   "source": [
    "Make a parallel list of parse relative probabilities"
   ]
  },
  {
   "cell_type": "code",
   "execution_count": 69,
   "metadata": {
    "collapsed": false
   },
   "outputs": [],
   "source": [
    "parse_probs=em.get_p_parses(parsed_corpus,ops_probs,trans_probs)"
   ]
  },
  {
   "cell_type": "code",
   "execution_count": 70,
   "metadata": {
    "collapsed": false
   },
   "outputs": [
    {
     "name": "stdout",
     "output_type": "stream",
     "text": [
      "[1.0, 0.98465847043692245, 0.015341529563077239, 0.87108904807268661, 0.013572054457775594, 0.11533889746953735]\n"
     ]
    }
   ],
   "source": [
    "print(parse_probs)"
   ]
  },
  {
   "cell_type": "code",
   "execution_count": 71,
   "metadata": {
    "collapsed": false
   },
   "outputs": [],
   "source": [
    "exp_bigrams = em.expected_transition_counts(parsed_corpus,parse_probs,trans,'bc')\n",
    "exp_unigrams = em.expected_state_counts(parsed_corpus,parse_probs,trans,'uc')"
   ]
  },
  {
   "cell_type": "code",
   "execution_count": 72,
   "metadata": {
    "collapsed": false
   },
   "outputs": [
    {
     "name": "stdout",
     "output_type": "stream",
     "text": [
      "\n",
      "Expected count of a in each sentence:\n",
      " 0: 0.0000\n",
      " 1: 0.9847\n",
      " 2: 1.8711\n",
      "\n",
      "Expected count of [ in each sentence:\n",
      " 0: 1.0000\n",
      " 1: 1.0000\n",
      " 2: 1.0000\n",
      "\n",
      "Expected count of b in each sentence:\n",
      " 0: 0.0000\n",
      " 1: 0.0000\n",
      " 2: 0.0000\n"
     ]
    }
   ],
   "source": [
    "for u in exp_unigrams:\n",
    "    print ('\\nExpected count of %s in each sentence:'%u)\n",
    "    for s in exp_unigrams[u]:\n",
    "        print (' %s: %.4f'%(s,exp_unigrams[u][s]))"
   ]
  },
  {
   "cell_type": "code",
   "execution_count": 73,
   "metadata": {
    "collapsed": false
   },
   "outputs": [
    {
     "name": "stdout",
     "output_type": "stream",
     "text": [
      "\n",
      "Expected count of a a in each sentence:\n",
      " 0: 0.0000\n",
      " 1: 0.9847\n",
      " 2: 1.8711\n",
      "\n",
      "Expected count of a b in each sentence:\n",
      " 0: 0.0000\n",
      " 1: 0.0000\n",
      " 2: 0.0000\n",
      "\n",
      "Expected count of [ a in each sentence:\n",
      " 0: 1.0000\n",
      " 1: 1.0000\n",
      " 2: 1.0000\n",
      "\n",
      "Expected count of [ b in each sentence:\n",
      " 0: 0.0000\n",
      " 1: 0.0000\n",
      " 2: 0.0000\n",
      "\n",
      "Expected count of b a in each sentence:\n",
      " 0: 0.0000\n",
      " 1: 0.0000\n",
      " 2: 0.0000\n",
      "\n",
      "Expected count of b b in each sentence:\n",
      " 0: 0.0000\n",
      " 1: 0.0000\n",
      " 2: 0.0000\n"
     ]
    }
   ],
   "source": [
    "for a in exp_bigrams:\n",
    "    for b in exp_bigrams[a]:\n",
    "        print ('\\nExpected count of %s %s in each sentence:'%(a,b))\n",
    "        for s in exp_bigrams[a][b]:\n",
    "            print (' %s: %.4f'%(s,exp_bigrams[a][b][s]))"
   ]
  },
  {
   "cell_type": "code",
   "execution_count": 74,
   "metadata": {
    "collapsed": false
   },
   "outputs": [],
   "source": [
    "exp_tr = em.expected_transition_counts(parsed_corpus,parse_probs,ops,'tc')\n",
    "exp_states = em.expected_state_counts(parsed_corpus,parse_probs,ops,'sc')"
   ]
  },
  {
   "cell_type": "code",
   "execution_count": 75,
   "metadata": {
    "collapsed": false
   },
   "outputs": [
    {
     "name": "stdout",
     "output_type": "stream",
     "text": [
      "\n",
      "Expected count of S in each sentence:\n",
      " 0: 1.0000\n",
      " 1: 1.0000\n",
      " 2: 1.0000\n",
      "\n",
      "Expected count of NotCL in each sentence:\n",
      " 0: 1.0000\n",
      " 1: 2.0000\n",
      " 2: 2.8847\n",
      "\n",
      "Expected count of CLEAR_S in each sentence:\n",
      " 0: 0.0000\n",
      " 1: 0.0000\n",
      " 2: 0.1153\n",
      "\n",
      "Expected count of CLEAR in each sentence:\n",
      " 0: 0.0000\n",
      " 1: 0.0000\n",
      " 2: 0.1153\n",
      "\n",
      "Expected count of F in each sentence:\n",
      " 0: 1.0000\n",
      " 1: 1.0000\n",
      " 2: 1.0000\n"
     ]
    }
   ],
   "source": [
    "for u in exp_states:\n",
    "    print ('\\nExpected count of %s in each sentence:'%u)\n",
    "    for s in exp_states[u]:\n",
    "        print (' %s: %.4f'%(s,exp_states[u][s]))"
   ]
  },
  {
   "cell_type": "code",
   "execution_count": 76,
   "metadata": {
    "collapsed": false
   },
   "outputs": [
    {
     "name": "stdout",
     "output_type": "stream",
     "text": [
      "\n",
      "Expected count of (S mg NotCL) in each sentence:\n",
      " 0: 1.0000\n",
      " 1: 1.0000\n",
      " 2: 1.0000\n",
      "\n",
      "Expected count of (NotCL end F) in each sentence:\n",
      " 0: 1.0000\n",
      " 1: 1.0000\n",
      " 2: 1.0000\n",
      "\n",
      "Expected count of (NotCL copy NotCL) in each sentence:\n",
      " 0: 0.0000\n",
      " 1: 0.0153\n",
      " 2: 0.0136\n",
      "\n",
      "Expected count of (NotCL mg NotCL) in each sentence:\n",
      " 0: 0.0000\n",
      " 1: 0.9847\n",
      " 2: 1.7558\n",
      "\n",
      "Expected count of (NotCL clear CLEAR_S) in each sentence:\n",
      " 0: 0.0000\n",
      " 1: 0.0000\n",
      " 2: 0.1153\n",
      "\n",
      "Expected count of (CLEAR_S mg CLEAR) in each sentence:\n",
      " 0: 0.0000\n",
      " 1: 0.0000\n",
      " 2: 0.1153\n",
      "\n",
      "Expected count of (CLEAR copy NotCL) in each sentence:\n",
      " 0: 0.0000\n",
      " 1: 0.0000\n",
      " 2: 0.1153\n",
      "\n",
      "Expected count of (CLEAR mg CLEAR) in each sentence:\n",
      " 0: 0.0000\n",
      " 1: 0.0000\n",
      " 2: 0.0000\n"
     ]
    }
   ],
   "source": [
    "for a in exp_tr:\n",
    "    for (b,e) in exp_tr[a]:\n",
    "        print ('\\nExpected count of (%s %s %s) in each sentence:'%(a,e,b))\n",
    "        for s in exp_tr[a][(b,e)]:\n",
    "            print (' %s: %.4f'%(s,exp_tr[a][(b,e)][s]))"
   ]
  },
  {
   "cell_type": "code",
   "execution_count": 86,
   "metadata": {
    "collapsed": false
   },
   "outputs": [],
   "source": [
    "new_ops = em.update(exp_states,exp_tr,ops)"
   ]
  },
  {
   "cell_type": "code",
   "execution_count": 87,
   "metadata": {
    "collapsed": false
   },
   "outputs": [
    {
     "name": "stdout",
     "output_type": "stream",
     "text": [
      "\n",
      "\n",
      "S\n",
      "  NotCL mg\t1.00\n",
      "\n",
      "NotCL\n",
      "  F end\t0.51\n",
      "  NotCL copy\t0.00\n",
      "  NotCL mg\t0.47\n",
      "  CLEAR_S clear\t0.02\n",
      "\n",
      "CLEAR_S\n",
      "  CLEAR mg\t1.00\n",
      "\n",
      "CLEAR\n",
      "  NotCL copy\t1.00\n",
      "  CLEAR mg\t0.00\n",
      "\n",
      "F\n"
     ]
    }
   ],
   "source": [
    "print (markhov.fsa2string(new_ops,False)) # False prints the non-log probs"
   ]
  },
  {
   "cell_type": "code",
   "execution_count": 98,
   "metadata": {
    "collapsed": false
   },
   "outputs": [
    {
     "data": {
      "text/plain": [
       "True"
      ]
     },
     "execution_count": 98,
     "metadata": {},
     "output_type": "execute_result"
    }
   ],
   "source": [
    "em.check_fsa(new_ops) # is this a valid probability distribution?"
   ]
  },
  {
   "cell_type": "code",
   "execution_count": 103,
   "metadata": {
    "collapsed": false,
    "scrolled": true
   },
   "outputs": [
    {
     "name": "stdout",
     "output_type": "stream",
     "text": [
      "{}\n"
     ]
    },
    {
     "data": {
      "text/plain": [
       "{'CLEAR': {('CLEAR', 'mg'): -5.2983173665480363,\n",
       "  ('NotCL', 'copy'): -0.0050125418235443695},\n",
       " 'CLEAR_S': {('CLEAR', 'mg'): 5.5511151231257827e-17},\n",
       " 'F': {},\n",
       " 'NotCL': {('CLEAR_S', 'clear'): -3.8210895445546367,\n",
       "  ('F', 'end'): -0.67884600896123126,\n",
       "  ('NotCL', 'copy'): -4.9111184038561202,\n",
       "  ('NotCL', 'mg'): -0.76888445463787891},\n",
       " 'S': {('NotCL', 'mg'): 5.5511151231257827e-17}}"
      ]
     },
     "execution_count": 103,
     "metadata": {},
     "output_type": "execute_result"
    }
   ],
   "source": [
    "em.smooth(new_ops,0.01)"
   ]
  },
  {
   "cell_type": "code",
   "execution_count": 89,
   "metadata": {
    "collapsed": false
   },
   "outputs": [],
   "source": [
    "new_trans = em.update(exp_unigrams,exp_bigrams,trans)"
   ]
  },
  {
   "cell_type": "code",
   "execution_count": 90,
   "metadata": {
    "collapsed": false
   },
   "outputs": [
    {
     "name": "stdout",
     "output_type": "stream",
     "text": [
      "\n",
      "\n",
      "a\n",
      "  a\t0.00\n",
      "  b\t-inf\n",
      "\n",
      "[\n",
      "  a\t0.00\n",
      "  b\t-inf\n",
      "\n",
      "b\n",
      "  a\t-0.69\n",
      "  b\t-0.69\n"
     ]
    }
   ],
   "source": [
    "print (markhov.fsa2string(new_trans))"
   ]
  },
  {
   "cell_type": "code",
   "execution_count": 91,
   "metadata": {
    "collapsed": false
   },
   "outputs": [
    {
     "data": {
      "text/plain": [
       "True"
      ]
     },
     "execution_count": 91,
     "metadata": {},
     "output_type": "execute_result"
    }
   ],
   "source": [
    "em.check_fsa(new_trans) # check this is a valid probability distribution"
   ]
  },
  {
   "cell_type": "code",
   "execution_count": 104,
   "metadata": {
    "collapsed": false,
    "scrolled": true
   },
   "outputs": [
    {
     "data": {
      "text/plain": [
       "<module 'em' from 'em.py'>"
      ]
     },
     "execution_count": 104,
     "metadata": {},
     "output_type": "execute_result"
    }
   ],
   "source": [
    "reload(em)"
   ]
  },
  {
   "cell_type": "code",
   "execution_count": 97,
   "metadata": {
    "collapsed": false
   },
   "outputs": [
    {
     "name": "stdout",
     "output_type": "stream",
     "text": [
      "{'a': -0.0050125418235443695, 'b': -5.2983173665480363}\n",
      "{'a': -0.0050125418235443695, 'b': -5.2983173665480363}\n",
      "{'a': -0.69314718055994529, 'b': -0.69314718055994529}\n"
     ]
    },
    {
     "data": {
      "text/plain": [
       "{'[': {'a': -0.0050125418235443695, 'b': -5.2983173665480363},\n",
       " 'a': {'a': -0.0050125418235443695, 'b': -5.2983173665480363},\n",
       " 'b': {'a': -0.69314718055994529, 'b': -0.69314718055994529}}"
      ]
     },
     "execution_count": 97,
     "metadata": {},
     "output_type": "execute_result"
    }
   ],
   "source": [
    "em.smooth(new_trans,0.01)"
   ]
  },
  {
   "cell_type": "markdown",
   "metadata": {},
   "source": [
    "## Expectation Maximisation time!"
   ]
  },
  {
   "cell_type": "code",
   "execution_count": 267,
   "metadata": {
    "collapsed": true
   },
   "outputs": [],
   "source": [
    "n = 10 # number of EM iterations to do"
   ]
  },
  {
   "cell_type": "code",
   "execution_count": 276,
   "metadata": {
    "collapsed": false
   },
   "outputs": [],
   "source": [
    "history,corpus=em.em(aaa,trans,ops,n) # run EM\n"
   ]
  },
  {
   "cell_type": "code",
   "execution_count": 278,
   "metadata": {
    "collapsed": false
   },
   "outputs": [],
   "source": [
    "#for i,step in enumerate(history):\n",
    "#    print ('\\n--------\\n--------\\nIteration %i'%i)\n",
    "#    print ('FSA:')\n",
    "#    print (markhov.fsa2string(step['fsa']))\n",
    "#    print ('\\n------\\nTrans probs:')\n",
    "#    print (markhov.trans2string(step['trans_probs']))"
   ]
  },
  {
   "cell_type": "markdown",
   "metadata": {},
   "source": [
    "Display the results"
   ]
  },
  {
   "cell_type": "code",
   "execution_count": 279,
   "metadata": {
    "collapsed": false
   },
   "outputs": [
    {
     "data": {
      "text/html": [
       "<div>\n",
       "<table border=\"1\" class=\"dataframe\">\n",
       "  <thead>\n",
       "    <tr style=\"text-align: right;\">\n",
       "      <th></th>\n",
       "      <th>rule</th>\n",
       "      <th>p.iteration000</th>\n",
       "      <th>p.iteration001</th>\n",
       "      <th>p.iteration002</th>\n",
       "      <th>p.iteration003</th>\n",
       "      <th>p.iteration004</th>\n",
       "      <th>p.iteration005</th>\n",
       "      <th>p.iteration006</th>\n",
       "      <th>p.iteration007</th>\n",
       "      <th>p.iteration008</th>\n",
       "      <th>p.iteration009</th>\n",
       "      <th>p.iteration010</th>\n",
       "      <th>p.iteration011</th>\n",
       "    </tr>\n",
       "  </thead>\n",
       "  <tbody>\n",
       "    <tr>\n",
       "      <th>0</th>\n",
       "      <td>S-&gt;mg NotCL</td>\n",
       "      <td>0.000000</td>\n",
       "      <td>0.000000</td>\n",
       "      <td>0.000000</td>\n",
       "      <td>0.000000</td>\n",
       "      <td>0.000000</td>\n",
       "      <td>0.000000</td>\n",
       "      <td>0.000000</td>\n",
       "      <td>0.000000</td>\n",
       "      <td>0.000000</td>\n",
       "      <td>0.000000</td>\n",
       "      <td>0.000000</td>\n",
       "      <td>0.000000</td>\n",
       "    </tr>\n",
       "    <tr>\n",
       "      <th>1</th>\n",
       "      <td>CLEAR-&gt;mg CLEAR</td>\n",
       "      <td>-1.289243</td>\n",
       "      <td>-inf</td>\n",
       "      <td>-inf</td>\n",
       "      <td>-inf</td>\n",
       "      <td>-inf</td>\n",
       "      <td>-inf</td>\n",
       "      <td>-inf</td>\n",
       "      <td>-inf</td>\n",
       "      <td>-inf</td>\n",
       "      <td>-inf</td>\n",
       "      <td>-inf</td>\n",
       "      <td>-inf</td>\n",
       "    </tr>\n",
       "    <tr>\n",
       "      <th>2</th>\n",
       "      <td>CLEAR-&gt;copy NotCL</td>\n",
       "      <td>-0.322245</td>\n",
       "      <td>0.000000</td>\n",
       "      <td>0.000000</td>\n",
       "      <td>0.000000</td>\n",
       "      <td>0.000000</td>\n",
       "      <td>0.000000</td>\n",
       "      <td>0.000000</td>\n",
       "      <td>0.000000</td>\n",
       "      <td>0.000000</td>\n",
       "      <td>0.000000</td>\n",
       "      <td>0.000000</td>\n",
       "      <td>0.000000</td>\n",
       "    </tr>\n",
       "    <tr>\n",
       "      <th>3</th>\n",
       "      <td>CLEAR_S-&gt;mg CLEAR</td>\n",
       "      <td>0.000000</td>\n",
       "      <td>0.000000</td>\n",
       "      <td>0.000000</td>\n",
       "      <td>0.000000</td>\n",
       "      <td>0.000000</td>\n",
       "      <td>0.000000</td>\n",
       "      <td>0.000000</td>\n",
       "      <td>0.000000</td>\n",
       "      <td>0.000000</td>\n",
       "      <td>0.000000</td>\n",
       "      <td>0.000000</td>\n",
       "      <td>0.000000</td>\n",
       "    </tr>\n",
       "    <tr>\n",
       "      <th>4</th>\n",
       "      <td>NotCL-&gt;mg NotCL</td>\n",
       "      <td>-1.939126</td>\n",
       "      <td>-2.789772</td>\n",
       "      <td>-2.687231</td>\n",
       "      <td>-2.554356</td>\n",
       "      <td>-2.406219</td>\n",
       "      <td>-2.257223</td>\n",
       "      <td>-2.111620</td>\n",
       "      <td>-1.970846</td>\n",
       "      <td>-1.835598</td>\n",
       "      <td>-1.706345</td>\n",
       "      <td>-1.583443</td>\n",
       "      <td>-1.467187</td>\n",
       "    </tr>\n",
       "    <tr>\n",
       "      <th>5</th>\n",
       "      <td>NotCL-&gt;copy NotCL</td>\n",
       "      <td>-1.123411</td>\n",
       "      <td>-1.508473</td>\n",
       "      <td>-1.773973</td>\n",
       "      <td>-1.882266</td>\n",
       "      <td>-1.953380</td>\n",
       "      <td>-2.022689</td>\n",
       "      <td>-2.099876</td>\n",
       "      <td>-2.188534</td>\n",
       "      <td>-2.290799</td>\n",
       "      <td>-2.408435</td>\n",
       "      <td>-2.543076</td>\n",
       "      <td>-2.696268</td>\n",
       "    </tr>\n",
       "    <tr>\n",
       "      <th>6</th>\n",
       "      <td>NotCL-&gt;clear CLEAR_S</td>\n",
       "      <td>-1.523910</td>\n",
       "      <td>-1.931862</td>\n",
       "      <td>-1.743833</td>\n",
       "      <td>-1.714750</td>\n",
       "      <td>-1.722045</td>\n",
       "      <td>-1.740838</td>\n",
       "      <td>-1.766143</td>\n",
       "      <td>-1.797455</td>\n",
       "      <td>-1.835518</td>\n",
       "      <td>-1.881615</td>\n",
       "      <td>-1.937439</td>\n",
       "      <td>-2.005101</td>\n",
       "    </tr>\n",
       "    <tr>\n",
       "      <th>7</th>\n",
       "      <td>NotCL-&gt;end F</td>\n",
       "      <td>-1.161094</td>\n",
       "      <td>-0.557849</td>\n",
       "      <td>-0.532008</td>\n",
       "      <td>-0.527625</td>\n",
       "      <td>-0.528735</td>\n",
       "      <td>-0.531561</td>\n",
       "      <td>-0.535297</td>\n",
       "      <td>-0.539808</td>\n",
       "      <td>-0.545132</td>\n",
       "      <td>-0.551349</td>\n",
       "      <td>-0.558553</td>\n",
       "      <td>-0.566826</td>\n",
       "    </tr>\n",
       "  </tbody>\n",
       "</table>\n",
       "</div>"
      ],
      "text/plain": [
       "                   rule  p.iteration000  p.iteration001  p.iteration002  \\\n",
       "0           S->mg NotCL        0.000000        0.000000        0.000000   \n",
       "1       CLEAR->mg CLEAR       -1.289243            -inf            -inf   \n",
       "2     CLEAR->copy NotCL       -0.322245        0.000000        0.000000   \n",
       "3     CLEAR_S->mg CLEAR        0.000000        0.000000        0.000000   \n",
       "4       NotCL->mg NotCL       -1.939126       -2.789772       -2.687231   \n",
       "5     NotCL->copy NotCL       -1.123411       -1.508473       -1.773973   \n",
       "6  NotCL->clear CLEAR_S       -1.523910       -1.931862       -1.743833   \n",
       "7          NotCL->end F       -1.161094       -0.557849       -0.532008   \n",
       "\n",
       "   p.iteration003  p.iteration004  p.iteration005  p.iteration006  \\\n",
       "0        0.000000        0.000000        0.000000        0.000000   \n",
       "1            -inf            -inf            -inf            -inf   \n",
       "2        0.000000        0.000000        0.000000        0.000000   \n",
       "3        0.000000        0.000000        0.000000        0.000000   \n",
       "4       -2.554356       -2.406219       -2.257223       -2.111620   \n",
       "5       -1.882266       -1.953380       -2.022689       -2.099876   \n",
       "6       -1.714750       -1.722045       -1.740838       -1.766143   \n",
       "7       -0.527625       -0.528735       -0.531561       -0.535297   \n",
       "\n",
       "   p.iteration007  p.iteration008  p.iteration009  p.iteration010  \\\n",
       "0        0.000000        0.000000        0.000000        0.000000   \n",
       "1            -inf            -inf            -inf            -inf   \n",
       "2        0.000000        0.000000        0.000000        0.000000   \n",
       "3        0.000000        0.000000        0.000000        0.000000   \n",
       "4       -1.970846       -1.835598       -1.706345       -1.583443   \n",
       "5       -2.188534       -2.290799       -2.408435       -2.543076   \n",
       "6       -1.797455       -1.835518       -1.881615       -1.937439   \n",
       "7       -0.539808       -0.545132       -0.551349       -0.558553   \n",
       "\n",
       "   p.iteration011  \n",
       "0        0.000000  \n",
       "1            -inf  \n",
       "2        0.000000  \n",
       "3        0.000000  \n",
       "4       -1.467187  \n",
       "5       -2.696268  \n",
       "6       -2.005101  \n",
       "7       -0.566826  "
      ]
     },
     "execution_count": 279,
     "metadata": {},
     "output_type": "execute_result"
    }
   ],
   "source": [
    "df_ops=pandas_functions.ops_table(history,ops)\n",
    "df_ops"
   ]
  },
  {
   "cell_type": "code",
   "execution_count": 280,
   "metadata": {
    "collapsed": true
   },
   "outputs": [],
   "source": [
    "df_ops.to_csv('ops_%s.csv'%('oct_22_2016_aaa')) # print to file"
   ]
  },
  {
   "cell_type": "code",
   "execution_count": 281,
   "metadata": {
    "collapsed": false
   },
   "outputs": [
    {
     "data": {
      "text/plain": [
       "<matplotlib.text.Text at 0xa686b1cc>"
      ]
     },
     "execution_count": 281,
     "metadata": {},
     "output_type": "execute_result"
    },
    {
     "data": {
      "image/png": "[encoded data removed]",
      "text/plain": [
       "<matplotlib.figure.Figure at 0xa663356c>"
      ]
     },
     "metadata": {},
     "output_type": "display_data"
    }
   ],
   "source": [
    "ncol,_ = df_ops.shape\n",
    "colors = get_colors(ncol)\n",
    "for i,row in df_ops.iterrows():\n",
    "    col = colors[i]\n",
    "    plot(range(n),[ row[\"p.iteration%03d\"%i] for i in range(n) ],'-',color=col,label=row[\" rule\"])\n",
    "legend()\n",
    "xlim(-.5,n+15)\n",
    "xlabel(\"Iteration\")\n",
    "ylabel(\"Rule probability (log)\")"
   ]
  },
  {
   "cell_type": "markdown",
   "metadata": {},
   "source": [
    "Same for the transitions"
   ]
  },
  {
   "cell_type": "code",
   "execution_count": 282,
   "metadata": {
    "collapsed": false,
    "scrolled": true
   },
   "outputs": [
    {
     "data": {
      "text/html": [
       "<div>\n",
       "<table border=\"1\" class=\"dataframe\">\n",
       "  <thead>\n",
       "    <tr style=\"text-align: right;\">\n",
       "      <th></th>\n",
       "      <th>rule</th>\n",
       "      <th>p.iteration0</th>\n",
       "      <th>p.iteration1</th>\n",
       "      <th>p.iteration10</th>\n",
       "      <th>p.iteration11</th>\n",
       "      <th>p.iteration2</th>\n",
       "      <th>p.iteration3</th>\n",
       "      <th>p.iteration4</th>\n",
       "      <th>p.iteration5</th>\n",
       "      <th>p.iteration6</th>\n",
       "      <th>p.iteration7</th>\n",
       "      <th>p.iteration8</th>\n",
       "      <th>p.iteration9</th>\n",
       "    </tr>\n",
       "  </thead>\n",
       "  <tbody>\n",
       "    <tr>\n",
       "      <th>0</th>\n",
       "      <td>a,a</td>\n",
       "      <td>-1.842704</td>\n",
       "      <td>0.000000</td>\n",
       "      <td>0.000000</td>\n",
       "      <td>0.000000</td>\n",
       "      <td>0.000000</td>\n",
       "      <td>0.000000</td>\n",
       "      <td>0.000000</td>\n",
       "      <td>0.000000</td>\n",
       "      <td>0.000000</td>\n",
       "      <td>0.000000</td>\n",
       "      <td>0.000000</td>\n",
       "      <td>0.000000</td>\n",
       "    </tr>\n",
       "    <tr>\n",
       "      <th>1</th>\n",
       "      <td>a,b</td>\n",
       "      <td>-0.172437</td>\n",
       "      <td>-inf</td>\n",
       "      <td>-inf</td>\n",
       "      <td>-inf</td>\n",
       "      <td>-inf</td>\n",
       "      <td>-inf</td>\n",
       "      <td>-inf</td>\n",
       "      <td>-inf</td>\n",
       "      <td>-inf</td>\n",
       "      <td>-inf</td>\n",
       "      <td>-inf</td>\n",
       "      <td>-inf</td>\n",
       "    </tr>\n",
       "    <tr>\n",
       "      <th>2</th>\n",
       "      <td>[,a</td>\n",
       "      <td>-0.333825</td>\n",
       "      <td>0.000000</td>\n",
       "      <td>0.000000</td>\n",
       "      <td>0.000000</td>\n",
       "      <td>0.000000</td>\n",
       "      <td>0.000000</td>\n",
       "      <td>0.000000</td>\n",
       "      <td>0.000000</td>\n",
       "      <td>0.000000</td>\n",
       "      <td>0.000000</td>\n",
       "      <td>0.000000</td>\n",
       "      <td>0.000000</td>\n",
       "    </tr>\n",
       "    <tr>\n",
       "      <th>3</th>\n",
       "      <td>[,b</td>\n",
       "      <td>-1.259412</td>\n",
       "      <td>-inf</td>\n",
       "      <td>-inf</td>\n",
       "      <td>-inf</td>\n",
       "      <td>-inf</td>\n",
       "      <td>-inf</td>\n",
       "      <td>-inf</td>\n",
       "      <td>-inf</td>\n",
       "      <td>-inf</td>\n",
       "      <td>-inf</td>\n",
       "      <td>-inf</td>\n",
       "      <td>-inf</td>\n",
       "    </tr>\n",
       "    <tr>\n",
       "      <th>4</th>\n",
       "      <td>b,b</td>\n",
       "      <td>-0.376815</td>\n",
       "      <td>-0.693147</td>\n",
       "      <td>-0.693147</td>\n",
       "      <td>-0.693147</td>\n",
       "      <td>-0.693147</td>\n",
       "      <td>-0.693147</td>\n",
       "      <td>-0.693147</td>\n",
       "      <td>-0.693147</td>\n",
       "      <td>-0.693147</td>\n",
       "      <td>-0.693147</td>\n",
       "      <td>-0.693147</td>\n",
       "      <td>-0.693147</td>\n",
       "    </tr>\n",
       "    <tr>\n",
       "      <th>5</th>\n",
       "      <td>b,a</td>\n",
       "      <td>-1.158499</td>\n",
       "      <td>-0.693147</td>\n",
       "      <td>-0.693147</td>\n",
       "      <td>-0.693147</td>\n",
       "      <td>-0.693147</td>\n",
       "      <td>-0.693147</td>\n",
       "      <td>-0.693147</td>\n",
       "      <td>-0.693147</td>\n",
       "      <td>-0.693147</td>\n",
       "      <td>-0.693147</td>\n",
       "      <td>-0.693147</td>\n",
       "      <td>-0.693147</td>\n",
       "    </tr>\n",
       "  </tbody>\n",
       "</table>\n",
       "</div>"
      ],
      "text/plain": [
       "   rule  p.iteration0  p.iteration1  p.iteration10  p.iteration11  \\\n",
       "0   a,a     -1.842704      0.000000       0.000000       0.000000   \n",
       "1   a,b     -0.172437          -inf           -inf           -inf   \n",
       "2   [,a     -0.333825      0.000000       0.000000       0.000000   \n",
       "3   [,b     -1.259412          -inf           -inf           -inf   \n",
       "4   b,b     -0.376815     -0.693147      -0.693147      -0.693147   \n",
       "5   b,a     -1.158499     -0.693147      -0.693147      -0.693147   \n",
       "\n",
       "   p.iteration2  p.iteration3  p.iteration4  p.iteration5  p.iteration6  \\\n",
       "0      0.000000      0.000000      0.000000      0.000000      0.000000   \n",
       "1          -inf          -inf          -inf          -inf          -inf   \n",
       "2      0.000000      0.000000      0.000000      0.000000      0.000000   \n",
       "3          -inf          -inf          -inf          -inf          -inf   \n",
       "4     -0.693147     -0.693147     -0.693147     -0.693147     -0.693147   \n",
       "5     -0.693147     -0.693147     -0.693147     -0.693147     -0.693147   \n",
       "\n",
       "   p.iteration7  p.iteration8  p.iteration9  \n",
       "0      0.000000      0.000000      0.000000  \n",
       "1          -inf          -inf          -inf  \n",
       "2      0.000000      0.000000      0.000000  \n",
       "3          -inf          -inf          -inf  \n",
       "4     -0.693147     -0.693147     -0.693147  \n",
       "5     -0.693147     -0.693147     -0.693147  "
      ]
     },
     "execution_count": 282,
     "metadata": {},
     "output_type": "execute_result"
    }
   ],
   "source": [
    "df_bis=pandas_functions.trans_probs_table(history,trans)\n",
    "df_bis"
   ]
  },
  {
   "cell_type": "code",
   "execution_count": 283,
   "metadata": {
    "collapsed": true
   },
   "outputs": [],
   "source": [
    "df_bis.to_csv('trans_%s.csv'%('oct_22_2016_aaa'))"
   ]
  },
  {
   "cell_type": "markdown",
   "metadata": {},
   "source": [
    "### Calculate the log likelihood of the corpus given the trained grammar\n",
    "\n",
    "This is the ll of the corpus at the end of training:"
   ]
  },
  {
   "cell_type": "code",
   "execution_count": 284,
   "metadata": {
    "collapsed": false
   },
   "outputs": [
    {
     "data": {
      "text/plain": [
       "-4.5037946618941653"
      ]
     },
     "execution_count": 284,
     "metadata": {},
     "output_type": "execute_result"
    }
   ],
   "source": [
    "em.ll_corpus(parsed_corpus,history[-1]['trans_probs'],history[-1]['fsa'])"
   ]
  },
  {
   "cell_type": "markdown",
   "metadata": {},
   "source": [
    "Make a dataframe of the LL of the corpus throughout training:"
   ]
  },
  {
   "cell_type": "code",
   "execution_count": 285,
   "metadata": {
    "collapsed": false,
    "scrolled": true
   },
   "outputs": [
    {
     "data": {
      "text/html": [
       "<div>\n",
       "<table border=\"1\" class=\"dataframe\">\n",
       "  <thead>\n",
       "    <tr style=\"text-align: right;\">\n",
       "      <th></th>\n",
       "      <th>iteration</th>\n",
       "      <th>likelihood</th>\n",
       "    </tr>\n",
       "  </thead>\n",
       "  <tbody>\n",
       "    <tr>\n",
       "      <th>0</th>\n",
       "      <td>0</td>\n",
       "      <td>-8.953912</td>\n",
       "    </tr>\n",
       "    <tr>\n",
       "      <th>1</th>\n",
       "      <td>1</td>\n",
       "      <td>-4.755626</td>\n",
       "    </tr>\n",
       "    <tr>\n",
       "      <th>2</th>\n",
       "      <td>2</td>\n",
       "      <td>-4.687978</td>\n",
       "    </tr>\n",
       "    <tr>\n",
       "      <th>3</th>\n",
       "      <td>3</td>\n",
       "      <td>-4.672661</td>\n",
       "    </tr>\n",
       "    <tr>\n",
       "      <th>4</th>\n",
       "      <td>4</td>\n",
       "      <td>-4.658820</td>\n",
       "    </tr>\n",
       "    <tr>\n",
       "      <th>5</th>\n",
       "      <td>5</td>\n",
       "      <td>-4.643236</td>\n",
       "    </tr>\n",
       "    <tr>\n",
       "      <th>6</th>\n",
       "      <td>6</td>\n",
       "      <td>-4.625582</td>\n",
       "    </tr>\n",
       "    <tr>\n",
       "      <th>7</th>\n",
       "      <td>7</td>\n",
       "      <td>-4.605737</td>\n",
       "    </tr>\n",
       "    <tr>\n",
       "      <th>8</th>\n",
       "      <td>8</td>\n",
       "      <td>-4.583630</td>\n",
       "    </tr>\n",
       "    <tr>\n",
       "      <th>9</th>\n",
       "      <td>9</td>\n",
       "      <td>-4.559240</td>\n",
       "    </tr>\n",
       "    <tr>\n",
       "      <th>10</th>\n",
       "      <td>10</td>\n",
       "      <td>-4.532599</td>\n",
       "    </tr>\n",
       "    <tr>\n",
       "      <th>11</th>\n",
       "      <td>11</td>\n",
       "      <td>-4.503795</td>\n",
       "    </tr>\n",
       "  </tbody>\n",
       "</table>\n",
       "</div>"
      ],
      "text/plain": [
       "    iteration  likelihood\n",
       "0           0   -8.953912\n",
       "1           1   -4.755626\n",
       "2           2   -4.687978\n",
       "3           3   -4.672661\n",
       "4           4   -4.658820\n",
       "5           5   -4.643236\n",
       "6           6   -4.625582\n",
       "7           7   -4.605737\n",
       "8           8   -4.583630\n",
       "9           9   -4.559240\n",
       "10         10   -4.532599\n",
       "11         11   -4.503795"
      ]
     },
     "execution_count": 285,
     "metadata": {},
     "output_type": "execute_result"
    }
   ],
   "source": [
    "df_lls=pandas_functions.ll_corpus_table(history)\n",
    "df_lls"
   ]
  },
  {
   "cell_type": "code",
   "execution_count": 286,
   "metadata": {
    "collapsed": false,
    "scrolled": false
   },
   "outputs": [
    {
     "data": {
      "text/plain": [
       "<matplotlib.text.Text at 0xa655e36c>"
      ]
     },
     "execution_count": 286,
     "metadata": {},
     "output_type": "execute_result"
    },
    {
     "data": {
      "image/png": "[encoded data removed]",
      "text/plain": [
       "<matplotlib.figure.Figure at 0xa6565aec>"
      ]
     },
     "metadata": {},
     "output_type": "display_data"
    }
   ],
   "source": [
    "plot(df_lls[\"iteration\"],df_lls[\"likelihood\"],'o-')\n",
    "xlabel(\"Iteration\")\n",
    "ylabel(\"Log Likelihood\")"
   ]
  },
  {
   "cell_type": "markdown",
   "metadata": {},
   "source": [
    "Look at the changing relative probabilities of the parses"
   ]
  },
  {
   "cell_type": "code",
   "execution_count": null,
   "metadata": {
    "collapsed": false,
    "scrolled": false
   },
   "outputs": [],
   "source": []
  },
  {
   "cell_type": "code",
   "execution_count": 287,
   "metadata": {
    "collapsed": false
   },
   "outputs": [
    {
     "data": {
      "text/html": [
       "<div>\n",
       "<table border=\"1\" class=\"dataframe\">\n",
       "  <thead>\n",
       "    <tr style=\"text-align: right;\">\n",
       "      <th></th>\n",
       "      <th>sentence</th>\n",
       "      <th>E</th>\n",
       "      <th>Q</th>\n",
       "      <th>bigrams</th>\n",
       "      <th>iteration_1 p</th>\n",
       "      <th>iteration_10 p</th>\n",
       "      <th>iteration_11 p</th>\n",
       "      <th>iteration_2 p</th>\n",
       "      <th>iteration_3 p</th>\n",
       "      <th>iteration_4 p</th>\n",
       "      <th>iteration_5 p</th>\n",
       "      <th>iteration_6 p</th>\n",
       "      <th>iteration_7 p</th>\n",
       "      <th>iteration_8 p</th>\n",
       "      <th>iteration_9 p</th>\n",
       "    </tr>\n",
       "  </thead>\n",
       "  <tbody>\n",
       "    <tr>\n",
       "      <th>0</th>\n",
       "      <td>0: a</td>\n",
       "      <td>mg end</td>\n",
       "      <td>S NotCL F</td>\n",
       "      <td>[ a</td>\n",
       "      <td>1.000000</td>\n",
       "      <td>1.000000</td>\n",
       "      <td>1.000000</td>\n",
       "      <td>1.000000</td>\n",
       "      <td>1.000000</td>\n",
       "      <td>1.000000</td>\n",
       "      <td>1.000000</td>\n",
       "      <td>1.000000</td>\n",
       "      <td>1.000000</td>\n",
       "      <td>1.000000</td>\n",
       "      <td>1.000000</td>\n",
       "    </tr>\n",
       "    <tr>\n",
       "      <th>1</th>\n",
       "      <td>1: a   a</td>\n",
       "      <td>mg mg end</td>\n",
       "      <td>S NotCL NotCL F</td>\n",
       "      <td>[ a a</td>\n",
       "      <td>0.065472</td>\n",
       "      <td>0.668651</td>\n",
       "      <td>0.723048</td>\n",
       "      <td>0.217329</td>\n",
       "      <td>0.286334</td>\n",
       "      <td>0.338029</td>\n",
       "      <td>0.388686</td>\n",
       "      <td>0.441634</td>\n",
       "      <td>0.497064</td>\n",
       "      <td>0.554208</td>\n",
       "      <td>0.611875</td>\n",
       "    </tr>\n",
       "    <tr>\n",
       "      <th>2</th>\n",
       "      <td>1: a   a</td>\n",
       "      <td>mg copy end</td>\n",
       "      <td>S NotCL NotCL F</td>\n",
       "      <td>[ a</td>\n",
       "      <td>0.934528</td>\n",
       "      <td>0.331349</td>\n",
       "      <td>0.276952</td>\n",
       "      <td>0.782671</td>\n",
       "      <td>0.713666</td>\n",
       "      <td>0.661971</td>\n",
       "      <td>0.611314</td>\n",
       "      <td>0.558366</td>\n",
       "      <td>0.502936</td>\n",
       "      <td>0.445792</td>\n",
       "      <td>0.388125</td>\n",
       "    </tr>\n",
       "    <tr>\n",
       "      <th>3</th>\n",
       "      <td>2: a   a   a</td>\n",
       "      <td>mg mg mg end</td>\n",
       "      <td>S NotCL NotCL NotCL F</td>\n",
       "      <td>[ a a a</td>\n",
       "      <td>0.015761</td>\n",
       "      <td>0.163434</td>\n",
       "      <td>0.208230</td>\n",
       "      <td>0.023263</td>\n",
       "      <td>0.024255</td>\n",
       "      <td>0.030542</td>\n",
       "      <td>0.040719</td>\n",
       "      <td>0.054703</td>\n",
       "      <td>0.073085</td>\n",
       "      <td>0.096713</td>\n",
       "      <td>0.126523</td>\n",
       "    </tr>\n",
       "    <tr>\n",
       "      <th>4</th>\n",
       "      <td>2: a   a   a</td>\n",
       "      <td>mg copy mg end</td>\n",
       "      <td>S NotCL NotCL NotCL F</td>\n",
       "      <td>[ a a</td>\n",
       "      <td>0.224971</td>\n",
       "      <td>0.080989</td>\n",
       "      <td>0.079759</td>\n",
       "      <td>0.083777</td>\n",
       "      <td>0.060453</td>\n",
       "      <td>0.059811</td>\n",
       "      <td>0.064042</td>\n",
       "      <td>0.069162</td>\n",
       "      <td>0.073948</td>\n",
       "      <td>0.077793</td>\n",
       "      <td>0.080256</td>\n",
       "    </tr>\n",
       "    <tr>\n",
       "      <th>5</th>\n",
       "      <td>2: a   a   a</td>\n",
       "      <td>mg clear mg copy end</td>\n",
       "      <td>S NotCL CLEAR_S CLEAR NotCL F</td>\n",
       "      <td>[ a a</td>\n",
       "      <td>0.759268</td>\n",
       "      <td>0.755577</td>\n",
       "      <td>0.712010</td>\n",
       "      <td>0.892960</td>\n",
       "      <td>0.915292</td>\n",
       "      <td>0.909648</td>\n",
       "      <td>0.895239</td>\n",
       "      <td>0.876136</td>\n",
       "      <td>0.852967</td>\n",
       "      <td>0.825494</td>\n",
       "      <td>0.793221</td>\n",
       "    </tr>\n",
       "  </tbody>\n",
       "</table>\n",
       "</div>"
      ],
      "text/plain": [
       "       sentence                     E                              Q  bigrams  \\\n",
       "0          0: a                mg end                      S NotCL F      [ a   \n",
       "1      1: a   a             mg mg end                S NotCL NotCL F    [ a a   \n",
       "2      1: a   a           mg copy end                S NotCL NotCL F      [ a   \n",
       "3  2: a   a   a          mg mg mg end          S NotCL NotCL NotCL F  [ a a a   \n",
       "4  2: a   a   a        mg copy mg end          S NotCL NotCL NotCL F    [ a a   \n",
       "5  2: a   a   a  mg clear mg copy end  S NotCL CLEAR_S CLEAR NotCL F    [ a a   \n",
       "\n",
       "   iteration_1 p  iteration_10 p  iteration_11 p  iteration_2 p  \\\n",
       "0       1.000000        1.000000        1.000000       1.000000   \n",
       "1       0.065472        0.668651        0.723048       0.217329   \n",
       "2       0.934528        0.331349        0.276952       0.782671   \n",
       "3       0.015761        0.163434        0.208230       0.023263   \n",
       "4       0.224971        0.080989        0.079759       0.083777   \n",
       "5       0.759268        0.755577        0.712010       0.892960   \n",
       "\n",
       "   iteration_3 p  iteration_4 p  iteration_5 p  iteration_6 p  iteration_7 p  \\\n",
       "0       1.000000       1.000000       1.000000       1.000000       1.000000   \n",
       "1       0.286334       0.338029       0.388686       0.441634       0.497064   \n",
       "2       0.713666       0.661971       0.611314       0.558366       0.502936   \n",
       "3       0.024255       0.030542       0.040719       0.054703       0.073085   \n",
       "4       0.060453       0.059811       0.064042       0.069162       0.073948   \n",
       "5       0.915292       0.909648       0.895239       0.876136       0.852967   \n",
       "\n",
       "   iteration_8 p  iteration_9 p  \n",
       "0       1.000000       1.000000  \n",
       "1       0.554208       0.611875  \n",
       "2       0.445792       0.388125  \n",
       "3       0.096713       0.126523  \n",
       "4       0.077793       0.080256  \n",
       "5       0.825494       0.793221  "
      ]
     },
     "execution_count": 287,
     "metadata": {},
     "output_type": "execute_result"
    }
   ],
   "source": [
    "df_parses=pandas_functions.p_parses_table(parsed_corpus,history)\n",
    "df_parses"
   ]
  },
  {
   "cell_type": "code",
   "execution_count": 351,
   "metadata": {
    "collapsed": false,
    "scrolled": false
   },
   "outputs": [
    {
     "data": {
      "text/plain": [
       "<module 'pandas_functions' from 'pandas_functions.py'>"
      ]
     },
     "execution_count": 351,
     "metadata": {},
     "output_type": "execute_result"
    }
   ],
   "source": [
    "reload(em)\n",
    "reload(pandas_functions)"
   ]
  },
  {
   "cell_type": "code",
   "execution_count": 352,
   "metadata": {
    "collapsed": true
   },
   "outputs": [],
   "source": [
    "sc=0.01 # smoothing constant"
   ]
  },
  {
   "cell_type": "code",
   "execution_count": 353,
   "metadata": {
    "collapsed": false,
    "scrolled": true
   },
   "outputs": [
    {
     "name": "stdout",
     "output_type": "stream",
     "text": [
      "LL training corpus: -4.37\n",
      "LL testing corpus: -10.58\n"
     ]
    }
   ],
   "source": [
    "ll_test,parsed_train,parsed_test,history = em.em_train(aaa,aaaa,trans,ops,n,sc)"
   ]
  },
  {
   "cell_type": "code",
   "execution_count": 354,
   "metadata": {
    "collapsed": false
   },
   "outputs": [
    {
     "data": {
      "text/html": [
       "<div>\n",
       "<table border=\"1\" class=\"dataframe\">\n",
       "  <thead>\n",
       "    <tr style=\"text-align: right;\">\n",
       "      <th></th>\n",
       "      <th>iteration</th>\n",
       "      <th>test LL</th>\n",
       "      <th>train LL</th>\n",
       "    </tr>\n",
       "  </thead>\n",
       "  <tbody>\n",
       "    <tr>\n",
       "      <th>0</th>\n",
       "      <td>0</td>\n",
       "      <td>-19.810523</td>\n",
       "      <td>-8.711500</td>\n",
       "    </tr>\n",
       "    <tr>\n",
       "      <th>1</th>\n",
       "      <td>1</td>\n",
       "      <td>-10.790639</td>\n",
       "      <td>-4.651683</td>\n",
       "    </tr>\n",
       "    <tr>\n",
       "      <th>2</th>\n",
       "      <td>2</td>\n",
       "      <td>-10.756164</td>\n",
       "      <td>-4.609596</td>\n",
       "    </tr>\n",
       "    <tr>\n",
       "      <th>3</th>\n",
       "      <td>3</td>\n",
       "      <td>-10.735537</td>\n",
       "      <td>-4.580058</td>\n",
       "    </tr>\n",
       "    <tr>\n",
       "      <th>4</th>\n",
       "      <td>4</td>\n",
       "      <td>-10.716377</td>\n",
       "      <td>-4.552463</td>\n",
       "    </tr>\n",
       "    <tr>\n",
       "      <th>5</th>\n",
       "      <td>5</td>\n",
       "      <td>-10.696212</td>\n",
       "      <td>-4.524367</td>\n",
       "    </tr>\n",
       "    <tr>\n",
       "      <th>6</th>\n",
       "      <td>6</td>\n",
       "      <td>-10.674685</td>\n",
       "      <td>-4.495276</td>\n",
       "    </tr>\n",
       "    <tr>\n",
       "      <th>7</th>\n",
       "      <td>7</td>\n",
       "      <td>-10.652034</td>\n",
       "      <td>-4.465259</td>\n",
       "    </tr>\n",
       "    <tr>\n",
       "      <th>8</th>\n",
       "      <td>8</td>\n",
       "      <td>-10.628769</td>\n",
       "      <td>-4.434641</td>\n",
       "    </tr>\n",
       "    <tr>\n",
       "      <th>9</th>\n",
       "      <td>9</td>\n",
       "      <td>-10.605558</td>\n",
       "      <td>-4.403957</td>\n",
       "    </tr>\n",
       "    <tr>\n",
       "      <th>10</th>\n",
       "      <td>10</td>\n",
       "      <td>-10.583142</td>\n",
       "      <td>-4.373946</td>\n",
       "    </tr>\n",
       "  </tbody>\n",
       "</table>\n",
       "</div>"
      ],
      "text/plain": [
       "    iteration    test LL  train LL\n",
       "0           0 -19.810523 -8.711500\n",
       "1           1 -10.790639 -4.651683\n",
       "2           2 -10.756164 -4.609596\n",
       "3           3 -10.735537 -4.580058\n",
       "4           4 -10.716377 -4.552463\n",
       "5           5 -10.696212 -4.524367\n",
       "6           6 -10.674685 -4.495276\n",
       "7           7 -10.652034 -4.465259\n",
       "8           8 -10.628769 -4.434641\n",
       "9           9 -10.605558 -4.403957\n",
       "10         10 -10.583142 -4.373946"
      ]
     },
     "execution_count": 354,
     "metadata": {},
     "output_type": "execute_result"
    }
   ],
   "source": [
    "df_test = pandas_functions.ll_table(history)\n",
    "df_test"
   ]
  },
  {
   "cell_type": "code",
   "execution_count": 355,
   "metadata": {
    "collapsed": false,
    "scrolled": false
   },
   "outputs": [
    {
     "name": "stdout",
     "output_type": "stream",
     "text": [
      "\n",
      "Copy\n",
      "LL training corpus: -10.12\n",
      "LL testing corpus: -40.54\n",
      "Copy LL test corpus: -40.54\n",
      "\n",
      "No Copy\n",
      "LL training corpus: -11.32\n",
      "LL testing corpus: -44.67\n",
      "No Copy LL test corpus: -44.67\n",
      "\n",
      "Copy > No copy\n",
      "Difference: 4.13 = e^4.129 ~ 62.110023\n",
      "\n"
     ]
    }
   ],
   "source": [
    "compare = em.compare(aaaa,bbbb,trans,ops,ops_nc,10)"
   ]
  },
  {
   "cell_type": "code",
   "execution_count": 356,
   "metadata": {
    "collapsed": false
   },
   "outputs": [
    {
     "name": "stdout",
     "output_type": "stream",
     "text": [
      "LL test corpus, Copy grammar:\t-40.541\n",
      "LL test corpus, No-Copy grammar:-44.670\n"
     ]
    }
   ],
   "source": [
    "print ('LL test corpus, Copy grammar:\\t%.3f'%compare[0][0])\n",
    "print ('LL test corpus, No-Copy grammar:%.3f'%compare[1][0])"
   ]
  },
  {
   "cell_type": "code",
   "execution_count": 357,
   "metadata": {
    "collapsed": false
   },
   "outputs": [],
   "source": [
    "df_copy = pandas_functions.ll_table(compare[0][1])\n",
    "df_no_copy =pandas_functions.ll_table(compare[1][1])"
   ]
  },
  {
   "cell_type": "code",
   "execution_count": 358,
   "metadata": {
    "collapsed": false
   },
   "outputs": [
    {
     "data": {
      "text/html": [
       "<div>\n",
       "<table border=\"1\" class=\"dataframe\">\n",
       "  <thead>\n",
       "    <tr style=\"text-align: right;\">\n",
       "      <th></th>\n",
       "      <th>iteration</th>\n",
       "      <th>test LL</th>\n",
       "      <th>train LL</th>\n",
       "    </tr>\n",
       "  </thead>\n",
       "  <tbody>\n",
       "    <tr>\n",
       "      <th>0</th>\n",
       "      <td>0</td>\n",
       "      <td>-17.693176</td>\n",
       "      <td>-20.099674</td>\n",
       "    </tr>\n",
       "    <tr>\n",
       "      <th>1</th>\n",
       "      <td>1</td>\n",
       "      <td>-39.958644</td>\n",
       "      <td>-10.438052</td>\n",
       "    </tr>\n",
       "    <tr>\n",
       "      <th>2</th>\n",
       "      <td>2</td>\n",
       "      <td>-39.948486</td>\n",
       "      <td>-10.335177</td>\n",
       "    </tr>\n",
       "    <tr>\n",
       "      <th>3</th>\n",
       "      <td>3</td>\n",
       "      <td>-39.992667</td>\n",
       "      <td>-10.281554</td>\n",
       "    </tr>\n",
       "    <tr>\n",
       "      <th>4</th>\n",
       "      <td>4</td>\n",
       "      <td>-40.056984</td>\n",
       "      <td>-10.246711</td>\n",
       "    </tr>\n",
       "    <tr>\n",
       "      <th>5</th>\n",
       "      <td>5</td>\n",
       "      <td>-40.130510</td>\n",
       "      <td>-10.220542</td>\n",
       "    </tr>\n",
       "    <tr>\n",
       "      <th>6</th>\n",
       "      <td>6</td>\n",
       "      <td>-40.208845</td>\n",
       "      <td>-10.198623</td>\n",
       "    </tr>\n",
       "    <tr>\n",
       "      <th>7</th>\n",
       "      <td>7</td>\n",
       "      <td>-40.289956</td>\n",
       "      <td>-10.178733</td>\n",
       "    </tr>\n",
       "    <tr>\n",
       "      <th>8</th>\n",
       "      <td>8</td>\n",
       "      <td>-40.372784</td>\n",
       "      <td>-10.159692</td>\n",
       "    </tr>\n",
       "    <tr>\n",
       "      <th>9</th>\n",
       "      <td>9</td>\n",
       "      <td>-40.456683</td>\n",
       "      <td>-10.140870</td>\n",
       "    </tr>\n",
       "    <tr>\n",
       "      <th>10</th>\n",
       "      <td>10</td>\n",
       "      <td>-40.541186</td>\n",
       "      <td>-10.121952</td>\n",
       "    </tr>\n",
       "  </tbody>\n",
       "</table>\n",
       "</div>"
      ],
      "text/plain": [
       "    iteration    test LL   train LL\n",
       "0           0 -17.693176 -20.099674\n",
       "1           1 -39.958644 -10.438052\n",
       "2           2 -39.948486 -10.335177\n",
       "3           3 -39.992667 -10.281554\n",
       "4           4 -40.056984 -10.246711\n",
       "5           5 -40.130510 -10.220542\n",
       "6           6 -40.208845 -10.198623\n",
       "7           7 -40.289956 -10.178733\n",
       "8           8 -40.372784 -10.159692\n",
       "9           9 -40.456683 -10.140870\n",
       "10         10 -40.541186 -10.121952"
      ]
     },
     "execution_count": 358,
     "metadata": {},
     "output_type": "execute_result"
    }
   ],
   "source": [
    "df_copy"
   ]
  },
  {
   "cell_type": "code",
   "execution_count": 359,
   "metadata": {
    "collapsed": false
   },
   "outputs": [
    {
     "data": {
      "text/html": [
       "<div>\n",
       "<table border=\"1\" class=\"dataframe\">\n",
       "  <thead>\n",
       "    <tr style=\"text-align: right;\">\n",
       "      <th></th>\n",
       "      <th>iteration</th>\n",
       "      <th>test LL</th>\n",
       "      <th>train LL</th>\n",
       "    </tr>\n",
       "  </thead>\n",
       "  <tbody>\n",
       "    <tr>\n",
       "      <th>0</th>\n",
       "      <td>0</td>\n",
       "      <td>-44.107318</td>\n",
       "      <td>-20.010798</td>\n",
       "    </tr>\n",
       "    <tr>\n",
       "      <th>1</th>\n",
       "      <td>1</td>\n",
       "      <td>-44.670093</td>\n",
       "      <td>-11.322223</td>\n",
       "    </tr>\n",
       "    <tr>\n",
       "      <th>2</th>\n",
       "      <td>2</td>\n",
       "      <td>-44.670093</td>\n",
       "      <td>-11.322223</td>\n",
       "    </tr>\n",
       "  </tbody>\n",
       "</table>\n",
       "</div>"
      ],
      "text/plain": [
       "   iteration    test LL   train LL\n",
       "0          0 -44.107318 -20.010798\n",
       "1          1 -44.670093 -11.322223\n",
       "2          2 -44.670093 -11.322223"
      ]
     },
     "execution_count": 359,
     "metadata": {},
     "output_type": "execute_result"
    }
   ],
   "source": [
    "df_no_copy"
   ]
  },
  {
   "cell_type": "code",
   "execution_count": 360,
   "metadata": {
    "collapsed": false
   },
   "outputs": [
    {
     "name": "stdout",
     "output_type": "stream",
     "text": [
      "a\n",
      "a a\n",
      "a a a\n",
      "a a a a\n",
      "a a a a a\n",
      "b\n",
      "b b\n",
      "b b b\n",
      "b b b b\n",
      "b b b b b\n"
     ]
    }
   ],
   "source": [
    "bbbb=['b','b b','b b b','b b b b','b b b b b']\n",
    "\n",
    "asbs = ['a b','b a','a a b', 'b b a','a b a b a b']\n",
    "\n",
    "ab=aaaa+bbbb\n",
    "\n",
    "for s in ab:\n",
    "    print (s)"
   ]
  },
  {
   "cell_type": "code",
   "execution_count": 361,
   "metadata": {
    "collapsed": false,
    "scrolled": true
   },
   "outputs": [
    {
     "name": "stdout",
     "output_type": "stream",
     "text": [
      "\n",
      "Window 1 of 2\n",
      "0\n",
      "5\n",
      "\n",
      "Copy\n",
      "LL training corpus: -10.32\n",
      "LL testing corpus: -39.50\n",
      "Copy LL test corpus: -39.50\n",
      "\n",
      "No Copy\n",
      "LL training corpus: -11.32\n",
      "LL testing corpus: -44.67\n",
      "No Copy LL test corpus: -44.67\n",
      "\n",
      "Copy > No copy\n",
      "Difference: 5.17 = e^5.171 ~ 176.114477\n",
      "\n",
      "\n",
      "Window 2 of 2\n",
      "5\n",
      "10\n",
      "\n",
      "Copy\n",
      "LL training corpus: -10.31\n",
      "LL testing corpus: -39.51\n",
      "Copy LL test corpus: -39.51\n",
      "\n",
      "No Copy\n",
      "LL training corpus: -11.32\n",
      "LL testing corpus: -44.67\n",
      "No Copy LL test corpus: -44.67\n",
      "\n",
      "Copy > No copy\n",
      "Difference: 5.16 = e^5.157 ~ 173.575308\n",
      "\n",
      "\n",
      " 2 for copy, 0 for no copy\n"
     ]
    }
   ],
   "source": [
    "n=10\n",
    "w = 2\n",
    "sc=0.01\n",
    "window = em.windows(ab,trans,ops,ops_nc,n,w,sc)"
   ]
  },
  {
   "cell_type": "code",
   "execution_count": 332,
   "metadata": {
    "collapsed": false
   },
   "outputs": [
    {
     "data": {
      "text/plain": [
       "<module 'em' from 'em.py'>"
      ]
     },
     "execution_count": 332,
     "metadata": {},
     "output_type": "execute_result"
    }
   ],
   "source": [
    "reload(em)"
   ]
  },
  {
   "cell_type": "code",
   "execution_count": 373,
   "metadata": {
    "collapsed": false,
    "scrolled": false
   },
   "outputs": [
    {
     "data": {
      "text/plain": [
       "{'CLEAR': {('CLEAR', 'mg'): -0.72978672298867397,\n",
       "  ('NotCL', 'copy'): -0.65780278053425878},\n",
       " 'CLEAR_S': {('CLEAR', 'mg'): 0.0},\n",
       " 'F': {},\n",
       " 'NotCL': {('CLEAR_S', 'clear'): -1.4429355965254786,\n",
       "  ('F', 'end'): -1.0170068976337372,\n",
       "  ('NotCL', 'copy'): -1.2012969945493064,\n",
       "  ('NotCL', 'mg'): -2.289796484279552},\n",
       " 'S': {('NotCL', 'mg'): 0.0}}"
      ]
     },
     "execution_count": 373,
     "metadata": {},
     "output_type": "execute_result"
    }
   ],
   "source": [
    "window[0][1][0][1][0]['fsa']"
   ]
  },
  {
   "cell_type": "code",
   "execution_count": null,
   "metadata": {
    "collapsed": true
   },
   "outputs": [],
   "source": []
  }
 ],
 "metadata": {
  "anaconda-cloud": {},
  "kernelspec": {
   "display_name": "Python [Root]",
   "language": "python",
   "name": "Python [Root]"
  },
  "language_info": {
   "codemirror_mode": {
    "name": "ipython",
    "version": 2
   },
   "file_extension": ".py",
   "mimetype": "text/x-python",
   "name": "python",
   "nbconvert_exporter": "python",
   "pygments_lexer": "ipython2",
   "version": "2.7.12"
  }
 },
 "nbformat": 4,
 "nbformat_minor": 0
}
