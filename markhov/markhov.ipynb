{
 "cells": [
  {
   "cell_type": "code",
   "execution_count": 2,
   "metadata": {
    "collapsed": false
   },
   "outputs": [
    {
     "name": "stdout",
     "output_type": "stream",
     "text": [
      "Populating the interactive namespace from numpy and matplotlib\n"
     ]
    },
    {
     "name": "stderr",
     "output_type": "stream",
     "text": [
      "WARNING: pylab import has clobbered these variables: ['draw_if_interactive', 'new_figure_manager']\n",
      "`%matplotlib` prevents importing * from pylab and numpy\n"
     ]
    }
   ],
   "source": [
    "import markhov\n",
    "import em\n",
    "import numpy as np\n",
    "import pandas as pd\n",
    "from florisplotlib import *\n",
    "%pylab inline"
   ]
  },
  {
   "cell_type": "markdown",
   "metadata": {},
   "source": [
    "# Demonstrating EM\n",
    "\n",
    "Here we demonstrate the use and behaviour of the various functions in our expectation maximisation algorithm for learning rule probagbilities for a two-part grammar made up of a finite state automaton that generates strings of operations and a bigram grammar of legal transitions for the operation Merge."
   ]
  },
  {
   "cell_type": "markdown",
   "metadata": {},
   "source": [
    "### Get set up"
   ]
  },
  {
   "cell_type": "markdown",
   "metadata": {},
   "source": [
    "Some functions for log-transforming the grammar"
   ]
  },
  {
   "cell_type": "markdown",
   "metadata": {},
   "source": [
    "Make some transitions"
   ]
  },
  {
   "cell_type": "code",
   "execution_count": 3,
   "metadata": {
    "collapsed": true
   },
   "outputs": [],
   "source": [
    "trans = {'a':['a','b'],\n",
    "           'b':['b','a'],\n",
    "           '[':['a','b']\n",
    "       }\n"
   ]
  },
  {
   "cell_type": "code",
   "execution_count": 4,
   "metadata": {
    "collapsed": false
   },
   "outputs": [],
   "source": [
    "trans_probs = {'a':{'a':0.5,'b':0.5},\n",
    "           'b':{'b':0.5,'a':0.5},\n",
    "           '[':{'a':0.5,'b':0.5}\n",
    "       }\n",
    "\n",
    "trans_probs=markhov.fsa_log(trans_probs)"
   ]
  },
  {
   "cell_type": "markdown",
   "metadata": {},
   "source": [
    "Operations FSA"
   ]
  },
  {
   "cell_type": "code",
   "execution_count": 5,
   "metadata": {
    "collapsed": true
   },
   "outputs": [],
   "source": [
    "ops = {'S':[('NotCL','mg')], # from start we have to merge\n",
    "       'NotCL':[('NotCL','mg'),('NotCL','copy'), # this state is the state in which the last \"special\" operation was *not* Clear. Either we've done none or the last was copy. From here we can do everything including end\n",
    "               ('CLEAR_S','clear'), # go here to clear the buffer\n",
    "               ('F','end') # go here to end\n",
    "           ],\n",
    "       'CLEAR_S':[('CLEAR','mg')], # this is where we've just cleared. Buffer is empty so you can only Merge\n",
    "       'CLEAR':[('CLEAR','mg'), # the last special op was Clear so we can Copy or Merge.\n",
    "                ('NotCL','copy') # if we Copy, the last special op was Copy so go to NotCL\n",
    "            ],\n",
    "       'F':[] #final state\n",
    "   }\n"
   ]
  },
  {
   "cell_type": "code",
   "execution_count": 6,
   "metadata": {
    "collapsed": true
   },
   "outputs": [],
   "source": [
    "ops_probs=em.initialise(ops)"
   ]
  },
  {
   "cell_type": "markdown",
   "metadata": {
    "collapsed": false
   },
   "source": [
    "A corpus"
   ]
  },
  {
   "cell_type": "code",
   "execution_count": 7,
   "metadata": {
    "collapsed": false
   },
   "outputs": [],
   "source": [
    "aaa = ['a','a a','a a a']"
   ]
  },
  {
   "cell_type": "markdown",
   "metadata": {},
   "source": [
    "### Parse a sentence"
   ]
  },
  {
   "cell_type": "code",
   "execution_count": 8,
   "metadata": {
    "collapsed": true
   },
   "outputs": [],
   "source": [
    "s=aaa[-1]"
   ]
  },
  {
   "cell_type": "code",
   "execution_count": 9,
   "metadata": {
    "collapsed": false
   },
   "outputs": [],
   "source": [
    "parses=markhov.parse(s,trans,ops)"
   ]
  },
  {
   "cell_type": "code",
   "execution_count": 10,
   "metadata": {
    "collapsed": false
   },
   "outputs": [
    {
     "name": "stdout",
     "output_type": "stream",
     "text": [
      "\n",
      "bigrams: [ a a a\n",
      "buffer: a a a\n",
      "op states: S NotCL NotCL NotCL F\n",
      "operations: mg mg mg end\n",
      "k: 3\n",
      "\n",
      "bigrams: [ a a\n",
      "buffer: a a a\n",
      "op states: S NotCL NotCL NotCL F\n",
      "operations: mg copy mg end\n",
      "k: 3\n",
      "\n",
      "bigrams: [ a a\n",
      "buffer: a a\n",
      "op states: S NotCL CLEAR_S CLEAR NotCL F\n",
      "operations: mg clear mg copy end\n",
      "k: 3\n"
     ]
    }
   ],
   "source": [
    "for i in range(len(parses)):\n",
    "    print(markhov.parse2string(parses[i]))"
   ]
  },
  {
   "cell_type": "markdown",
   "metadata": {},
   "source": [
    "### Parse the corpus"
   ]
  },
  {
   "cell_type": "code",
   "execution_count": 11,
   "metadata": {
    "collapsed": false
   },
   "outputs": [],
   "source": [
    "parsed_corpus=em.parse_corpus(aaa,trans,ops)"
   ]
  },
  {
   "cell_type": "code",
   "execution_count": 19,
   "metadata": {
    "collapsed": false
   },
   "outputs": [
    {
     "name": "stdout",
     "output_type": "stream",
     "text": [
      "\n",
      "Parse 0:\n",
      "Sentence: 0\n",
      "bigrams: [ a\n",
      "Q: S NotCL F\n",
      "E: mg end\n",
      "SC:\n",
      "  S 1\n",
      "  F 1\n",
      "  NotCL 1\n",
      "TC:\n",
      "  S mg NotCL 1\n",
      "  NotCL end F 1\n",
      "UC:\n",
      "  [ 1\n",
      "BC:\n",
      "  [ a 1\n",
      "\n",
      "Parse 1:\n",
      "Sentence: 1\n",
      "bigrams: [ a a\n",
      "Q: S NotCL NotCL F\n",
      "E: mg mg end\n",
      "SC:\n",
      "  S 1\n",
      "  F 1\n",
      "  NotCL 2\n",
      "TC:\n",
      "  NotCL mg NotCL 1\n",
      "  S mg NotCL 1\n",
      "  NotCL end F 1\n",
      "UC:\n",
      "  a 1\n",
      "  [ 1\n",
      "BC:\n",
      "  [ a 1\n",
      "  a a 1\n",
      "\n",
      "Parse 2:\n",
      "Sentence: 1\n",
      "bigrams: [ a\n",
      "Q: S NotCL NotCL F\n",
      "E: mg copy end\n",
      "SC:\n",
      "  S 1\n",
      "  F 1\n",
      "  NotCL 2\n",
      "TC:\n",
      "  S mg NotCL 1\n",
      "  NotCL end F 1\n",
      "  NotCL copy NotCL 1\n",
      "UC:\n",
      "  [ 1\n",
      "BC:\n",
      "  [ a 1\n",
      "\n",
      "Parse 3:\n",
      "Sentence: 2\n",
      "bigrams: [ a a a\n",
      "Q: S NotCL NotCL NotCL F\n",
      "E: mg mg mg end\n",
      "SC:\n",
      "  S 1\n",
      "  F 1\n",
      "  NotCL 3\n",
      "TC:\n",
      "  NotCL mg NotCL 2\n",
      "  S mg NotCL 1\n",
      "  NotCL end F 1\n",
      "UC:\n",
      "  a 2\n",
      "  [ 1\n",
      "BC:\n",
      "  [ a 1\n",
      "  a a 2\n",
      "\n",
      "Parse 4:\n",
      "Sentence: 2\n",
      "bigrams: [ a a\n",
      "Q: S NotCL NotCL NotCL F\n",
      "E: mg copy mg end\n",
      "SC:\n",
      "  S 1\n",
      "  F 1\n",
      "  NotCL 3\n",
      "TC:\n",
      "  NotCL mg NotCL 1\n",
      "  S mg NotCL 1\n",
      "  NotCL end F 1\n",
      "  NotCL copy NotCL 1\n",
      "UC:\n",
      "  a 1\n",
      "  [ 1\n",
      "BC:\n",
      "  [ a 1\n",
      "  a a 1\n",
      "\n",
      "Parse 5:\n",
      "Sentence: 2\n",
      "bigrams: [ a a\n",
      "Q: S NotCL CLEAR_S CLEAR NotCL F\n",
      "E: mg clear mg copy end\n",
      "SC:\n",
      "  S 1\n",
      "  F 1\n",
      "  CLEAR 1\n",
      "  CLEAR_S 1\n",
      "  NotCL 2\n",
      "TC:\n",
      "  CLEAR_S mg CLEAR 1\n",
      "  S mg NotCL 1\n",
      "  NotCL end F 1\n",
      "  NotCL clear CLEAR_S 1\n",
      "  CLEAR copy NotCL 1\n",
      "UC:\n",
      "  a 1\n",
      "  [ 1\n",
      "BC:\n",
      "  [ a 1\n",
      "  a a 1\n",
      "\n"
     ]
    }
   ],
   "source": [
    "print(em.parsed_corpus2string(parsed_corpus))"
   ]
  },
  {
   "cell_type": "markdown",
   "metadata": {},
   "source": [
    "Make a parallel list of parse relative probabilities"
   ]
  },
  {
   "cell_type": "code",
   "execution_count": 20,
   "metadata": {
    "collapsed": false
   },
   "outputs": [],
   "source": [
    "parse_probs=em.get_p_parses(parsed_corpus,ops_probs,trans_probs)"
   ]
  },
  {
   "cell_type": "code",
   "execution_count": 21,
   "metadata": {
    "collapsed": false
   },
   "outputs": [
    {
     "name": "stdout",
     "output_type": "stream",
     "text": [
      "[1.0, 0.50980930812735048, 0.49019069187264924, 0.038811887630210332, 0.037318318334006992, 0.92386979403578262]\n"
     ]
    }
   ],
   "source": [
    "print(parse_probs)"
   ]
  },
  {
   "cell_type": "code",
   "execution_count": 23,
   "metadata": {
    "collapsed": false
   },
   "outputs": [],
   "source": [
    "exp_bigrams = em.expected_transition_counts(parsed_corpus,parse_probs,trans,'bc')\n",
    "exp_unigrams = em.expected_state_counts(parsed_corpus,parse_probs,trans,'uc')"
   ]
  },
  {
   "cell_type": "code",
   "execution_count": 24,
   "metadata": {
    "collapsed": false
   },
   "outputs": [
    {
     "name": "stdout",
     "output_type": "stream",
     "text": [
      "\n",
      "Expected count of a in each sentence:\n",
      " 0: 0.0000\n",
      " 1: 0.5098\n",
      " 2: 1.0388\n",
      "\n",
      "Expected count of [ in each sentence:\n",
      " 0: 1.0000\n",
      " 1: 1.0000\n",
      " 2: 1.0000\n",
      "\n",
      "Expected count of b in each sentence:\n",
      " 0: 0.0000\n",
      " 1: 0.0000\n",
      " 2: 0.0000\n"
     ]
    }
   ],
   "source": [
    "for u in exp_unigrams:\n",
    "    print ('\\nExpected count of %s in each sentence:'%u)\n",
    "    for s in exp_unigrams[u]:\n",
    "        print (' %s: %.4f'%(s,exp_unigrams[u][s]))"
   ]
  },
  {
   "cell_type": "code",
   "execution_count": 25,
   "metadata": {
    "collapsed": false
   },
   "outputs": [
    {
     "name": "stdout",
     "output_type": "stream",
     "text": [
      "\n",
      "Expected count of a a in each sentence:\n",
      " 0: 0.0000\n",
      " 1: 0.5098\n",
      " 2: 1.0388\n",
      "\n",
      "Expected count of a b in each sentence:\n",
      " 0: 0.0000\n",
      " 1: 0.0000\n",
      " 2: 0.0000\n",
      "\n",
      "Expected count of [ a in each sentence:\n",
      " 0: 1.0000\n",
      " 1: 1.0000\n",
      " 2: 1.0000\n",
      "\n",
      "Expected count of [ b in each sentence:\n",
      " 0: 0.0000\n",
      " 1: 0.0000\n",
      " 2: 0.0000\n",
      "\n",
      "Expected count of b a in each sentence:\n",
      " 0: 0.0000\n",
      " 1: 0.0000\n",
      " 2: 0.0000\n",
      "\n",
      "Expected count of b b in each sentence:\n",
      " 0: 0.0000\n",
      " 1: 0.0000\n",
      " 2: 0.0000\n"
     ]
    }
   ],
   "source": [
    "for a in exp_bigrams:\n",
    "    for b in exp_bigrams[a]:\n",
    "        print ('\\nExpected count of %s %s in each sentence:'%(a,b))\n",
    "        for s in exp_bigrams[a][b]:\n",
    "            print (' %s: %.4f'%(s,exp_bigrams[a][b][s]))"
   ]
  },
  {
   "cell_type": "code",
   "execution_count": 27,
   "metadata": {
    "collapsed": false
   },
   "outputs": [],
   "source": [
    "exp_tr = em.expected_transition_counts(parsed_corpus,parse_probs,ops,'tc')\n",
    "exp_states = em.expected_state_counts(parsed_corpus,parse_probs,ops,'sc')"
   ]
  },
  {
   "cell_type": "code",
   "execution_count": 28,
   "metadata": {
    "collapsed": false
   },
   "outputs": [
    {
     "name": "stdout",
     "output_type": "stream",
     "text": [
      "\n",
      "Expected count of S in each sentence:\n",
      " 0: 1.0000\n",
      " 1: 1.0000\n",
      " 2: 1.0000\n",
      "\n",
      "Expected count of NotCL in each sentence:\n",
      " 0: 1.0000\n",
      " 1: 2.0000\n",
      " 2: 2.0761\n",
      "\n",
      "Expected count of CLEAR_S in each sentence:\n",
      " 0: 0.0000\n",
      " 1: 0.0000\n",
      " 2: 0.9239\n",
      "\n",
      "Expected count of CLEAR in each sentence:\n",
      " 0: 0.0000\n",
      " 1: 0.0000\n",
      " 2: 0.9239\n",
      "\n",
      "Expected count of F in each sentence:\n",
      " 0: 1.0000\n",
      " 1: 1.0000\n",
      " 2: 1.0000\n"
     ]
    }
   ],
   "source": [
    "for u in exp_states:\n",
    "    print ('\\nExpected count of %s in each sentence:'%u)\n",
    "    for s in exp_states[u]:\n",
    "        print (' %s: %.4f'%(s,exp_states[u][s]))"
   ]
  },
  {
   "cell_type": "code",
   "execution_count": 33,
   "metadata": {
    "collapsed": false
   },
   "outputs": [
    {
     "name": "stdout",
     "output_type": "stream",
     "text": [
      "\n",
      "Expected count of (S mg NotCL) in each sentence:\n",
      " 0: 1.0000\n",
      " 1: 1.0000\n",
      " 2: 1.0000\n",
      "\n",
      "Expected count of (NotCL end F) in each sentence:\n",
      " 0: 1.0000\n",
      " 1: 1.0000\n",
      " 2: 1.0000\n",
      "\n",
      "Expected count of (NotCL copy NotCL) in each sentence:\n",
      " 0: 0.0000\n",
      " 1: 0.4902\n",
      " 2: 0.0373\n",
      "\n",
      "Expected count of (NotCL mg NotCL) in each sentence:\n",
      " 0: 0.0000\n",
      " 1: 0.5098\n",
      " 2: 0.1149\n",
      "\n",
      "Expected count of (NotCL clear CLEAR_S) in each sentence:\n",
      " 0: 0.0000\n",
      " 1: 0.0000\n",
      " 2: 0.9239\n",
      "\n",
      "Expected count of (CLEAR_S mg CLEAR) in each sentence:\n",
      " 0: 0.0000\n",
      " 1: 0.0000\n",
      " 2: 0.9239\n",
      "\n",
      "Expected count of (CLEAR copy NotCL) in each sentence:\n",
      " 0: 0.0000\n",
      " 1: 0.0000\n",
      " 2: 0.9239\n",
      "\n",
      "Expected count of (CLEAR mg CLEAR) in each sentence:\n",
      " 0: 0.0000\n",
      " 1: 0.0000\n",
      " 2: 0.0000\n"
     ]
    }
   ],
   "source": [
    "for a in exp_tr:\n",
    "    for (b,e) in exp_tr[a]:\n",
    "        print ('\\nExpected count of (%s %s %s) in each sentence:'%(a,e,b))\n",
    "        for s in exp_tr[a][(b,e)]:\n",
    "            print (' %s: %.4f'%(s,exp_tr[a][(b,e)][s]))"
   ]
  },
  {
   "cell_type": "code",
   "execution_count": 35,
   "metadata": {
    "collapsed": false
   },
   "outputs": [],
   "source": [
    "new_ops = em.update(exp_states,exp_tr,ops)"
   ]
  },
  {
   "cell_type": "code",
   "execution_count": 37,
   "metadata": {
    "collapsed": false
   },
   "outputs": [
    {
     "name": "stdout",
     "output_type": "stream",
     "text": [
      "\n",
      "\n",
      "S\n",
      "   NotCL mg\t1.00\n",
      "\n",
      "NotCL\n",
      "   F end\t0.59\n",
      "   NotCL copy\t0.10\n",
      "   NotCL mg\t0.12\n",
      "   CLEAR_S clear\t0.18\n",
      "\n",
      "CLEAR_S\n",
      "   CLEAR mg\t1.00\n",
      "\n",
      "CLEAR\n",
      "   NotCL copy\t1.00\n",
      "   CLEAR mg\t0.00\n",
      "\n",
      "F\n"
     ]
    }
   ],
   "source": [
    "print (markhov.fsa2string(new_ops,False)) # False prints the non-log probs"
   ]
  },
  {
   "cell_type": "code",
   "execution_count": 38,
   "metadata": {
    "collapsed": false
   },
   "outputs": [
    {
     "data": {
      "text/plain": [
       "True"
      ]
     },
     "execution_count": 38,
     "metadata": {},
     "output_type": "execute_result"
    }
   ],
   "source": [
    "em.check_fsa(new_ops) # is this a valid probability distribution?"
   ]
  },
  {
   "cell_type": "code",
   "execution_count": 40,
   "metadata": {
    "collapsed": false
   },
   "outputs": [],
   "source": [
    "new_trans = em.update(exp_unigrams,exp_bigrams,trans)"
   ]
  },
  {
   "cell_type": "code",
   "execution_count": 42,
   "metadata": {
    "collapsed": false
   },
   "outputs": [
    {
     "name": "stdout",
     "output_type": "stream",
     "text": [
      "\n",
      "\n",
      "a\n",
      "   a\t0.00\n",
      "   b\t-inf\n",
      "\n",
      "[\n",
      "   a\t0.00\n",
      "   b\t-inf\n",
      "\n",
      "b\n",
      "   a\t-0.69\n",
      "   b\t-0.69\n"
     ]
    }
   ],
   "source": [
    "print (markhov.fsa2string(new_trans))"
   ]
  },
  {
   "cell_type": "code",
   "execution_count": 44,
   "metadata": {
    "collapsed": false
   },
   "outputs": [
    {
     "data": {
      "text/plain": [
       "True"
      ]
     },
     "execution_count": 44,
     "metadata": {},
     "output_type": "execute_result"
    }
   ],
   "source": [
    "em.check_fsa(new_trans) # check this is a valid probability distribution"
   ]
  },
  {
   "cell_type": "markdown",
   "metadata": {},
   "source": [
    "## Expectation Maximisation time!"
   ]
  },
  {
   "cell_type": "code",
   "execution_count": 45,
   "metadata": {
    "collapsed": true
   },
   "outputs": [],
   "source": [
    "n = 30 # number of EM iterations to do"
   ]
  },
  {
   "cell_type": "code",
   "execution_count": 46,
   "metadata": {
    "collapsed": false
   },
   "outputs": [],
   "source": [
    "history=em.em(aaa,trans,ops,n) # run EM"
   ]
  },
  {
   "cell_type": "code",
   "execution_count": 47,
   "metadata": {
    "collapsed": false
   },
   "outputs": [],
   "source": [
    "#for i,step in enumerate(history):\n",
    "#    print ('\\n--------\\n--------\\nIteration %i'%i)\n",
    "#    print ('FSA:')\n",
    "#    print (markhov.fsa2string(step['fsa']))\n",
    "#    print ('\\n------\\nTrans probs:')\n",
    "#    print (markhov.trans2string(step['trans_probs']))"
   ]
  },
  {
   "cell_type": "markdown",
   "metadata": {},
   "source": [
    "Display the results"
   ]
  },
  {
   "cell_type": "markdown",
   "metadata": {},
   "source": [
    "Make the rules into a simpler list"
   ]
  },
  {
   "cell_type": "code",
   "execution_count": 49,
   "metadata": {
    "collapsed": false
   },
   "outputs": [],
   "source": [
    "rules=[]\n",
    "for lhs in ops:\n",
    "    for (rhs,e) in ops[lhs]:\n",
    "        rules.append(('%s->%s %s'%(lhs,e,rhs),(lhs,rhs,e)))"
   ]
  },
  {
   "cell_type": "markdown",
   "metadata": {},
   "source": [
    "Put them and their updating probabilities into a table"
   ]
  },
  {
   "cell_type": "code",
   "execution_count": 51,
   "metadata": {
    "collapsed": false
   },
   "outputs": [],
   "source": [
    "tab=[]\n",
    "for (rule,(lhs,rhs,e)) in rules:\n",
    "    thisrule={' rule':rule}\n",
    "    for i in range(n):\n",
    "        p=history[i]['fsa'][lhs][(rhs,e)]\n",
    "        thisrule[\"p.iteration%03d\"%i]=p\n",
    "    tab.append(thisrule)"
   ]
  },
  {
   "cell_type": "markdown",
   "metadata": {},
   "source": [
    "Use pandas to make the table into a datafram"
   ]
  },
  {
   "cell_type": "code",
   "execution_count": 52,
   "metadata": {
    "collapsed": true
   },
   "outputs": [],
   "source": [
    "df = pd.DataFrame(tab)"
   ]
  },
  {
   "cell_type": "code",
   "execution_count": 53,
   "metadata": {
    "collapsed": false
   },
   "outputs": [
    {
     "data": {
      "text/html": [
       "<div>\n",
       "<table border=\"1\" class=\"dataframe\">\n",
       "  <thead>\n",
       "    <tr style=\"text-align: right;\">\n",
       "      <th></th>\n",
       "      <th>rule</th>\n",
       "      <th>p.iteration000</th>\n",
       "      <th>p.iteration001</th>\n",
       "      <th>p.iteration002</th>\n",
       "      <th>p.iteration003</th>\n",
       "      <th>p.iteration004</th>\n",
       "      <th>p.iteration005</th>\n",
       "      <th>p.iteration006</th>\n",
       "      <th>p.iteration007</th>\n",
       "      <th>p.iteration008</th>\n",
       "      <th>...</th>\n",
       "      <th>p.iteration020</th>\n",
       "      <th>p.iteration021</th>\n",
       "      <th>p.iteration022</th>\n",
       "      <th>p.iteration023</th>\n",
       "      <th>p.iteration024</th>\n",
       "      <th>p.iteration025</th>\n",
       "      <th>p.iteration026</th>\n",
       "      <th>p.iteration027</th>\n",
       "      <th>p.iteration028</th>\n",
       "      <th>p.iteration029</th>\n",
       "    </tr>\n",
       "  </thead>\n",
       "  <tbody>\n",
       "    <tr>\n",
       "      <th>0</th>\n",
       "      <td>S-&gt;mg NotCL</td>\n",
       "      <td>0.000000</td>\n",
       "      <td>0.000000</td>\n",
       "      <td>0.000000</td>\n",
       "      <td>0.000000</td>\n",
       "      <td>0.000000</td>\n",
       "      <td>0.000000</td>\n",
       "      <td>0.000000</td>\n",
       "      <td>0.000000</td>\n",
       "      <td>0.000000</td>\n",
       "      <td>...</td>\n",
       "      <td>0.000000</td>\n",
       "      <td>0.000000</td>\n",
       "      <td>0.000000</td>\n",
       "      <td>0.000000</td>\n",
       "      <td>0.000000</td>\n",
       "      <td>0.000000</td>\n",
       "      <td>0.000000</td>\n",
       "      <td>0.000000</td>\n",
       "      <td>0.000000</td>\n",
       "      <td>0.000000</td>\n",
       "    </tr>\n",
       "    <tr>\n",
       "      <th>1</th>\n",
       "      <td>CLEAR-&gt;mg CLEAR</td>\n",
       "      <td>-0.691818</td>\n",
       "      <td>-inf</td>\n",
       "      <td>-inf</td>\n",
       "      <td>-inf</td>\n",
       "      <td>-inf</td>\n",
       "      <td>-inf</td>\n",
       "      <td>-inf</td>\n",
       "      <td>-inf</td>\n",
       "      <td>-inf</td>\n",
       "      <td>...</td>\n",
       "      <td>-inf</td>\n",
       "      <td>-inf</td>\n",
       "      <td>-inf</td>\n",
       "      <td>-inf</td>\n",
       "      <td>-inf</td>\n",
       "      <td>-inf</td>\n",
       "      <td>-inf</td>\n",
       "      <td>-inf</td>\n",
       "      <td>-inf</td>\n",
       "      <td>-inf</td>\n",
       "    </tr>\n",
       "    <tr>\n",
       "      <th>2</th>\n",
       "      <td>CLEAR-&gt;copy NotCL</td>\n",
       "      <td>-0.694478</td>\n",
       "      <td>0.000000</td>\n",
       "      <td>0.000000</td>\n",
       "      <td>0.000000</td>\n",
       "      <td>0.000000</td>\n",
       "      <td>0.000000</td>\n",
       "      <td>0.000000</td>\n",
       "      <td>0.000000</td>\n",
       "      <td>0.000000</td>\n",
       "      <td>...</td>\n",
       "      <td>0.000000</td>\n",
       "      <td>0.000000</td>\n",
       "      <td>0.000000</td>\n",
       "      <td>0.000000</td>\n",
       "      <td>0.000000</td>\n",
       "      <td>0.000000</td>\n",
       "      <td>0.000000</td>\n",
       "      <td>0.000000</td>\n",
       "      <td>0.000000</td>\n",
       "      <td>0.000000</td>\n",
       "    </tr>\n",
       "    <tr>\n",
       "      <th>3</th>\n",
       "      <td>CLEAR_S-&gt;mg CLEAR</td>\n",
       "      <td>0.000000</td>\n",
       "      <td>0.000000</td>\n",
       "      <td>0.000000</td>\n",
       "      <td>0.000000</td>\n",
       "      <td>0.000000</td>\n",
       "      <td>0.000000</td>\n",
       "      <td>0.000000</td>\n",
       "      <td>0.000000</td>\n",
       "      <td>0.000000</td>\n",
       "      <td>...</td>\n",
       "      <td>0.000000</td>\n",
       "      <td>0.000000</td>\n",
       "      <td>0.000000</td>\n",
       "      <td>0.000000</td>\n",
       "      <td>0.000000</td>\n",
       "      <td>0.000000</td>\n",
       "      <td>0.000000</td>\n",
       "      <td>0.000000</td>\n",
       "      <td>0.000000</td>\n",
       "      <td>0.000000</td>\n",
       "    </tr>\n",
       "    <tr>\n",
       "      <th>4</th>\n",
       "      <td>NotCL-&gt;mg NotCL</td>\n",
       "      <td>-2.450031</td>\n",
       "      <td>-2.823638</td>\n",
       "      <td>-2.718502</td>\n",
       "      <td>-2.578109</td>\n",
       "      <td>-2.427193</td>\n",
       "      <td>-2.276947</td>\n",
       "      <td>-2.130488</td>\n",
       "      <td>-1.988935</td>\n",
       "      <td>-1.852900</td>\n",
       "      <td>...</td>\n",
       "      <td>-0.793251</td>\n",
       "      <td>-0.764167</td>\n",
       "      <td>-0.742694</td>\n",
       "      <td>-0.727264</td>\n",
       "      <td>-0.716411</td>\n",
       "      <td>-0.708900</td>\n",
       "      <td>-0.703761</td>\n",
       "      <td>-0.700274</td>\n",
       "      <td>-0.697921</td>\n",
       "      <td>-0.696340</td>\n",
       "    </tr>\n",
       "    <tr>\n",
       "      <th>5</th>\n",
       "      <td>NotCL-&gt;copy NotCL</td>\n",
       "      <td>-1.123201</td>\n",
       "      <td>-1.582851</td>\n",
       "      <td>-1.794268</td>\n",
       "      <td>-1.883261</td>\n",
       "      <td>-1.948061</td>\n",
       "      <td>-2.014523</td>\n",
       "      <td>-2.089703</td>\n",
       "      <td>-2.176477</td>\n",
       "      <td>-2.276765</td>\n",
       "      <td>...</td>\n",
       "      <td>-5.007832</td>\n",
       "      <td>-5.368153</td>\n",
       "      <td>-5.740901</td>\n",
       "      <td>-6.123177</td>\n",
       "      <td>-6.512491</td>\n",
       "      <td>-6.906854</td>\n",
       "      <td>-7.304759</td>\n",
       "      <td>-7.705110</td>\n",
       "      <td>-8.107133</td>\n",
       "      <td>-8.510288</td>\n",
       "    </tr>\n",
       "    <tr>\n",
       "      <th>6</th>\n",
       "      <td>NotCL-&gt;clear CLEAR_S</td>\n",
       "      <td>-1.298973</td>\n",
       "      <td>-1.852692</td>\n",
       "      <td>-1.723064</td>\n",
       "      <td>-1.707458</td>\n",
       "      <td>-1.717894</td>\n",
       "      <td>-1.737199</td>\n",
       "      <td>-1.762213</td>\n",
       "      <td>-1.792886</td>\n",
       "      <td>-1.830074</td>\n",
       "      <td>...</td>\n",
       "      <td>-3.601047</td>\n",
       "      <td>-3.924914</td>\n",
       "      <td>-4.270719</td>\n",
       "      <td>-4.633636</td>\n",
       "      <td>-5.009340</td>\n",
       "      <td>-5.394286</td>\n",
       "      <td>-5.785751</td>\n",
       "      <td>-6.181735</td>\n",
       "      <td>-6.580811</td>\n",
       "      <td>-6.981986</td>\n",
       "    </tr>\n",
       "    <tr>\n",
       "      <th>7</th>\n",
       "      <td>NotCL-&gt;end F</td>\n",
       "      <td>-1.153090</td>\n",
       "      <td>-0.547477</td>\n",
       "      <td>-0.528889</td>\n",
       "      <td>-0.526509</td>\n",
       "      <td>-0.528104</td>\n",
       "      <td>-0.531018</td>\n",
       "      <td>-0.534722</td>\n",
       "      <td>-0.539157</td>\n",
       "      <td>-0.544381</td>\n",
       "      <td>...</td>\n",
       "      <td>-0.666218</td>\n",
       "      <td>-0.673596</td>\n",
       "      <td>-0.679272</td>\n",
       "      <td>-0.683475</td>\n",
       "      <td>-0.686494</td>\n",
       "      <td>-0.688615</td>\n",
       "      <td>-0.690081</td>\n",
       "      <td>-0.691082</td>\n",
       "      <td>-0.691761</td>\n",
       "      <td>-0.692219</td>\n",
       "    </tr>\n",
       "  </tbody>\n",
       "</table>\n",
       "<p>8 rows × 31 columns</p>\n",
       "</div>"
      ],
      "text/plain": [
       "                   rule  p.iteration000  p.iteration001  p.iteration002  \\\n",
       "0           S->mg NotCL        0.000000        0.000000        0.000000   \n",
       "1       CLEAR->mg CLEAR       -0.691818            -inf            -inf   \n",
       "2     CLEAR->copy NotCL       -0.694478        0.000000        0.000000   \n",
       "3     CLEAR_S->mg CLEAR        0.000000        0.000000        0.000000   \n",
       "4       NotCL->mg NotCL       -2.450031       -2.823638       -2.718502   \n",
       "5     NotCL->copy NotCL       -1.123201       -1.582851       -1.794268   \n",
       "6  NotCL->clear CLEAR_S       -1.298973       -1.852692       -1.723064   \n",
       "7          NotCL->end F       -1.153090       -0.547477       -0.528889   \n",
       "\n",
       "   p.iteration003  p.iteration004  p.iteration005  p.iteration006  \\\n",
       "0        0.000000        0.000000        0.000000        0.000000   \n",
       "1            -inf            -inf            -inf            -inf   \n",
       "2        0.000000        0.000000        0.000000        0.000000   \n",
       "3        0.000000        0.000000        0.000000        0.000000   \n",
       "4       -2.578109       -2.427193       -2.276947       -2.130488   \n",
       "5       -1.883261       -1.948061       -2.014523       -2.089703   \n",
       "6       -1.707458       -1.717894       -1.737199       -1.762213   \n",
       "7       -0.526509       -0.528104       -0.531018       -0.534722   \n",
       "\n",
       "   p.iteration007  p.iteration008       ...        p.iteration020  \\\n",
       "0        0.000000        0.000000       ...              0.000000   \n",
       "1            -inf            -inf       ...                  -inf   \n",
       "2        0.000000        0.000000       ...              0.000000   \n",
       "3        0.000000        0.000000       ...              0.000000   \n",
       "4       -1.988935       -1.852900       ...             -0.793251   \n",
       "5       -2.176477       -2.276765       ...             -5.007832   \n",
       "6       -1.792886       -1.830074       ...             -3.601047   \n",
       "7       -0.539157       -0.544381       ...             -0.666218   \n",
       "\n",
       "   p.iteration021  p.iteration022  p.iteration023  p.iteration024  \\\n",
       "0        0.000000        0.000000        0.000000        0.000000   \n",
       "1            -inf            -inf            -inf            -inf   \n",
       "2        0.000000        0.000000        0.000000        0.000000   \n",
       "3        0.000000        0.000000        0.000000        0.000000   \n",
       "4       -0.764167       -0.742694       -0.727264       -0.716411   \n",
       "5       -5.368153       -5.740901       -6.123177       -6.512491   \n",
       "6       -3.924914       -4.270719       -4.633636       -5.009340   \n",
       "7       -0.673596       -0.679272       -0.683475       -0.686494   \n",
       "\n",
       "   p.iteration025  p.iteration026  p.iteration027  p.iteration028  \\\n",
       "0        0.000000        0.000000        0.000000        0.000000   \n",
       "1            -inf            -inf            -inf            -inf   \n",
       "2        0.000000        0.000000        0.000000        0.000000   \n",
       "3        0.000000        0.000000        0.000000        0.000000   \n",
       "4       -0.708900       -0.703761       -0.700274       -0.697921   \n",
       "5       -6.906854       -7.304759       -7.705110       -8.107133   \n",
       "6       -5.394286       -5.785751       -6.181735       -6.580811   \n",
       "7       -0.688615       -0.690081       -0.691082       -0.691761   \n",
       "\n",
       "   p.iteration029  \n",
       "0        0.000000  \n",
       "1            -inf  \n",
       "2        0.000000  \n",
       "3        0.000000  \n",
       "4       -0.696340  \n",
       "5       -8.510288  \n",
       "6       -6.981986  \n",
       "7       -0.692219  \n",
       "\n",
       "[8 rows x 31 columns]"
      ]
     },
     "execution_count": 53,
     "metadata": {},
     "output_type": "execute_result"
    }
   ],
   "source": [
    "df"
   ]
  },
  {
   "cell_type": "code",
   "execution_count": 54,
   "metadata": {
    "collapsed": true
   },
   "outputs": [],
   "source": [
    "df.to_csv('ops_%s.csv'%('oct_22_2016_aaa')) # print to file"
   ]
  },
  {
   "cell_type": "code",
   "execution_count": 55,
   "metadata": {
    "collapsed": false
   },
   "outputs": [
    {
     "data": {
      "text/plain": [
       "<matplotlib.text.Text at 0xa861516c>"
      ]
     },
     "execution_count": 55,
     "metadata": {},
     "output_type": "execute_result"
    },
    {
     "data": {
      "image/png": "[encoded data removed]",
      "text/plain": [
       "<matplotlib.figure.Figure at 0xa859220c>"
      ]
     },
     "metadata": {},
     "output_type": "display_data"
    }
   ],
   "source": [
    "ncol,_ = df.shape\n",
    "colors = get_colors(ncol)\n",
    "for i,row in df.iterrows():\n",
    "    col = colors[i]\n",
    "    plot(range(n),[ row[\"p.iteration%03d\"%i] for i in range(n) ],'-',color=col,label=row[\" rule\"])\n",
    "legend()\n",
    "xlim(-.5,n+15)\n",
    "xlabel(\"Iteration\")\n",
    "ylabel(\"Rule probability (log)\")"
   ]
  },
  {
   "cell_type": "markdown",
   "metadata": {},
   "source": [
    "Same for the transitions"
   ]
  },
  {
   "cell_type": "code",
   "execution_count": 56,
   "metadata": {
    "collapsed": true
   },
   "outputs": [],
   "source": [
    "bigrams=[]\n",
    "for lhs in trans:\n",
    "    for rhs in trans[lhs]:\n",
    "        bigrams.append(('%s,%s'%(lhs,rhs),(lhs,rhs)))"
   ]
  },
  {
   "cell_type": "code",
   "execution_count": 57,
   "metadata": {
    "collapsed": false,
    "scrolled": true
   },
   "outputs": [
    {
     "data": {
      "text/plain": [
       "[('a,a', ('a', 'a')),\n",
       " ('a,b', ('a', 'b')),\n",
       " ('[,a', ('[', 'a')),\n",
       " ('[,b', ('[', 'b')),\n",
       " ('b,b', ('b', 'b')),\n",
       " ('b,a', ('b', 'a'))]"
      ]
     },
     "execution_count": 57,
     "metadata": {},
     "output_type": "execute_result"
    }
   ],
   "source": [
    "bigrams"
   ]
  },
  {
   "cell_type": "code",
   "execution_count": 58,
   "metadata": {
    "collapsed": true
   },
   "outputs": [],
   "source": [
    "tab=[]\n",
    "for (bi,(lhs,rhs)) in bigrams:\n",
    "    thisrule={' rule':bi}\n",
    "    for i in range(n):\n",
    "        p=history[i]['trans_probs'][lhs][rhs]\n",
    "        thisrule[\"p.iteration%i\"%i]=p\n",
    "    tab.append(thisrule)"
   ]
  },
  {
   "cell_type": "code",
   "execution_count": 59,
   "metadata": {
    "collapsed": true
   },
   "outputs": [],
   "source": [
    "df_bis = pd.DataFrame(tab)"
   ]
  },
  {
   "cell_type": "code",
   "execution_count": 60,
   "metadata": {
    "collapsed": false
   },
   "outputs": [
    {
     "data": {
      "text/html": [
       "<div>\n",
       "<table border=\"1\" class=\"dataframe\">\n",
       "  <thead>\n",
       "    <tr style=\"text-align: right;\">\n",
       "      <th></th>\n",
       "      <th>rule</th>\n",
       "      <th>p.iteration0</th>\n",
       "      <th>p.iteration1</th>\n",
       "      <th>p.iteration10</th>\n",
       "      <th>p.iteration11</th>\n",
       "      <th>p.iteration12</th>\n",
       "      <th>p.iteration13</th>\n",
       "      <th>p.iteration14</th>\n",
       "      <th>p.iteration15</th>\n",
       "      <th>p.iteration16</th>\n",
       "      <th>...</th>\n",
       "      <th>p.iteration27</th>\n",
       "      <th>p.iteration28</th>\n",
       "      <th>p.iteration29</th>\n",
       "      <th>p.iteration3</th>\n",
       "      <th>p.iteration4</th>\n",
       "      <th>p.iteration5</th>\n",
       "      <th>p.iteration6</th>\n",
       "      <th>p.iteration7</th>\n",
       "      <th>p.iteration8</th>\n",
       "      <th>p.iteration9</th>\n",
       "    </tr>\n",
       "  </thead>\n",
       "  <tbody>\n",
       "    <tr>\n",
       "      <th>0</th>\n",
       "      <td>a,a</td>\n",
       "      <td>-0.845272</td>\n",
       "      <td>0.000000</td>\n",
       "      <td>0.000000</td>\n",
       "      <td>0.000000</td>\n",
       "      <td>0.000000</td>\n",
       "      <td>0.000000</td>\n",
       "      <td>0.000000</td>\n",
       "      <td>0.000000</td>\n",
       "      <td>0.000000</td>\n",
       "      <td>...</td>\n",
       "      <td>0.000000</td>\n",
       "      <td>0.000000</td>\n",
       "      <td>0.000000</td>\n",
       "      <td>0.000000</td>\n",
       "      <td>0.000000</td>\n",
       "      <td>0.000000</td>\n",
       "      <td>0.000000</td>\n",
       "      <td>0.000000</td>\n",
       "      <td>0.000000</td>\n",
       "      <td>0.000000</td>\n",
       "    </tr>\n",
       "    <tr>\n",
       "      <th>1</th>\n",
       "      <td>a,b</td>\n",
       "      <td>-0.561138</td>\n",
       "      <td>-inf</td>\n",
       "      <td>-inf</td>\n",
       "      <td>-inf</td>\n",
       "      <td>-inf</td>\n",
       "      <td>-inf</td>\n",
       "      <td>-inf</td>\n",
       "      <td>-inf</td>\n",
       "      <td>-inf</td>\n",
       "      <td>...</td>\n",
       "      <td>-inf</td>\n",
       "      <td>-inf</td>\n",
       "      <td>-inf</td>\n",
       "      <td>-inf</td>\n",
       "      <td>-inf</td>\n",
       "      <td>-inf</td>\n",
       "      <td>-inf</td>\n",
       "      <td>-inf</td>\n",
       "      <td>-inf</td>\n",
       "      <td>-inf</td>\n",
       "    </tr>\n",
       "    <tr>\n",
       "      <th>2</th>\n",
       "      <td>[,a</td>\n",
       "      <td>-1.475227</td>\n",
       "      <td>0.000000</td>\n",
       "      <td>0.000000</td>\n",
       "      <td>0.000000</td>\n",
       "      <td>0.000000</td>\n",
       "      <td>0.000000</td>\n",
       "      <td>0.000000</td>\n",
       "      <td>0.000000</td>\n",
       "      <td>0.000000</td>\n",
       "      <td>...</td>\n",
       "      <td>0.000000</td>\n",
       "      <td>0.000000</td>\n",
       "      <td>0.000000</td>\n",
       "      <td>0.000000</td>\n",
       "      <td>0.000000</td>\n",
       "      <td>0.000000</td>\n",
       "      <td>0.000000</td>\n",
       "      <td>0.000000</td>\n",
       "      <td>0.000000</td>\n",
       "      <td>0.000000</td>\n",
       "    </tr>\n",
       "    <tr>\n",
       "      <th>3</th>\n",
       "      <td>[,b</td>\n",
       "      <td>-0.259713</td>\n",
       "      <td>-inf</td>\n",
       "      <td>-inf</td>\n",
       "      <td>-inf</td>\n",
       "      <td>-inf</td>\n",
       "      <td>-inf</td>\n",
       "      <td>-inf</td>\n",
       "      <td>-inf</td>\n",
       "      <td>-inf</td>\n",
       "      <td>...</td>\n",
       "      <td>-inf</td>\n",
       "      <td>-inf</td>\n",
       "      <td>-inf</td>\n",
       "      <td>-inf</td>\n",
       "      <td>-inf</td>\n",
       "      <td>-inf</td>\n",
       "      <td>-inf</td>\n",
       "      <td>-inf</td>\n",
       "      <td>-inf</td>\n",
       "      <td>-inf</td>\n",
       "    </tr>\n",
       "    <tr>\n",
       "      <th>4</th>\n",
       "      <td>b,b</td>\n",
       "      <td>-0.726899</td>\n",
       "      <td>-0.693147</td>\n",
       "      <td>-0.693147</td>\n",
       "      <td>-0.693147</td>\n",
       "      <td>-0.693147</td>\n",
       "      <td>-0.693147</td>\n",
       "      <td>-0.693147</td>\n",
       "      <td>-0.693147</td>\n",
       "      <td>-0.693147</td>\n",
       "      <td>...</td>\n",
       "      <td>-0.693147</td>\n",
       "      <td>-0.693147</td>\n",
       "      <td>-0.693147</td>\n",
       "      <td>-0.693147</td>\n",
       "      <td>-0.693147</td>\n",
       "      <td>-0.693147</td>\n",
       "      <td>-0.693147</td>\n",
       "      <td>-0.693147</td>\n",
       "      <td>-0.693147</td>\n",
       "      <td>-0.693147</td>\n",
       "    </tr>\n",
       "    <tr>\n",
       "      <th>5</th>\n",
       "      <td>b,a</td>\n",
       "      <td>-0.660497</td>\n",
       "      <td>-0.693147</td>\n",
       "      <td>-0.693147</td>\n",
       "      <td>-0.693147</td>\n",
       "      <td>-0.693147</td>\n",
       "      <td>-0.693147</td>\n",
       "      <td>-0.693147</td>\n",
       "      <td>-0.693147</td>\n",
       "      <td>-0.693147</td>\n",
       "      <td>...</td>\n",
       "      <td>-0.693147</td>\n",
       "      <td>-0.693147</td>\n",
       "      <td>-0.693147</td>\n",
       "      <td>-0.693147</td>\n",
       "      <td>-0.693147</td>\n",
       "      <td>-0.693147</td>\n",
       "      <td>-0.693147</td>\n",
       "      <td>-0.693147</td>\n",
       "      <td>-0.693147</td>\n",
       "      <td>-0.693147</td>\n",
       "    </tr>\n",
       "  </tbody>\n",
       "</table>\n",
       "<p>6 rows × 31 columns</p>\n",
       "</div>"
      ],
      "text/plain": [
       "   rule  p.iteration0  p.iteration1  p.iteration10  p.iteration11  \\\n",
       "0   a,a     -0.845272      0.000000       0.000000       0.000000   \n",
       "1   a,b     -0.561138          -inf           -inf           -inf   \n",
       "2   [,a     -1.475227      0.000000       0.000000       0.000000   \n",
       "3   [,b     -0.259713          -inf           -inf           -inf   \n",
       "4   b,b     -0.726899     -0.693147      -0.693147      -0.693147   \n",
       "5   b,a     -0.660497     -0.693147      -0.693147      -0.693147   \n",
       "\n",
       "   p.iteration12  p.iteration13  p.iteration14  p.iteration15  p.iteration16  \\\n",
       "0       0.000000       0.000000       0.000000       0.000000       0.000000   \n",
       "1           -inf           -inf           -inf           -inf           -inf   \n",
       "2       0.000000       0.000000       0.000000       0.000000       0.000000   \n",
       "3           -inf           -inf           -inf           -inf           -inf   \n",
       "4      -0.693147      -0.693147      -0.693147      -0.693147      -0.693147   \n",
       "5      -0.693147      -0.693147      -0.693147      -0.693147      -0.693147   \n",
       "\n",
       "       ...       p.iteration27  p.iteration28  p.iteration29  p.iteration3  \\\n",
       "0      ...            0.000000       0.000000       0.000000      0.000000   \n",
       "1      ...                -inf           -inf           -inf          -inf   \n",
       "2      ...            0.000000       0.000000       0.000000      0.000000   \n",
       "3      ...                -inf           -inf           -inf          -inf   \n",
       "4      ...           -0.693147      -0.693147      -0.693147     -0.693147   \n",
       "5      ...           -0.693147      -0.693147      -0.693147     -0.693147   \n",
       "\n",
       "   p.iteration4  p.iteration5  p.iteration6  p.iteration7  p.iteration8  \\\n",
       "0      0.000000      0.000000      0.000000      0.000000      0.000000   \n",
       "1          -inf          -inf          -inf          -inf          -inf   \n",
       "2      0.000000      0.000000      0.000000      0.000000      0.000000   \n",
       "3          -inf          -inf          -inf          -inf          -inf   \n",
       "4     -0.693147     -0.693147     -0.693147     -0.693147     -0.693147   \n",
       "5     -0.693147     -0.693147     -0.693147     -0.693147     -0.693147   \n",
       "\n",
       "   p.iteration9  \n",
       "0      0.000000  \n",
       "1          -inf  \n",
       "2      0.000000  \n",
       "3          -inf  \n",
       "4     -0.693147  \n",
       "5     -0.693147  \n",
       "\n",
       "[6 rows x 31 columns]"
      ]
     },
     "execution_count": 60,
     "metadata": {},
     "output_type": "execute_result"
    }
   ],
   "source": [
    "df_bis"
   ]
  },
  {
   "cell_type": "code",
   "execution_count": 61,
   "metadata": {
    "collapsed": true
   },
   "outputs": [],
   "source": [
    "df_bis.to_csv('trans_%s.csv'%('oct_22_2016_aaa'))"
   ]
  },
  {
   "cell_type": "markdown",
   "metadata": {},
   "source": [
    "### Calculate the log likelihood of the corpus given the trained grammar\n",
    "\n",
    "This is the ll of the corpus at the end of training:"
   ]
  },
  {
   "cell_type": "code",
   "execution_count": 62,
   "metadata": {
    "collapsed": false
   },
   "outputs": [
    {
     "data": {
      "text/plain": [
       "-4.1603930004243486"
      ]
     },
     "execution_count": 62,
     "metadata": {},
     "output_type": "execute_result"
    }
   ],
   "source": [
    "em.ll_corpus(parsed_corpus,history[-1]['trans_probs'],history[-1]['fsa'])"
   ]
  },
  {
   "cell_type": "markdown",
   "metadata": {},
   "source": [
    "Make a dataframe of the LL of the corpus throughout training:"
   ]
  },
  {
   "cell_type": "code",
   "execution_count": 63,
   "metadata": {
    "collapsed": true
   },
   "outputs": [],
   "source": [
    "tab=[]\n",
    "for i in range(n):\n",
    "    this_iter={'iteration':i,\n",
    "               'likelihood':em.ll_corpus(parsed_corpus,history[i]['trans_probs'],history[i]['fsa'])}\n",
    "    tab.append(this_iter)"
   ]
  },
  {
   "cell_type": "code",
   "execution_count": 64,
   "metadata": {
    "collapsed": true
   },
   "outputs": [],
   "source": [
    "df_lls=pd.DataFrame(tab)"
   ]
  },
  {
   "cell_type": "code",
   "execution_count": 65,
   "metadata": {
    "collapsed": false
   },
   "outputs": [
    {
     "data": {
      "text/html": [
       "<div>\n",
       "<table border=\"1\" class=\"dataframe\">\n",
       "  <thead>\n",
       "    <tr style=\"text-align: right;\">\n",
       "      <th></th>\n",
       "      <th>iteration</th>\n",
       "      <th>likelihood</th>\n",
       "    </tr>\n",
       "  </thead>\n",
       "  <tbody>\n",
       "    <tr>\n",
       "      <th>0</th>\n",
       "      <td>0</td>\n",
       "      <td>-11.532369</td>\n",
       "    </tr>\n",
       "    <tr>\n",
       "      <th>1</th>\n",
       "      <td>1</td>\n",
       "      <td>-4.728423</td>\n",
       "    </tr>\n",
       "    <tr>\n",
       "      <th>2</th>\n",
       "      <td>2</td>\n",
       "      <td>-4.687455</td>\n",
       "    </tr>\n",
       "    <tr>\n",
       "      <th>3</th>\n",
       "      <td>3</td>\n",
       "      <td>-4.674171</td>\n",
       "    </tr>\n",
       "    <tr>\n",
       "      <th>4</th>\n",
       "      <td>4</td>\n",
       "      <td>-4.660692</td>\n",
       "    </tr>\n",
       "    <tr>\n",
       "      <th>5</th>\n",
       "      <td>5</td>\n",
       "      <td>-4.645377</td>\n",
       "    </tr>\n",
       "    <tr>\n",
       "      <th>6</th>\n",
       "      <td>6</td>\n",
       "      <td>-4.628002</td>\n",
       "    </tr>\n",
       "    <tr>\n",
       "      <th>7</th>\n",
       "      <td>7</td>\n",
       "      <td>-4.608447</td>\n",
       "    </tr>\n",
       "    <tr>\n",
       "      <th>8</th>\n",
       "      <td>8</td>\n",
       "      <td>-4.586636</td>\n",
       "    </tr>\n",
       "    <tr>\n",
       "      <th>9</th>\n",
       "      <td>9</td>\n",
       "      <td>-4.562543</td>\n",
       "    </tr>\n",
       "    <tr>\n",
       "      <th>10</th>\n",
       "      <td>10</td>\n",
       "      <td>-4.536191</td>\n",
       "    </tr>\n",
       "    <tr>\n",
       "      <th>11</th>\n",
       "      <td>11</td>\n",
       "      <td>-4.507661</td>\n",
       "    </tr>\n",
       "    <tr>\n",
       "      <th>12</th>\n",
       "      <td>12</td>\n",
       "      <td>-4.477098</td>\n",
       "    </tr>\n",
       "    <tr>\n",
       "      <th>13</th>\n",
       "      <td>13</td>\n",
       "      <td>-4.444728</td>\n",
       "    </tr>\n",
       "    <tr>\n",
       "      <th>14</th>\n",
       "      <td>14</td>\n",
       "      <td>-4.410905</td>\n",
       "    </tr>\n",
       "    <tr>\n",
       "      <th>15</th>\n",
       "      <td>15</td>\n",
       "      <td>-4.376185</td>\n",
       "    </tr>\n",
       "    <tr>\n",
       "      <th>16</th>\n",
       "      <td>16</td>\n",
       "      <td>-4.341407</td>\n",
       "    </tr>\n",
       "    <tr>\n",
       "      <th>17</th>\n",
       "      <td>17</td>\n",
       "      <td>-4.307712</td>\n",
       "    </tr>\n",
       "    <tr>\n",
       "      <th>18</th>\n",
       "      <td>18</td>\n",
       "      <td>-4.276423</td>\n",
       "    </tr>\n",
       "    <tr>\n",
       "      <th>19</th>\n",
       "      <td>19</td>\n",
       "      <td>-4.248770</td>\n",
       "    </tr>\n",
       "    <tr>\n",
       "      <th>20</th>\n",
       "      <td>20</td>\n",
       "      <td>-4.225575</td>\n",
       "    </tr>\n",
       "    <tr>\n",
       "      <th>21</th>\n",
       "      <td>21</td>\n",
       "      <td>-4.207072</td>\n",
       "    </tr>\n",
       "    <tr>\n",
       "      <th>22</th>\n",
       "      <td>22</td>\n",
       "      <td>-4.192953</td>\n",
       "    </tr>\n",
       "    <tr>\n",
       "      <th>23</th>\n",
       "      <td>23</td>\n",
       "      <td>-4.182566</td>\n",
       "    </tr>\n",
       "    <tr>\n",
       "      <th>24</th>\n",
       "      <td>24</td>\n",
       "      <td>-4.175140</td>\n",
       "    </tr>\n",
       "    <tr>\n",
       "      <th>25</th>\n",
       "      <td>25</td>\n",
       "      <td>-4.169941</td>\n",
       "    </tr>\n",
       "    <tr>\n",
       "      <th>26</th>\n",
       "      <td>26</td>\n",
       "      <td>-4.166357</td>\n",
       "    </tr>\n",
       "    <tr>\n",
       "      <th>27</th>\n",
       "      <td>27</td>\n",
       "      <td>-4.163912</td>\n",
       "    </tr>\n",
       "    <tr>\n",
       "      <th>28</th>\n",
       "      <td>28</td>\n",
       "      <td>-4.162257</td>\n",
       "    </tr>\n",
       "    <tr>\n",
       "      <th>29</th>\n",
       "      <td>29</td>\n",
       "      <td>-4.161142</td>\n",
       "    </tr>\n",
       "  </tbody>\n",
       "</table>\n",
       "</div>"
      ],
      "text/plain": [
       "    iteration  likelihood\n",
       "0           0  -11.532369\n",
       "1           1   -4.728423\n",
       "2           2   -4.687455\n",
       "3           3   -4.674171\n",
       "4           4   -4.660692\n",
       "5           5   -4.645377\n",
       "6           6   -4.628002\n",
       "7           7   -4.608447\n",
       "8           8   -4.586636\n",
       "9           9   -4.562543\n",
       "10         10   -4.536191\n",
       "11         11   -4.507661\n",
       "12         12   -4.477098\n",
       "13         13   -4.444728\n",
       "14         14   -4.410905\n",
       "15         15   -4.376185\n",
       "16         16   -4.341407\n",
       "17         17   -4.307712\n",
       "18         18   -4.276423\n",
       "19         19   -4.248770\n",
       "20         20   -4.225575\n",
       "21         21   -4.207072\n",
       "22         22   -4.192953\n",
       "23         23   -4.182566\n",
       "24         24   -4.175140\n",
       "25         25   -4.169941\n",
       "26         26   -4.166357\n",
       "27         27   -4.163912\n",
       "28         28   -4.162257\n",
       "29         29   -4.161142"
      ]
     },
     "execution_count": 65,
     "metadata": {},
     "output_type": "execute_result"
    }
   ],
   "source": [
    "df_lls"
   ]
  },
  {
   "cell_type": "code",
   "execution_count": 66,
   "metadata": {
    "collapsed": false,
    "scrolled": true
   },
   "outputs": [
    {
     "data": {
      "text/plain": [
       "<matplotlib.text.Text at 0xa6a1d7cc>"
      ]
     },
     "execution_count": 66,
     "metadata": {},
     "output_type": "execute_result"
    },
    {
     "data": {
      "image/png": "[encoded data removed]",
      "text/plain": [
       "<matplotlib.figure.Figure at 0xa6a19ccc>"
      ]
     },
     "metadata": {},
     "output_type": "display_data"
    }
   ],
   "source": [
    "plot(df_lls[\"iteration\"],df_lls[\"likelihood\"],'o-')\n",
    "xlabel(\"Iteration\")\n",
    "ylabel(\"Log Likelihood\")"
   ]
  },
  {
   "cell_type": "markdown",
   "metadata": {},
   "source": [
    "Look at the changing relative probabilities of the parses"
   ]
  },
  {
   "cell_type": "code",
   "execution_count": 67,
   "metadata": {
    "collapsed": false
   },
   "outputs": [],
   "source": [
    "tab=[]\n",
    "\n",
    "for i,(s,parse) in enumerate(parsed_corpus):\n",
    "    this_parse={' sentence':(\"%i: %s\"%(s,' '.join(parse['s']))),'bigrams':' '.join(parse['bis']),'Q':' '.join(parse['rt'][0]),'E':' '.join(parse['rt'][1])}\n",
    "    for iter in range(1,n):\n",
    "        this_parse['iteration_%i p'%iter]=history[iter]['parse_ps'][i]\n",
    "    tab.append(this_parse)"
   ]
  },
  {
   "cell_type": "code",
   "execution_count": 68,
   "metadata": {
    "collapsed": true
   },
   "outputs": [],
   "source": [
    "df.parses=pd.DataFrame(tab)\n"
   ]
  },
  {
   "cell_type": "code",
   "execution_count": 69,
   "metadata": {
    "collapsed": false
   },
   "outputs": [
    {
     "data": {
      "text/html": [
       "<div>\n",
       "<table border=\"1\" class=\"dataframe\">\n",
       "  <thead>\n",
       "    <tr style=\"text-align: right;\">\n",
       "      <th></th>\n",
       "      <th>sentence</th>\n",
       "      <th>E</th>\n",
       "      <th>Q</th>\n",
       "      <th>bigrams</th>\n",
       "      <th>iteration_1 p</th>\n",
       "      <th>iteration_10 p</th>\n",
       "      <th>iteration_11 p</th>\n",
       "      <th>iteration_12 p</th>\n",
       "      <th>iteration_13 p</th>\n",
       "      <th>iteration_14 p</th>\n",
       "      <th>...</th>\n",
       "      <th>iteration_27 p</th>\n",
       "      <th>iteration_28 p</th>\n",
       "      <th>iteration_29 p</th>\n",
       "      <th>iteration_3 p</th>\n",
       "      <th>iteration_4 p</th>\n",
       "      <th>iteration_5 p</th>\n",
       "      <th>iteration_6 p</th>\n",
       "      <th>iteration_7 p</th>\n",
       "      <th>iteration_8 p</th>\n",
       "      <th>iteration_9 p</th>\n",
       "    </tr>\n",
       "  </thead>\n",
       "  <tbody>\n",
       "    <tr>\n",
       "      <th>0</th>\n",
       "      <td>0: a</td>\n",
       "      <td>mg end</td>\n",
       "      <td>S NotCL F</td>\n",
       "      <td>[ a</td>\n",
       "      <td>1.000000</td>\n",
       "      <td>1.000000</td>\n",
       "      <td>1.000000</td>\n",
       "      <td>1.000000</td>\n",
       "      <td>1.000000</td>\n",
       "      <td>1.000000</td>\n",
       "      <td>...</td>\n",
       "      <td>1.000000</td>\n",
       "      <td>1.000000</td>\n",
       "      <td>1.000000</td>\n",
       "      <td>1.000000</td>\n",
       "      <td>1.000000</td>\n",
       "      <td>1.000000</td>\n",
       "      <td>1.000000</td>\n",
       "      <td>1.000000</td>\n",
       "      <td>1.000000</td>\n",
       "      <td>1.000000</td>\n",
       "    </tr>\n",
       "    <tr>\n",
       "      <th>1</th>\n",
       "      <td>1: a   a</td>\n",
       "      <td>mg mg end</td>\n",
       "      <td>S NotCL NotCL F</td>\n",
       "      <td>[ a a</td>\n",
       "      <td>0.102284</td>\n",
       "      <td>0.661376</td>\n",
       "      <td>0.716162</td>\n",
       "      <td>0.767335</td>\n",
       "      <td>0.813675</td>\n",
       "      <td>0.854298</td>\n",
       "      <td>...</td>\n",
       "      <td>0.998643</td>\n",
       "      <td>0.999093</td>\n",
       "      <td>0.999395</td>\n",
       "      <td>0.284096</td>\n",
       "      <td>0.332956</td>\n",
       "      <td>0.382457</td>\n",
       "      <td>0.434768</td>\n",
       "      <td>0.489805</td>\n",
       "      <td>0.546749</td>\n",
       "      <td>0.604408</td>\n",
       "    </tr>\n",
       "    <tr>\n",
       "      <th>2</th>\n",
       "      <td>1: a   a</td>\n",
       "      <td>mg copy end</td>\n",
       "      <td>S NotCL NotCL F</td>\n",
       "      <td>[ a</td>\n",
       "      <td>0.897716</td>\n",
       "      <td>0.338624</td>\n",
       "      <td>0.283838</td>\n",
       "      <td>0.232665</td>\n",
       "      <td>0.186325</td>\n",
       "      <td>0.145702</td>\n",
       "      <td>...</td>\n",
       "      <td>0.001357</td>\n",
       "      <td>0.000907</td>\n",
       "      <td>0.000605</td>\n",
       "      <td>0.715904</td>\n",
       "      <td>0.667044</td>\n",
       "      <td>0.617543</td>\n",
       "      <td>0.565232</td>\n",
       "      <td>0.510195</td>\n",
       "      <td>0.453251</td>\n",
       "      <td>0.395592</td>\n",
       "    </tr>\n",
       "    <tr>\n",
       "      <th>3</th>\n",
       "      <td>2: a   a   a</td>\n",
       "      <td>mg mg mg end</td>\n",
       "      <td>S NotCL NotCL NotCL F</td>\n",
       "      <td>[ a a a</td>\n",
       "      <td>0.019092</td>\n",
       "      <td>0.158191</td>\n",
       "      <td>0.201927</td>\n",
       "      <td>0.254013</td>\n",
       "      <td>0.314572</td>\n",
       "      <td>0.383085</td>\n",
       "      <td>...</td>\n",
       "      <td>0.986284</td>\n",
       "      <td>0.990792</td>\n",
       "      <td>0.993833</td>\n",
       "      <td>0.022454</td>\n",
       "      <td>0.029015</td>\n",
       "      <td>0.039005</td>\n",
       "      <td>0.052572</td>\n",
       "      <td>0.070378</td>\n",
       "      <td>0.093288</td>\n",
       "      <td>0.122248</td>\n",
       "    </tr>\n",
       "    <tr>\n",
       "      <th>4</th>\n",
       "      <td>2: a   a   a</td>\n",
       "      <td>mg copy mg end</td>\n",
       "      <td>S NotCL NotCL NotCL F</td>\n",
       "      <td>[ a a</td>\n",
       "      <td>0.167565</td>\n",
       "      <td>0.080994</td>\n",
       "      <td>0.080030</td>\n",
       "      <td>0.077020</td>\n",
       "      <td>0.072035</td>\n",
       "      <td>0.065336</td>\n",
       "      <td>...</td>\n",
       "      <td>0.001340</td>\n",
       "      <td>0.000899</td>\n",
       "      <td>0.000602</td>\n",
       "      <td>0.056583</td>\n",
       "      <td>0.058129</td>\n",
       "      <td>0.062981</td>\n",
       "      <td>0.068348</td>\n",
       "      <td>0.073307</td>\n",
       "      <td>0.077335</td>\n",
       "      <td>0.080013</td>\n",
       "    </tr>\n",
       "    <tr>\n",
       "      <th>5</th>\n",
       "      <td>2: a   a   a</td>\n",
       "      <td>mg clear mg copy end</td>\n",
       "      <td>S NotCL CLEAR_S CLEAR NotCL F</td>\n",
       "      <td>[ a a</td>\n",
       "      <td>0.813343</td>\n",
       "      <td>0.760816</td>\n",
       "      <td>0.718043</td>\n",
       "      <td>0.668967</td>\n",
       "      <td>0.613393</td>\n",
       "      <td>0.551579</td>\n",
       "      <td>...</td>\n",
       "      <td>0.012375</td>\n",
       "      <td>0.008309</td>\n",
       "      <td>0.005566</td>\n",
       "      <td>0.920962</td>\n",
       "      <td>0.912856</td>\n",
       "      <td>0.898014</td>\n",
       "      <td>0.879081</td>\n",
       "      <td>0.856315</td>\n",
       "      <td>0.829377</td>\n",
       "      <td>0.797739</td>\n",
       "    </tr>\n",
       "  </tbody>\n",
       "</table>\n",
       "<p>6 rows × 33 columns</p>\n",
       "</div>"
      ],
      "text/plain": [
       "       sentence                     E                              Q  bigrams  \\\n",
       "0          0: a                mg end                      S NotCL F      [ a   \n",
       "1      1: a   a             mg mg end                S NotCL NotCL F    [ a a   \n",
       "2      1: a   a           mg copy end                S NotCL NotCL F      [ a   \n",
       "3  2: a   a   a          mg mg mg end          S NotCL NotCL NotCL F  [ a a a   \n",
       "4  2: a   a   a        mg copy mg end          S NotCL NotCL NotCL F    [ a a   \n",
       "5  2: a   a   a  mg clear mg copy end  S NotCL CLEAR_S CLEAR NotCL F    [ a a   \n",
       "\n",
       "   iteration_1 p  iteration_10 p  iteration_11 p  iteration_12 p  \\\n",
       "0       1.000000        1.000000        1.000000        1.000000   \n",
       "1       0.102284        0.661376        0.716162        0.767335   \n",
       "2       0.897716        0.338624        0.283838        0.232665   \n",
       "3       0.019092        0.158191        0.201927        0.254013   \n",
       "4       0.167565        0.080994        0.080030        0.077020   \n",
       "5       0.813343        0.760816        0.718043        0.668967   \n",
       "\n",
       "   iteration_13 p  iteration_14 p      ...        iteration_27 p  \\\n",
       "0        1.000000        1.000000      ...              1.000000   \n",
       "1        0.813675        0.854298      ...              0.998643   \n",
       "2        0.186325        0.145702      ...              0.001357   \n",
       "3        0.314572        0.383085      ...              0.986284   \n",
       "4        0.072035        0.065336      ...              0.001340   \n",
       "5        0.613393        0.551579      ...              0.012375   \n",
       "\n",
       "   iteration_28 p  iteration_29 p  iteration_3 p  iteration_4 p  \\\n",
       "0        1.000000        1.000000       1.000000       1.000000   \n",
       "1        0.999093        0.999395       0.284096       0.332956   \n",
       "2        0.000907        0.000605       0.715904       0.667044   \n",
       "3        0.990792        0.993833       0.022454       0.029015   \n",
       "4        0.000899        0.000602       0.056583       0.058129   \n",
       "5        0.008309        0.005566       0.920962       0.912856   \n",
       "\n",
       "   iteration_5 p  iteration_6 p  iteration_7 p  iteration_8 p  iteration_9 p  \n",
       "0       1.000000       1.000000       1.000000       1.000000       1.000000  \n",
       "1       0.382457       0.434768       0.489805       0.546749       0.604408  \n",
       "2       0.617543       0.565232       0.510195       0.453251       0.395592  \n",
       "3       0.039005       0.052572       0.070378       0.093288       0.122248  \n",
       "4       0.062981       0.068348       0.073307       0.077335       0.080013  \n",
       "5       0.898014       0.879081       0.856315       0.829377       0.797739  \n",
       "\n",
       "[6 rows x 33 columns]"
      ]
     },
     "execution_count": 69,
     "metadata": {},
     "output_type": "execute_result"
    }
   ],
   "source": [
    "df.parses\n"
   ]
  },
  {
   "cell_type": "code",
   "execution_count": 18,
   "metadata": {
    "collapsed": false,
    "scrolled": true
   },
   "outputs": [
    {
     "data": {
      "text/plain": [
       "<module 'em' from 'em.py'>"
      ]
     },
     "execution_count": 18,
     "metadata": {},
     "output_type": "execute_result"
    }
   ],
   "source": [
    "reload(em)"
   ]
  },
  {
   "cell_type": "code",
   "execution_count": null,
   "metadata": {
    "collapsed": true
   },
   "outputs": [],
   "source": []
  }
 ],
 "metadata": {
  "anaconda-cloud": {},
  "kernelspec": {
   "display_name": "Python [Root]",
   "language": "python",
   "name": "Python [Root]"
  },
  "language_info": {
   "codemirror_mode": {
    "name": "ipython",
    "version": 2
   },
   "file_extension": ".py",
   "mimetype": "text/x-python",
   "name": "python",
   "nbconvert_exporter": "python",
   "pygments_lexer": "ipython2",
   "version": "2.7.12"
  }
 },
 "nbformat": 4,
 "nbformat_minor": 0
}
