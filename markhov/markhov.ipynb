{
 "cells": [
  {
   "cell_type": "code",
   "execution_count": 3,
   "metadata": {
    "collapsed": false
   },
   "outputs": [
    {
     "name": "stdout",
     "output_type": "stream",
     "text": [
      "Populating the interactive namespace from numpy and matplotlib\n"
     ]
    }
   ],
   "source": [
    "import markhov\n",
    "import em\n",
    "import numpy as np\n",
    "%pylab inline"
   ]
  },
  {
   "cell_type": "markdown",
   "metadata": {},
   "source": [
    "# Demonstrating EM\n",
    "\n",
    "Here we demonstrate the use and behaviour of the various functions in our expectation maximisation algorithm for learning rule probagbilities for a two-part grammar made up of a finite state automaton that generates strings of operations and a bigram grammar of legal transitions for the operation Merge."
   ]
  },
  {
   "cell_type": "markdown",
   "metadata": {},
   "source": [
    "### Get set up"
   ]
  },
  {
   "cell_type": "markdown",
   "metadata": {},
   "source": [
    "Some functions for log-transforming the grammar"
   ]
  },
  {
   "cell_type": "code",
   "execution_count": 4,
   "metadata": {
    "collapsed": true
   },
   "outputs": [],
   "source": [
    "def ops_log(ops):\n",
    "    for a in ops:\n",
    "        for b in ops[a]:\n",
    "            for w in ops[a][b]:\n",
    "                ops[a][b][w]=np.log(ops[a][b][w])\n",
    "    return ops\n",
    "\n",
    "def bis_log(bigrams):\n",
    "    for a in bigrams:\n",
    "        for b in bigrams[a]:\n",
    "            bigrams[a][b]=np.log(bigrams[a][b])\n",
    "    return bigrams\n"
   ]
  },
  {
   "cell_type": "markdown",
   "metadata": {},
   "source": [
    "Make some transitions"
   ]
  },
  {
   "cell_type": "code",
   "execution_count": 5,
   "metadata": {
    "collapsed": true
   },
   "outputs": [],
   "source": [
    "trans = {'a':['a','b'],\n",
    "           'b':['b','a'],\n",
    "           '[':['a','b']\n",
    "       }\n"
   ]
  },
  {
   "cell_type": "code",
   "execution_count": 6,
   "metadata": {
    "collapsed": false
   },
   "outputs": [],
   "source": [
    "trans_probs = {'a':{'a':0.5,'b':0.5},\n",
    "           'b':{'b':0.5,'a':0.5},\n",
    "           '[':{'a':0.5,'b':0.5}\n",
    "       }\n",
    "\n",
    "trans_probs=bis_log(trans_probs)"
   ]
  },
  {
   "cell_type": "markdown",
   "metadata": {},
   "source": [
    "Operations FSA"
   ]
  },
  {
   "cell_type": "code",
   "execution_count": 7,
   "metadata": {
    "collapsed": true
   },
   "outputs": [],
   "source": [
    "ops = {'S':{'NotCL':['mg']}, # from start we have to merge\n",
    "       'NotCL':{'NotCL':['mg','copy'], # this state is the state in which the last \"special\" operation was *not* Clear. \n",
    "                #Either we've done none or the last was copy. From here we can do everything including end\n",
    "               'CLEAR_S':['clear'], # go here to clear the buffer\n",
    "               'F':['end'] # go here to end\n",
    "           },\n",
    "       'CLEAR_S':{'CLEAR':['mg']}, # this is where we've just cleared. Buffer is empty so you can only Merge\n",
    "       'CLEAR':{'CLEAR':['mg'], # the last special op was Clear so we can Copy or Merge.\n",
    "                'NotCL':['copy'] # if we Copy, the last special op was Copy so go to NotCL\n",
    "            },\n",
    "       'F':{} #final state\n",
    "   }\n"
   ]
  },
  {
   "cell_type": "code",
   "execution_count": 8,
   "metadata": {
    "collapsed": true
   },
   "outputs": [],
   "source": [
    "ops_probs = {'S':{'NotCL':{'mg':1.}}, # from start we have to merge\n",
    "       'NotCL':{'NotCL':{'mg':0.3,'copy':0.1}, # this state is the state in which the last \"special\" operation was *not* Clear. \n",
    "                #Either we've done none or the last was copy. From here we can do everything including end\n",
    "               'CLEAR_S':{'clear':0.1}, # go here to clear the buffer\n",
    "               'F':{'end':0.5} # go here to end\n",
    "           },\n",
    "       'CLEAR_S':{'CLEAR':{'mg':1.}}, # this is where we've just cleared. Buffer is empty so you can only Merge\n",
    "       'CLEAR':{'CLEAR':{'mg':0.5}, # the last special op was Clear so we can Copy or Merge.\n",
    "                'NotCL':{'copy':0.5} # if we Copy, the last special op was Copy so go to NotCL\n",
    "            },\n",
    "       'F':{} #final state\n",
    "   }\n",
    "\n",
    "ops_probs=ops_log(ops_probs)"
   ]
  },
  {
   "cell_type": "markdown",
   "metadata": {
    "collapsed": false
   },
   "source": [
    "A corpus"
   ]
  },
  {
   "cell_type": "code",
   "execution_count": 9,
   "metadata": {
    "collapsed": false
   },
   "outputs": [],
   "source": [
    "aaa = ['a','a a','a a a']"
   ]
  },
  {
   "cell_type": "markdown",
   "metadata": {},
   "source": [
    "### Parse a sentence"
   ]
  },
  {
   "cell_type": "code",
   "execution_count": 10,
   "metadata": {
    "collapsed": true
   },
   "outputs": [],
   "source": [
    "s=aaa[-1]"
   ]
  },
  {
   "cell_type": "code",
   "execution_count": 11,
   "metadata": {
    "collapsed": false
   },
   "outputs": [],
   "source": [
    "parses=markhov.parse(s,trans,ops)"
   ]
  },
  {
   "cell_type": "code",
   "execution_count": 12,
   "metadata": {
    "collapsed": false
   },
   "outputs": [
    {
     "name": "stdout",
     "output_type": "stream",
     "text": [
      "\n",
      "bigrams: [ a a a\n",
      "buffer: a a a\n",
      "op states: S NotCL NotCL NotCL F\n",
      "operations: mg mg mg end\n",
      "k: 3\n",
      "\n",
      "bigrams: [ a a\n",
      "buffer: a a a\n",
      "op states: S NotCL NotCL NotCL F\n",
      "operations: mg copy mg end\n",
      "k: 3\n",
      "\n",
      "bigrams: [ a a\n",
      "buffer: a a\n",
      "op states: S NotCL CLEAR_S CLEAR NotCL F\n",
      "operations: mg clear mg copy end\n",
      "k: 3\n"
     ]
    }
   ],
   "source": [
    "for i in range(len(parses)):\n",
    "    print(markhov.parse2string(parses[i]))"
   ]
  },
  {
   "cell_type": "markdown",
   "metadata": {},
   "source": [
    "### Parse the corpus"
   ]
  },
  {
   "cell_type": "code",
   "execution_count": 13,
   "metadata": {
    "collapsed": false
   },
   "outputs": [],
   "source": [
    "parsed_corpus=em.parse_corpus(aaa,trans,ops)"
   ]
  },
  {
   "cell_type": "code",
   "execution_count": 14,
   "metadata": {
    "collapsed": false
   },
   "outputs": [
    {
     "name": "stdout",
     "output_type": "stream",
     "text": [
      "\n",
      "Parse 0:\n",
      "Sentence: a\n",
      "bigrams: [ a\n",
      "Q: S NotCL F\n",
      "E: mg end\n",
      "SC:\n",
      "  S 1\n",
      "  F 1\n",
      "  NotCL 1\n",
      "TC:\n",
      "  NotCL end F 1\n",
      "  S mg NotCL 1\n",
      "UC:\n",
      "  [ 1\n",
      "BC:\n",
      "  [ a 1\n",
      "\n",
      "Parse 1:\n",
      "Sentence: a a\n",
      "bigrams: [ a a\n",
      "Q: S NotCL NotCL F\n",
      "E: mg mg end\n",
      "SC:\n",
      "  S 1\n",
      "  F 1\n",
      "  NotCL 2\n",
      "TC:\n",
      "  NotCL mg NotCL 1\n",
      "  NotCL end F 1\n",
      "  S mg NotCL 1\n",
      "UC:\n",
      "  a 1\n",
      "  [ 1\n",
      "BC:\n",
      "  [ a 1\n",
      "  a a 1\n",
      "\n",
      "Parse 2:\n",
      "Sentence: a a\n",
      "bigrams: [ a\n",
      "Q: S NotCL NotCL F\n",
      "E: mg copy end\n",
      "SC:\n",
      "  S 1\n",
      "  F 1\n",
      "  NotCL 2\n",
      "TC:\n",
      "  NotCL copy NotCL 1\n",
      "  NotCL end F 1\n",
      "  S mg NotCL 1\n",
      "UC:\n",
      "  [ 1\n",
      "BC:\n",
      "  [ a 1\n",
      "\n",
      "Parse 3:\n",
      "Sentence: a a a\n",
      "bigrams: [ a a a\n",
      "Q: S NotCL NotCL NotCL F\n",
      "E: mg mg mg end\n",
      "SC:\n",
      "  S 1\n",
      "  F 1\n",
      "  NotCL 3\n",
      "TC:\n",
      "  NotCL mg NotCL 2\n",
      "  NotCL end F 1\n",
      "  S mg NotCL 1\n",
      "UC:\n",
      "  a 2\n",
      "  [ 1\n",
      "BC:\n",
      "  [ a 1\n",
      "  a a 2\n",
      "\n",
      "Parse 4:\n",
      "Sentence: a a a\n",
      "bigrams: [ a a\n",
      "Q: S NotCL NotCL NotCL F\n",
      "E: mg copy mg end\n",
      "SC:\n",
      "  S 1\n",
      "  F 1\n",
      "  NotCL 3\n",
      "TC:\n",
      "  NotCL copy NotCL 1\n",
      "  NotCL mg NotCL 1\n",
      "  NotCL end F 1\n",
      "  S mg NotCL 1\n",
      "UC:\n",
      "  a 1\n",
      "  [ 1\n",
      "BC:\n",
      "  [ a 1\n",
      "  a a 1\n",
      "\n",
      "Parse 5:\n",
      "Sentence: a a a\n",
      "bigrams: [ a a\n",
      "Q: S NotCL CLEAR_S CLEAR NotCL F\n",
      "E: mg clear mg copy end\n",
      "SC:\n",
      "  S 1\n",
      "  F 1\n",
      "  CLEAR 1\n",
      "  CLEAR_S 1\n",
      "  NotCL 2\n",
      "TC:\n",
      "  CLEAR_S mg CLEAR 1\n",
      "  NotCL end F 1\n",
      "  NotCL clear CLEAR_S 1\n",
      "  S mg NotCL 1\n",
      "  CLEAR copy NotCL 1\n",
      "UC:\n",
      "  a 1\n",
      "  [ 1\n",
      "BC:\n",
      "  [ a 1\n",
      "  a a 1\n",
      "\n"
     ]
    }
   ],
   "source": [
    "print(em.parsed_corpus2string(parsed_corpus))"
   ]
  },
  {
   "cell_type": "markdown",
   "metadata": {},
   "source": [
    "Make a parallel list of parse relative probabilities"
   ]
  },
  {
   "cell_type": "code",
   "execution_count": 15,
   "metadata": {
    "collapsed": false
   },
   "outputs": [],
   "source": [
    "parse_probs=em.get_p_parses(parsed_corpus,ops_probs,trans_probs)"
   ]
  },
  {
   "cell_type": "code",
   "execution_count": 16,
   "metadata": {
    "collapsed": false
   },
   "outputs": [
    {
     "name": "stdout",
     "output_type": "stream",
     "text": [
      "[1.0, 0.59999999999999987, 0.39999999999999997, 0.36000000000000015, 0.24000000000000005, 0.40000000000000036]\n"
     ]
    }
   ],
   "source": [
    "print(parse_probs)"
   ]
  },
  {
   "cell_type": "code",
   "execution_count": 17,
   "metadata": {
    "collapsed": false
   },
   "outputs": [],
   "source": [
    "(exp_unigrams,exp_bigrams) = em.expected_counts_trans(parsed_corpus,parse_probs,trans)"
   ]
  },
  {
   "cell_type": "code",
   "execution_count": 18,
   "metadata": {
    "collapsed": false
   },
   "outputs": [
    {
     "name": "stdout",
     "output_type": "stream",
     "text": [
      "\n",
      "Expected count of a in each sentence:\n",
      " a: 0.0000\n",
      " a a: 0.6000\n",
      " a a a: 1.3600\n",
      "\n",
      "Expected count of [ in each sentence:\n",
      " a: 1.0000\n",
      " a a: 1.0000\n",
      " a a a: 1.0000\n",
      "\n",
      "Expected count of b in each sentence:\n",
      " a: 0.0000\n",
      " a a: 0.0000\n",
      " a a a: 0.0000\n"
     ]
    }
   ],
   "source": [
    "for u in exp_unigrams:\n",
    "    print '\\nExpected count of %s in each sentence:'%u\n",
    "    for s in exp_unigrams[u]:\n",
    "        print (' %s: %.4f'%(s,exp_unigrams[u][s]))"
   ]
  },
  {
   "cell_type": "code",
   "execution_count": 19,
   "metadata": {
    "collapsed": false
   },
   "outputs": [
    {
     "name": "stdout",
     "output_type": "stream",
     "text": [
      "\n",
      "Expected count of a a in each sentence:\n",
      " a: 0.0000\n",
      " a a: 0.6000\n",
      " a a a: 1.3600\n",
      "\n",
      "Expected count of a b in each sentence:\n",
      " a: 0.0000\n",
      " a a: 0.0000\n",
      " a a a: 0.0000\n",
      "\n",
      "Expected count of [ a in each sentence:\n",
      " a: 1.0000\n",
      " a a: 1.0000\n",
      " a a a: 1.0000\n",
      "\n",
      "Expected count of [ b in each sentence:\n",
      " a: 0.0000\n",
      " a a: 0.0000\n",
      " a a a: 0.0000\n",
      "\n",
      "Expected count of b a in each sentence:\n",
      " a: 0.0000\n",
      " a a: 0.0000\n",
      " a a a: 0.0000\n",
      "\n",
      "Expected count of b b in each sentence:\n",
      " a: 0.0000\n",
      " a a: 0.0000\n",
      " a a a: 0.0000\n"
     ]
    }
   ],
   "source": [
    "for a in exp_bigrams:\n",
    "    for b in exp_bigrams[a]:\n",
    "        print '\\nExpected count of %s %s in each sentence:'%(a,b)\n",
    "        for s in exp_bigrams[a][b]:\n",
    "            print (' %s: %.4f'%(s,exp_bigrams[a][b][s]))"
   ]
  },
  {
   "cell_type": "code",
   "execution_count": 20,
   "metadata": {
    "collapsed": true
   },
   "outputs": [],
   "source": [
    "(exp_states,exp_tr) = em.expected_counts_fsa(parsed_corpus,parse_probs,ops)"
   ]
  },
  {
   "cell_type": "code",
   "execution_count": 21,
   "metadata": {
    "collapsed": false
   },
   "outputs": [
    {
     "name": "stdout",
     "output_type": "stream",
     "text": [
      "\n",
      "Expected count of S in each sentence:\n",
      " a: 1.0000\n",
      " a a: 1.0000\n",
      " a a a: 1.0000\n",
      "\n",
      "Expected count of NotCL in each sentence:\n",
      " a: 1.0000\n",
      " a a: 2.0000\n",
      " a a a: 2.6000\n",
      "\n",
      "Expected count of CLEAR_S in each sentence:\n",
      " a: 0.0000\n",
      " a a: 0.0000\n",
      " a a a: 0.4000\n",
      "\n",
      "Expected count of CLEAR in each sentence:\n",
      " a: 0.0000\n",
      " a a: 0.0000\n",
      " a a a: 0.4000\n",
      "\n",
      "Expected count of F in each sentence:\n",
      " a: 1.0000\n",
      " a a: 1.0000\n",
      " a a a: 1.0000\n"
     ]
    }
   ],
   "source": [
    "for u in exp_states:\n",
    "    print '\\nExpected count of %s in each sentence:'%u\n",
    "    for s in exp_states[u]:\n",
    "        print (' %s: %.4f'%(s,exp_states[u][s]))"
   ]
  },
  {
   "cell_type": "code",
   "execution_count": 22,
   "metadata": {
    "collapsed": false
   },
   "outputs": [
    {
     "name": "stdout",
     "output_type": "stream",
     "text": [
      "\n",
      "Expected count of (S mg NotCL) in each sentence:\n",
      " a: 1.0000\n",
      " a a: 1.0000\n",
      " a a a: 1.0000\n",
      "\n",
      "Expected count of (NotCL clear CLEAR_S) in each sentence:\n",
      " a: 0.0000\n",
      " a a: 0.0000\n",
      " a a a: 0.4000\n",
      "\n",
      "Expected count of (NotCL mg NotCL) in each sentence:\n",
      " a: 0.0000\n",
      " a a: 0.6000\n",
      " a a a: 0.9600\n",
      "\n",
      "Expected count of (NotCL copy NotCL) in each sentence:\n",
      " a: 0.0000\n",
      " a a: 0.4000\n",
      " a a a: 0.2400\n",
      "\n",
      "Expected count of (NotCL end F) in each sentence:\n",
      " a: 1.0000\n",
      " a a: 1.0000\n",
      " a a a: 1.0000\n",
      "\n",
      "Expected count of (CLEAR_S mg CLEAR) in each sentence:\n",
      " a: 0.0000\n",
      " a a: 0.0000\n",
      " a a a: 0.4000\n",
      "\n",
      "Expected count of (CLEAR mg CLEAR) in each sentence:\n",
      " a: 0.0000\n",
      " a a: 0.0000\n",
      " a a a: 0.0000\n",
      "\n",
      "Expected count of (CLEAR copy NotCL) in each sentence:\n",
      " a: 0.0000\n",
      " a a: 0.0000\n",
      " a a a: 0.4000\n"
     ]
    }
   ],
   "source": [
    "for a in exp_tr:\n",
    "    for b in exp_tr[a]:\n",
    "        for e in exp_tr[a][b]:\n",
    "            print '\\nExpected count of (%s %s %s) in each sentence:'%(a,e,b)\n",
    "            for s in exp_tr[a][b][e]:\n",
    "                print (' %s: %.4f'%(s,exp_tr[a][b][e][s]))"
   ]
  },
  {
   "cell_type": "code",
   "execution_count": 23,
   "metadata": {
    "collapsed": false
   },
   "outputs": [],
   "source": [
    "new_ops = em.update_rabbit_fsa(exp_states,exp_tr,ops)"
   ]
  },
  {
   "cell_type": "code",
   "execution_count": 24,
   "metadata": {
    "collapsed": false
   },
   "outputs": [
    {
     "name": "stdout",
     "output_type": "stream",
     "text": [
      "\n",
      "\n",
      "S\n",
      "   NotCL\n",
      "      mg\t1.00\n",
      "\n",
      "NotCL\n",
      "   CLEAR_S\n",
      "      clear\t0.07\n",
      "   NotCL\n",
      "      mg\t0.28\n",
      "      copy\t0.11\n",
      "   F\n",
      "      end\t0.54\n",
      "\n",
      "CLEAR_S\n",
      "   CLEAR\n",
      "      mg\t1.00\n",
      "\n",
      "CLEAR\n",
      "   CLEAR\n",
      "      mg\t0.00\n",
      "   NotCL\n",
      "      copy\t1.00\n",
      "\n",
      "F\n"
     ]
    }
   ],
   "source": [
    "print (markhov.fsa2string(new_ops,False)) # False prints the non-log probs"
   ]
  },
  {
   "cell_type": "code",
   "execution_count": 25,
   "metadata": {
    "collapsed": false
   },
   "outputs": [
    {
     "data": {
      "text/plain": [
       "True"
      ]
     },
     "execution_count": 25,
     "metadata": {},
     "output_type": "execute_result"
    }
   ],
   "source": [
    "em.check_fsa(new_ops) # is this a valid probability distribution?"
   ]
  },
  {
   "cell_type": "code",
   "execution_count": 26,
   "metadata": {
    "collapsed": false
   },
   "outputs": [],
   "source": [
    "new_trans = em.update_rabbit_trans(exp_unigrams,exp_bigrams,trans)"
   ]
  },
  {
   "cell_type": "code",
   "execution_count": 27,
   "metadata": {
    "collapsed": false
   },
   "outputs": [
    {
     "name": "stdout",
     "output_type": "stream",
     "text": [
      "\n",
      "\n",
      "a\n",
      "  a\t0.00\n",
      "  b\t-inf\n",
      "\n",
      "[\n",
      "  a\t0.00\n",
      "  b\t-inf\n",
      "\n",
      "b\n",
      "  a\t-0.69\n",
      "  b\t-0.69\n"
     ]
    }
   ],
   "source": [
    "print (markhov.trans2string(new_trans))"
   ]
  },
  {
   "cell_type": "code",
   "execution_count": 28,
   "metadata": {
    "collapsed": false
   },
   "outputs": [
    {
     "data": {
      "text/plain": [
       "True"
      ]
     },
     "execution_count": 28,
     "metadata": {},
     "output_type": "execute_result"
    }
   ],
   "source": [
    "em.check_bis(new_trans) # check this is a valid probability distribution"
   ]
  },
  {
   "cell_type": "markdown",
   "metadata": {},
   "source": [
    "## Expectation Maximisation time!"
   ]
  },
  {
   "cell_type": "code",
   "execution_count": 53,
   "metadata": {
    "collapsed": true
   },
   "outputs": [],
   "source": [
    "n = 50 # number of EM iterations to do"
   ]
  },
  {
   "cell_type": "code",
   "execution_count": 54,
   "metadata": {
    "collapsed": false
   },
   "outputs": [],
   "source": [
    "history=em.em_rabbit(aaa,trans,ops,n) # run EM"
   ]
  },
  {
   "cell_type": "code",
   "execution_count": 55,
   "metadata": {
    "collapsed": false
   },
   "outputs": [],
   "source": [
    "#for i,step in enumerate(history):\n",
    "#    print ('\\n--------\\n--------\\nIteration %i'%i)\n",
    "#    print ('FSA:')\n",
    "#    print (markhov.fsa2string(step['fsa']))\n",
    "#    print ('\\n------\\nTrans probs:')\n",
    "#    print (markhov.trans2string(step['trans_probs']))"
   ]
  },
  {
   "cell_type": "markdown",
   "metadata": {},
   "source": [
    "Display the results"
   ]
  },
  {
   "cell_type": "code",
   "execution_count": 56,
   "metadata": {
    "collapsed": true
   },
   "outputs": [],
   "source": [
    "import pandas as pd"
   ]
  },
  {
   "cell_type": "markdown",
   "metadata": {},
   "source": [
    "Make the rules into a simpler list"
   ]
  },
  {
   "cell_type": "code",
   "execution_count": 57,
   "metadata": {
    "collapsed": false
   },
   "outputs": [],
   "source": [
    "rules=[]\n",
    "for lhs in ops:\n",
    "    for rhs in ops[lhs]:\n",
    "        for e in ops[lhs][rhs]:\n",
    "            rules.append(('%s->%s %s'%(lhs,e,rhs),(lhs,rhs,e)))"
   ]
  },
  {
   "cell_type": "markdown",
   "metadata": {},
   "source": [
    "Put them and their updating probabilities into a table"
   ]
  },
  {
   "cell_type": "code",
   "execution_count": 58,
   "metadata": {
    "collapsed": true
   },
   "outputs": [],
   "source": [
    "tab=[]\n",
    "for (rule,(lhs,rhs,e)) in rules:\n",
    "    thisrule={'rule':rule}\n",
    "    for i in range(n):\n",
    "        p=history[i]['fsa'][lhs][rhs][e]\n",
    "        thisrule[\"p.iteration%03d\"%i]=p\n",
    "    tab.append(thisrule)"
   ]
  },
  {
   "cell_type": "markdown",
   "metadata": {},
   "source": [
    "Use pandas to make the table into a datafram"
   ]
  },
  {
   "cell_type": "code",
   "execution_count": 59,
   "metadata": {
    "collapsed": true
   },
   "outputs": [],
   "source": [
    "df = pd.DataFrame(tab)"
   ]
  },
  {
   "cell_type": "code",
   "execution_count": 60,
   "metadata": {
    "collapsed": false
   },
   "outputs": [
    {
     "data": {
      "text/html": [
       "<div>\n",
       "<table border=\"1\" class=\"dataframe\">\n",
       "  <thead>\n",
       "    <tr style=\"text-align: right;\">\n",
       "      <th></th>\n",
       "      <th>p.iteration000</th>\n",
       "      <th>p.iteration001</th>\n",
       "      <th>p.iteration002</th>\n",
       "      <th>p.iteration003</th>\n",
       "      <th>p.iteration004</th>\n",
       "      <th>p.iteration005</th>\n",
       "      <th>p.iteration006</th>\n",
       "      <th>p.iteration007</th>\n",
       "      <th>p.iteration008</th>\n",
       "      <th>p.iteration009</th>\n",
       "      <th>...</th>\n",
       "      <th>p.iteration041</th>\n",
       "      <th>p.iteration042</th>\n",
       "      <th>p.iteration043</th>\n",
       "      <th>p.iteration044</th>\n",
       "      <th>p.iteration045</th>\n",
       "      <th>p.iteration046</th>\n",
       "      <th>p.iteration047</th>\n",
       "      <th>p.iteration048</th>\n",
       "      <th>p.iteration049</th>\n",
       "      <th>rule</th>\n",
       "    </tr>\n",
       "  </thead>\n",
       "  <tbody>\n",
       "    <tr>\n",
       "      <th>0</th>\n",
       "      <td>0.000000</td>\n",
       "      <td>0.000000</td>\n",
       "      <td>0.000000</td>\n",
       "      <td>0.000000</td>\n",
       "      <td>0.000000</td>\n",
       "      <td>0.000000</td>\n",
       "      <td>0.000000</td>\n",
       "      <td>0.000000</td>\n",
       "      <td>0.000000</td>\n",
       "      <td>0.000000</td>\n",
       "      <td>...</td>\n",
       "      <td>0.000000</td>\n",
       "      <td>0.000000</td>\n",
       "      <td>0.000000</td>\n",
       "      <td>0.000000</td>\n",
       "      <td>0.000000</td>\n",
       "      <td>0.000000</td>\n",
       "      <td>0.000000</td>\n",
       "      <td>0.000000</td>\n",
       "      <td>0.000000</td>\n",
       "      <td>S-&gt;mg NotCL</td>\n",
       "    </tr>\n",
       "    <tr>\n",
       "      <th>1</th>\n",
       "      <td>-0.103666</td>\n",
       "      <td>-inf</td>\n",
       "      <td>-inf</td>\n",
       "      <td>-inf</td>\n",
       "      <td>-inf</td>\n",
       "      <td>-inf</td>\n",
       "      <td>-inf</td>\n",
       "      <td>-inf</td>\n",
       "      <td>-inf</td>\n",
       "      <td>-inf</td>\n",
       "      <td>...</td>\n",
       "      <td>-inf</td>\n",
       "      <td>-inf</td>\n",
       "      <td>-inf</td>\n",
       "      <td>-inf</td>\n",
       "      <td>-inf</td>\n",
       "      <td>-inf</td>\n",
       "      <td>-inf</td>\n",
       "      <td>-inf</td>\n",
       "      <td>-inf</td>\n",
       "      <td>CLEAR-&gt;mg CLEAR</td>\n",
       "    </tr>\n",
       "    <tr>\n",
       "      <th>2</th>\n",
       "      <td>-2.317964</td>\n",
       "      <td>0.000000</td>\n",
       "      <td>0.000000</td>\n",
       "      <td>0.000000</td>\n",
       "      <td>0.000000</td>\n",
       "      <td>0.000000</td>\n",
       "      <td>0.000000</td>\n",
       "      <td>0.000000</td>\n",
       "      <td>0.000000</td>\n",
       "      <td>0.000000</td>\n",
       "      <td>...</td>\n",
       "      <td>0.000000</td>\n",
       "      <td>0.000000</td>\n",
       "      <td>0.000000</td>\n",
       "      <td>0.000000</td>\n",
       "      <td>0.000000</td>\n",
       "      <td>0.000000</td>\n",
       "      <td>0.000000</td>\n",
       "      <td>0.000000</td>\n",
       "      <td>0.000000</td>\n",
       "      <td>CLEAR-&gt;copy NotCL</td>\n",
       "    </tr>\n",
       "    <tr>\n",
       "      <th>3</th>\n",
       "      <td>0.000000</td>\n",
       "      <td>0.000000</td>\n",
       "      <td>0.000000</td>\n",
       "      <td>0.000000</td>\n",
       "      <td>0.000000</td>\n",
       "      <td>0.000000</td>\n",
       "      <td>0.000000</td>\n",
       "      <td>0.000000</td>\n",
       "      <td>0.000000</td>\n",
       "      <td>0.000000</td>\n",
       "      <td>...</td>\n",
       "      <td>0.000000</td>\n",
       "      <td>0.000000</td>\n",
       "      <td>0.000000</td>\n",
       "      <td>0.000000</td>\n",
       "      <td>0.000000</td>\n",
       "      <td>0.000000</td>\n",
       "      <td>0.000000</td>\n",
       "      <td>0.000000</td>\n",
       "      <td>0.000000</td>\n",
       "      <td>CLEAR_S-&gt;mg CLEAR</td>\n",
       "    </tr>\n",
       "    <tr>\n",
       "      <th>4</th>\n",
       "      <td>-1.533047</td>\n",
       "      <td>-2.949170</td>\n",
       "      <td>-2.403479</td>\n",
       "      <td>-2.216665</td>\n",
       "      <td>-2.162743</td>\n",
       "      <td>-2.175683</td>\n",
       "      <td>-2.231219</td>\n",
       "      <td>-2.320419</td>\n",
       "      <td>-2.440960</td>\n",
       "      <td>-2.593459</td>\n",
       "      <td>...</td>\n",
       "      <td>-14.588367</td>\n",
       "      <td>-14.993831</td>\n",
       "      <td>-15.399295</td>\n",
       "      <td>-15.804759</td>\n",
       "      <td>-16.210224</td>\n",
       "      <td>-16.615689</td>\n",
       "      <td>-17.021154</td>\n",
       "      <td>-17.426619</td>\n",
       "      <td>-17.832084</td>\n",
       "      <td>NotCL-&gt;clear CLEAR_S</td>\n",
       "    </tr>\n",
       "    <tr>\n",
       "      <th>5</th>\n",
       "      <td>-1.411498</td>\n",
       "      <td>-0.642090</td>\n",
       "      <td>-0.606600</td>\n",
       "      <td>-0.589714</td>\n",
       "      <td>-0.584285</td>\n",
       "      <td>-0.585611</td>\n",
       "      <td>-0.591135</td>\n",
       "      <td>-0.599445</td>\n",
       "      <td>-0.609655</td>\n",
       "      <td>-0.621049</td>\n",
       "      <td>...</td>\n",
       "      <td>-0.693147</td>\n",
       "      <td>-0.693147</td>\n",
       "      <td>-0.693147</td>\n",
       "      <td>-0.693147</td>\n",
       "      <td>-0.693147</td>\n",
       "      <td>-0.693147</td>\n",
       "      <td>-0.693147</td>\n",
       "      <td>-0.693147</td>\n",
       "      <td>-0.693147</td>\n",
       "      <td>NotCL-&gt;end F</td>\n",
       "    </tr>\n",
       "    <tr>\n",
       "      <th>6</th>\n",
       "      <td>-2.146648</td>\n",
       "      <td>-2.074845</td>\n",
       "      <td>-1.756208</td>\n",
       "      <td>-1.612424</td>\n",
       "      <td>-1.501037</td>\n",
       "      <td>-1.396663</td>\n",
       "      <td>-1.296147</td>\n",
       "      <td>-1.200555</td>\n",
       "      <td>-1.111436</td>\n",
       "      <td>-1.030214</td>\n",
       "      <td>...</td>\n",
       "      <td>-0.693149</td>\n",
       "      <td>-0.693148</td>\n",
       "      <td>-0.693148</td>\n",
       "      <td>-0.693148</td>\n",
       "      <td>-0.693148</td>\n",
       "      <td>-0.693147</td>\n",
       "      <td>-0.693147</td>\n",
       "      <td>-0.693147</td>\n",
       "      <td>-0.693147</td>\n",
       "      <td>NotCL-&gt;mg NotCL</td>\n",
       "    </tr>\n",
       "    <tr>\n",
       "      <th>7</th>\n",
       "      <td>-0.859272</td>\n",
       "      <td>-1.217905</td>\n",
       "      <td>-1.651839</td>\n",
       "      <td>-1.986765</td>\n",
       "      <td>-2.257733</td>\n",
       "      <td>-2.497592</td>\n",
       "      <td>-2.728454</td>\n",
       "      <td>-2.963763</td>\n",
       "      <td>-3.211447</td>\n",
       "      <td>-3.476098</td>\n",
       "      <td>...</td>\n",
       "      <td>-15.921468</td>\n",
       "      <td>-16.326932</td>\n",
       "      <td>-16.732397</td>\n",
       "      <td>-17.137862</td>\n",
       "      <td>-17.543326</td>\n",
       "      <td>-17.948791</td>\n",
       "      <td>-18.354256</td>\n",
       "      <td>-18.759721</td>\n",
       "      <td>-19.165186</td>\n",
       "      <td>NotCL-&gt;copy NotCL</td>\n",
       "    </tr>\n",
       "  </tbody>\n",
       "</table>\n",
       "<p>8 rows × 51 columns</p>\n",
       "</div>"
      ],
      "text/plain": [
       "   p.iteration000  p.iteration001  p.iteration002  p.iteration003  \\\n",
       "0        0.000000        0.000000        0.000000        0.000000   \n",
       "1       -0.103666            -inf            -inf            -inf   \n",
       "2       -2.317964        0.000000        0.000000        0.000000   \n",
       "3        0.000000        0.000000        0.000000        0.000000   \n",
       "4       -1.533047       -2.949170       -2.403479       -2.216665   \n",
       "5       -1.411498       -0.642090       -0.606600       -0.589714   \n",
       "6       -2.146648       -2.074845       -1.756208       -1.612424   \n",
       "7       -0.859272       -1.217905       -1.651839       -1.986765   \n",
       "\n",
       "   p.iteration004  p.iteration005  p.iteration006  p.iteration007  \\\n",
       "0        0.000000        0.000000        0.000000        0.000000   \n",
       "1            -inf            -inf            -inf            -inf   \n",
       "2        0.000000        0.000000        0.000000        0.000000   \n",
       "3        0.000000        0.000000        0.000000        0.000000   \n",
       "4       -2.162743       -2.175683       -2.231219       -2.320419   \n",
       "5       -0.584285       -0.585611       -0.591135       -0.599445   \n",
       "6       -1.501037       -1.396663       -1.296147       -1.200555   \n",
       "7       -2.257733       -2.497592       -2.728454       -2.963763   \n",
       "\n",
       "   p.iteration008  p.iteration009          ...           p.iteration041  \\\n",
       "0        0.000000        0.000000          ...                 0.000000   \n",
       "1            -inf            -inf          ...                     -inf   \n",
       "2        0.000000        0.000000          ...                 0.000000   \n",
       "3        0.000000        0.000000          ...                 0.000000   \n",
       "4       -2.440960       -2.593459          ...               -14.588367   \n",
       "5       -0.609655       -0.621049          ...                -0.693147   \n",
       "6       -1.111436       -1.030214          ...                -0.693149   \n",
       "7       -3.211447       -3.476098          ...               -15.921468   \n",
       "\n",
       "   p.iteration042  p.iteration043  p.iteration044  p.iteration045  \\\n",
       "0        0.000000        0.000000        0.000000        0.000000   \n",
       "1            -inf            -inf            -inf            -inf   \n",
       "2        0.000000        0.000000        0.000000        0.000000   \n",
       "3        0.000000        0.000000        0.000000        0.000000   \n",
       "4      -14.993831      -15.399295      -15.804759      -16.210224   \n",
       "5       -0.693147       -0.693147       -0.693147       -0.693147   \n",
       "6       -0.693148       -0.693148       -0.693148       -0.693148   \n",
       "7      -16.326932      -16.732397      -17.137862      -17.543326   \n",
       "\n",
       "   p.iteration046  p.iteration047  p.iteration048  p.iteration049  \\\n",
       "0        0.000000        0.000000        0.000000        0.000000   \n",
       "1            -inf            -inf            -inf            -inf   \n",
       "2        0.000000        0.000000        0.000000        0.000000   \n",
       "3        0.000000        0.000000        0.000000        0.000000   \n",
       "4      -16.615689      -17.021154      -17.426619      -17.832084   \n",
       "5       -0.693147       -0.693147       -0.693147       -0.693147   \n",
       "6       -0.693147       -0.693147       -0.693147       -0.693147   \n",
       "7      -17.948791      -18.354256      -18.759721      -19.165186   \n",
       "\n",
       "                   rule  \n",
       "0           S->mg NotCL  \n",
       "1       CLEAR->mg CLEAR  \n",
       "2     CLEAR->copy NotCL  \n",
       "3     CLEAR_S->mg CLEAR  \n",
       "4  NotCL->clear CLEAR_S  \n",
       "5          NotCL->end F  \n",
       "6       NotCL->mg NotCL  \n",
       "7     NotCL->copy NotCL  \n",
       "\n",
       "[8 rows x 51 columns]"
      ]
     },
     "execution_count": 60,
     "metadata": {},
     "output_type": "execute_result"
    }
   ],
   "source": [
    "df"
   ]
  },
  {
   "cell_type": "code",
   "execution_count": 61,
   "metadata": {
    "collapsed": true
   },
   "outputs": [],
   "source": [
    "df.to_csv('ops_%s.csv'%('oct_22_2016_aaa')) # print to file"
   ]
  },
  {
   "cell_type": "markdown",
   "metadata": {},
   "source": [
    "Same for the transitions"
   ]
  },
  {
   "cell_type": "code",
   "execution_count": 62,
   "metadata": {
    "collapsed": true
   },
   "outputs": [],
   "source": [
    "bigrams=[]\n",
    "for lhs in trans:\n",
    "    for rhs in trans[lhs]:\n",
    "        bigrams.append(('%s,%s'%(lhs,rhs),(lhs,rhs)))"
   ]
  },
  {
   "cell_type": "code",
   "execution_count": 63,
   "metadata": {
    "collapsed": false,
    "scrolled": true
   },
   "outputs": [
    {
     "data": {
      "text/plain": [
       "[('a,a', ('a', 'a')),\n",
       " ('a,b', ('a', 'b')),\n",
       " ('[,a', ('[', 'a')),\n",
       " ('[,b', ('[', 'b')),\n",
       " ('b,b', ('b', 'b')),\n",
       " ('b,a', ('b', 'a'))]"
      ]
     },
     "execution_count": 63,
     "metadata": {},
     "output_type": "execute_result"
    }
   ],
   "source": [
    "bigrams"
   ]
  },
  {
   "cell_type": "code",
   "execution_count": 64,
   "metadata": {
    "collapsed": true
   },
   "outputs": [],
   "source": [
    "tab=[]\n",
    "for (bi,(lhs,rhs)) in bigrams:\n",
    "    thisrule={'rule':bi}\n",
    "    for i in range(n):\n",
    "        p=history[i]['trans_probs'][lhs][rhs]\n",
    "        thisrule[\"p.iteration%i\"%i]=p\n",
    "    tab.append(thisrule)"
   ]
  },
  {
   "cell_type": "code",
   "execution_count": 65,
   "metadata": {
    "collapsed": true
   },
   "outputs": [],
   "source": [
    "df_bis = pd.DataFrame(tab)"
   ]
  },
  {
   "cell_type": "code",
   "execution_count": 66,
   "metadata": {
    "collapsed": false
   },
   "outputs": [
    {
     "data": {
      "text/html": [
       "<div>\n",
       "<table border=\"1\" class=\"dataframe\">\n",
       "  <thead>\n",
       "    <tr style=\"text-align: right;\">\n",
       "      <th></th>\n",
       "      <th>p.iteration0</th>\n",
       "      <th>p.iteration1</th>\n",
       "      <th>p.iteration10</th>\n",
       "      <th>p.iteration11</th>\n",
       "      <th>p.iteration12</th>\n",
       "      <th>p.iteration13</th>\n",
       "      <th>p.iteration14</th>\n",
       "      <th>p.iteration15</th>\n",
       "      <th>p.iteration16</th>\n",
       "      <th>p.iteration17</th>\n",
       "      <th>...</th>\n",
       "      <th>p.iteration46</th>\n",
       "      <th>p.iteration47</th>\n",
       "      <th>p.iteration48</th>\n",
       "      <th>p.iteration49</th>\n",
       "      <th>p.iteration5</th>\n",
       "      <th>p.iteration6</th>\n",
       "      <th>p.iteration7</th>\n",
       "      <th>p.iteration8</th>\n",
       "      <th>p.iteration9</th>\n",
       "      <th>rule</th>\n",
       "    </tr>\n",
       "  </thead>\n",
       "  <tbody>\n",
       "    <tr>\n",
       "      <th>0</th>\n",
       "      <td>-3.461732</td>\n",
       "      <td>0.000000</td>\n",
       "      <td>0.000000</td>\n",
       "      <td>0.000000</td>\n",
       "      <td>0.000000</td>\n",
       "      <td>0.000000</td>\n",
       "      <td>0.000000</td>\n",
       "      <td>0.000000</td>\n",
       "      <td>0.000000</td>\n",
       "      <td>0.000000</td>\n",
       "      <td>...</td>\n",
       "      <td>0.000000</td>\n",
       "      <td>0.000000</td>\n",
       "      <td>0.000000</td>\n",
       "      <td>0.000000</td>\n",
       "      <td>0.000000</td>\n",
       "      <td>0.000000</td>\n",
       "      <td>0.000000</td>\n",
       "      <td>0.000000</td>\n",
       "      <td>0.000000</td>\n",
       "      <td>a,a</td>\n",
       "    </tr>\n",
       "    <tr>\n",
       "      <th>1</th>\n",
       "      <td>-0.031878</td>\n",
       "      <td>-inf</td>\n",
       "      <td>-inf</td>\n",
       "      <td>-inf</td>\n",
       "      <td>-inf</td>\n",
       "      <td>-inf</td>\n",
       "      <td>-inf</td>\n",
       "      <td>-inf</td>\n",
       "      <td>-inf</td>\n",
       "      <td>-inf</td>\n",
       "      <td>...</td>\n",
       "      <td>-inf</td>\n",
       "      <td>-inf</td>\n",
       "      <td>-inf</td>\n",
       "      <td>-inf</td>\n",
       "      <td>-inf</td>\n",
       "      <td>-inf</td>\n",
       "      <td>-inf</td>\n",
       "      <td>-inf</td>\n",
       "      <td>-inf</td>\n",
       "      <td>a,b</td>\n",
       "    </tr>\n",
       "    <tr>\n",
       "      <th>2</th>\n",
       "      <td>-0.270596</td>\n",
       "      <td>0.000000</td>\n",
       "      <td>0.000000</td>\n",
       "      <td>0.000000</td>\n",
       "      <td>0.000000</td>\n",
       "      <td>0.000000</td>\n",
       "      <td>0.000000</td>\n",
       "      <td>0.000000</td>\n",
       "      <td>0.000000</td>\n",
       "      <td>0.000000</td>\n",
       "      <td>...</td>\n",
       "      <td>0.000000</td>\n",
       "      <td>0.000000</td>\n",
       "      <td>0.000000</td>\n",
       "      <td>0.000000</td>\n",
       "      <td>0.000000</td>\n",
       "      <td>0.000000</td>\n",
       "      <td>0.000000</td>\n",
       "      <td>0.000000</td>\n",
       "      <td>0.000000</td>\n",
       "      <td>[,a</td>\n",
       "    </tr>\n",
       "    <tr>\n",
       "      <th>3</th>\n",
       "      <td>-1.439378</td>\n",
       "      <td>-inf</td>\n",
       "      <td>-inf</td>\n",
       "      <td>-inf</td>\n",
       "      <td>-inf</td>\n",
       "      <td>-inf</td>\n",
       "      <td>-inf</td>\n",
       "      <td>-inf</td>\n",
       "      <td>-inf</td>\n",
       "      <td>-inf</td>\n",
       "      <td>...</td>\n",
       "      <td>-inf</td>\n",
       "      <td>-inf</td>\n",
       "      <td>-inf</td>\n",
       "      <td>-inf</td>\n",
       "      <td>-inf</td>\n",
       "      <td>-inf</td>\n",
       "      <td>-inf</td>\n",
       "      <td>-inf</td>\n",
       "      <td>-inf</td>\n",
       "      <td>[,b</td>\n",
       "    </tr>\n",
       "    <tr>\n",
       "      <th>4</th>\n",
       "      <td>-1.276119</td>\n",
       "      <td>-0.693147</td>\n",
       "      <td>-0.693147</td>\n",
       "      <td>-0.693147</td>\n",
       "      <td>-0.693147</td>\n",
       "      <td>-0.693147</td>\n",
       "      <td>-0.693147</td>\n",
       "      <td>-0.693147</td>\n",
       "      <td>-0.693147</td>\n",
       "      <td>-0.693147</td>\n",
       "      <td>...</td>\n",
       "      <td>-0.693147</td>\n",
       "      <td>-0.693147</td>\n",
       "      <td>-0.693147</td>\n",
       "      <td>-0.693147</td>\n",
       "      <td>-0.693147</td>\n",
       "      <td>-0.693147</td>\n",
       "      <td>-0.693147</td>\n",
       "      <td>-0.693147</td>\n",
       "      <td>-0.693147</td>\n",
       "      <td>b,b</td>\n",
       "    </tr>\n",
       "    <tr>\n",
       "      <th>5</th>\n",
       "      <td>-0.327281</td>\n",
       "      <td>-0.693147</td>\n",
       "      <td>-0.693147</td>\n",
       "      <td>-0.693147</td>\n",
       "      <td>-0.693147</td>\n",
       "      <td>-0.693147</td>\n",
       "      <td>-0.693147</td>\n",
       "      <td>-0.693147</td>\n",
       "      <td>-0.693147</td>\n",
       "      <td>-0.693147</td>\n",
       "      <td>...</td>\n",
       "      <td>-0.693147</td>\n",
       "      <td>-0.693147</td>\n",
       "      <td>-0.693147</td>\n",
       "      <td>-0.693147</td>\n",
       "      <td>-0.693147</td>\n",
       "      <td>-0.693147</td>\n",
       "      <td>-0.693147</td>\n",
       "      <td>-0.693147</td>\n",
       "      <td>-0.693147</td>\n",
       "      <td>b,a</td>\n",
       "    </tr>\n",
       "  </tbody>\n",
       "</table>\n",
       "<p>6 rows × 51 columns</p>\n",
       "</div>"
      ],
      "text/plain": [
       "   p.iteration0  p.iteration1  p.iteration10  p.iteration11  p.iteration12  \\\n",
       "0     -3.461732      0.000000       0.000000       0.000000       0.000000   \n",
       "1     -0.031878          -inf           -inf           -inf           -inf   \n",
       "2     -0.270596      0.000000       0.000000       0.000000       0.000000   \n",
       "3     -1.439378          -inf           -inf           -inf           -inf   \n",
       "4     -1.276119     -0.693147      -0.693147      -0.693147      -0.693147   \n",
       "5     -0.327281     -0.693147      -0.693147      -0.693147      -0.693147   \n",
       "\n",
       "   p.iteration13  p.iteration14  p.iteration15  p.iteration16  p.iteration17  \\\n",
       "0       0.000000       0.000000       0.000000       0.000000       0.000000   \n",
       "1           -inf           -inf           -inf           -inf           -inf   \n",
       "2       0.000000       0.000000       0.000000       0.000000       0.000000   \n",
       "3           -inf           -inf           -inf           -inf           -inf   \n",
       "4      -0.693147      -0.693147      -0.693147      -0.693147      -0.693147   \n",
       "5      -0.693147      -0.693147      -0.693147      -0.693147      -0.693147   \n",
       "\n",
       "   ...   p.iteration46  p.iteration47  p.iteration48  p.iteration49  \\\n",
       "0  ...        0.000000       0.000000       0.000000       0.000000   \n",
       "1  ...            -inf           -inf           -inf           -inf   \n",
       "2  ...        0.000000       0.000000       0.000000       0.000000   \n",
       "3  ...            -inf           -inf           -inf           -inf   \n",
       "4  ...       -0.693147      -0.693147      -0.693147      -0.693147   \n",
       "5  ...       -0.693147      -0.693147      -0.693147      -0.693147   \n",
       "\n",
       "   p.iteration5  p.iteration6  p.iteration7  p.iteration8  p.iteration9  rule  \n",
       "0      0.000000      0.000000      0.000000      0.000000      0.000000   a,a  \n",
       "1          -inf          -inf          -inf          -inf          -inf   a,b  \n",
       "2      0.000000      0.000000      0.000000      0.000000      0.000000   [,a  \n",
       "3          -inf          -inf          -inf          -inf          -inf   [,b  \n",
       "4     -0.693147     -0.693147     -0.693147     -0.693147     -0.693147   b,b  \n",
       "5     -0.693147     -0.693147     -0.693147     -0.693147     -0.693147   b,a  \n",
       "\n",
       "[6 rows x 51 columns]"
      ]
     },
     "execution_count": 66,
     "metadata": {},
     "output_type": "execute_result"
    }
   ],
   "source": [
    "df_bis"
   ]
  },
  {
   "cell_type": "code",
   "execution_count": 67,
   "metadata": {
    "collapsed": true
   },
   "outputs": [],
   "source": [
    "df_bis.to_csv('trans_%s.csv'%('oct_22_2016_aaa'))"
   ]
  },
  {
   "cell_type": "code",
   "execution_count": null,
   "metadata": {
    "collapsed": false
   },
   "outputs": [],
   "source": []
  },
  {
   "cell_type": "markdown",
   "metadata": {},
   "source": [
    "### Calculate the log likelihood of the corpus given the trained grammar\n",
    "\n",
    "This is the ll of the corpus at the end of training:"
   ]
  },
  {
   "cell_type": "code",
   "execution_count": 68,
   "metadata": {
    "collapsed": false
   },
   "outputs": [
    {
     "data": {
      "text/plain": [
       "-4.1588831137120508"
      ]
     },
     "execution_count": 68,
     "metadata": {},
     "output_type": "execute_result"
    }
   ],
   "source": [
    "markhov.ll_corpus(parsed_corpus,history[-1]['trans_probs'],history[-1]['fsa'])"
   ]
  },
  {
   "cell_type": "markdown",
   "metadata": {},
   "source": [
    "Make a dataframe of the LL of the corpus throughout training:"
   ]
  },
  {
   "cell_type": "code",
   "execution_count": 69,
   "metadata": {
    "collapsed": true
   },
   "outputs": [],
   "source": [
    "tab=[]\n",
    "for i in range(n):\n",
    "    this_iter={'iteration':i,\n",
    "               'likelihood':markhov.ll_corpus(parsed_corpus,history[i]['trans_probs'],history[i]['fsa'])}\n",
    "    tab.append(this_iter)"
   ]
  },
  {
   "cell_type": "code",
   "execution_count": 70,
   "metadata": {
    "collapsed": true
   },
   "outputs": [],
   "source": [
    "df_lls=pd.DataFrame(tab)"
   ]
  },
  {
   "cell_type": "code",
   "execution_count": 71,
   "metadata": {
    "collapsed": false
   },
   "outputs": [
    {
     "data": {
      "text/html": [
       "<div>\n",
       "<table border=\"1\" class=\"dataframe\">\n",
       "  <thead>\n",
       "    <tr style=\"text-align: right;\">\n",
       "      <th></th>\n",
       "      <th>iteration</th>\n",
       "      <th>likelihood</th>\n",
       "    </tr>\n",
       "  </thead>\n",
       "  <tbody>\n",
       "    <tr>\n",
       "      <th>0</th>\n",
       "      <td>0</td>\n",
       "      <td>-12.001208</td>\n",
       "    </tr>\n",
       "    <tr>\n",
       "      <th>1</th>\n",
       "      <td>1</td>\n",
       "      <td>-5.041286</td>\n",
       "    </tr>\n",
       "    <tr>\n",
       "      <th>2</th>\n",
       "      <td>2</td>\n",
       "      <td>-4.704455</td>\n",
       "    </tr>\n",
       "    <tr>\n",
       "      <th>3</th>\n",
       "      <td>3</td>\n",
       "      <td>-4.594992</td>\n",
       "    </tr>\n",
       "    <tr>\n",
       "      <th>4</th>\n",
       "      <td>4</td>\n",
       "      <td>-4.540447</td>\n",
       "    </tr>\n",
       "    <tr>\n",
       "      <th>5</th>\n",
       "      <td>5</td>\n",
       "      <td>-4.500605</td>\n",
       "    </tr>\n",
       "    <tr>\n",
       "      <th>6</th>\n",
       "      <td>6</td>\n",
       "      <td>-4.464301</td>\n",
       "    </tr>\n",
       "    <tr>\n",
       "      <th>7</th>\n",
       "      <td>7</td>\n",
       "      <td>-4.428336</td>\n",
       "    </tr>\n",
       "    <tr>\n",
       "      <th>8</th>\n",
       "      <td>8</td>\n",
       "      <td>-4.392044</td>\n",
       "    </tr>\n",
       "    <tr>\n",
       "      <th>9</th>\n",
       "      <td>9</td>\n",
       "      <td>-4.355788</td>\n",
       "    </tr>\n",
       "    <tr>\n",
       "      <th>10</th>\n",
       "      <td>10</td>\n",
       "      <td>-4.320507</td>\n",
       "    </tr>\n",
       "    <tr>\n",
       "      <th>11</th>\n",
       "      <td>11</td>\n",
       "      <td>-4.287465</td>\n",
       "    </tr>\n",
       "    <tr>\n",
       "      <th>12</th>\n",
       "      <td>12</td>\n",
       "      <td>-4.257943</td>\n",
       "    </tr>\n",
       "    <tr>\n",
       "      <th>13</th>\n",
       "      <td>13</td>\n",
       "      <td>-4.232886</td>\n",
       "    </tr>\n",
       "    <tr>\n",
       "      <th>14</th>\n",
       "      <td>14</td>\n",
       "      <td>-4.212671</td>\n",
       "    </tr>\n",
       "    <tr>\n",
       "      <th>15</th>\n",
       "      <td>15</td>\n",
       "      <td>-4.197094</td>\n",
       "    </tr>\n",
       "    <tr>\n",
       "      <th>16</th>\n",
       "      <td>16</td>\n",
       "      <td>-4.185542</td>\n",
       "    </tr>\n",
       "    <tr>\n",
       "      <th>17</th>\n",
       "      <td>17</td>\n",
       "      <td>-4.177232</td>\n",
       "    </tr>\n",
       "    <tr>\n",
       "      <th>18</th>\n",
       "      <td>18</td>\n",
       "      <td>-4.171388</td>\n",
       "    </tr>\n",
       "    <tr>\n",
       "      <th>19</th>\n",
       "      <td>19</td>\n",
       "      <td>-4.167346</td>\n",
       "    </tr>\n",
       "    <tr>\n",
       "      <th>20</th>\n",
       "      <td>20</td>\n",
       "      <td>-4.164583</td>\n",
       "    </tr>\n",
       "    <tr>\n",
       "      <th>21</th>\n",
       "      <td>21</td>\n",
       "      <td>-4.162709</td>\n",
       "    </tr>\n",
       "    <tr>\n",
       "      <th>22</th>\n",
       "      <td>22</td>\n",
       "      <td>-4.161446</td>\n",
       "    </tr>\n",
       "    <tr>\n",
       "      <th>23</th>\n",
       "      <td>23</td>\n",
       "      <td>-4.160597</td>\n",
       "    </tr>\n",
       "    <tr>\n",
       "      <th>24</th>\n",
       "      <td>24</td>\n",
       "      <td>-4.160028</td>\n",
       "    </tr>\n",
       "    <tr>\n",
       "      <th>25</th>\n",
       "      <td>25</td>\n",
       "      <td>-4.159647</td>\n",
       "    </tr>\n",
       "    <tr>\n",
       "      <th>26</th>\n",
       "      <td>26</td>\n",
       "      <td>-4.159393</td>\n",
       "    </tr>\n",
       "    <tr>\n",
       "      <th>27</th>\n",
       "      <td>27</td>\n",
       "      <td>-4.159223</td>\n",
       "    </tr>\n",
       "    <tr>\n",
       "      <th>28</th>\n",
       "      <td>28</td>\n",
       "      <td>-4.159110</td>\n",
       "    </tr>\n",
       "    <tr>\n",
       "      <th>29</th>\n",
       "      <td>29</td>\n",
       "      <td>-4.159034</td>\n",
       "    </tr>\n",
       "    <tr>\n",
       "      <th>30</th>\n",
       "      <td>30</td>\n",
       "      <td>-4.158984</td>\n",
       "    </tr>\n",
       "    <tr>\n",
       "      <th>31</th>\n",
       "      <td>31</td>\n",
       "      <td>-4.158950</td>\n",
       "    </tr>\n",
       "    <tr>\n",
       "      <th>32</th>\n",
       "      <td>32</td>\n",
       "      <td>-4.158928</td>\n",
       "    </tr>\n",
       "    <tr>\n",
       "      <th>33</th>\n",
       "      <td>33</td>\n",
       "      <td>-4.158913</td>\n",
       "    </tr>\n",
       "    <tr>\n",
       "      <th>34</th>\n",
       "      <td>34</td>\n",
       "      <td>-4.158903</td>\n",
       "    </tr>\n",
       "    <tr>\n",
       "      <th>35</th>\n",
       "      <td>35</td>\n",
       "      <td>-4.158896</td>\n",
       "    </tr>\n",
       "    <tr>\n",
       "      <th>36</th>\n",
       "      <td>36</td>\n",
       "      <td>-4.158892</td>\n",
       "    </tr>\n",
       "    <tr>\n",
       "      <th>37</th>\n",
       "      <td>37</td>\n",
       "      <td>-4.158889</td>\n",
       "    </tr>\n",
       "    <tr>\n",
       "      <th>38</th>\n",
       "      <td>38</td>\n",
       "      <td>-4.158887</td>\n",
       "    </tr>\n",
       "    <tr>\n",
       "      <th>39</th>\n",
       "      <td>39</td>\n",
       "      <td>-4.158886</td>\n",
       "    </tr>\n",
       "    <tr>\n",
       "      <th>40</th>\n",
       "      <td>40</td>\n",
       "      <td>-4.158885</td>\n",
       "    </tr>\n",
       "    <tr>\n",
       "      <th>41</th>\n",
       "      <td>41</td>\n",
       "      <td>-4.158884</td>\n",
       "    </tr>\n",
       "    <tr>\n",
       "      <th>42</th>\n",
       "      <td>42</td>\n",
       "      <td>-4.158884</td>\n",
       "    </tr>\n",
       "    <tr>\n",
       "      <th>43</th>\n",
       "      <td>43</td>\n",
       "      <td>-4.158884</td>\n",
       "    </tr>\n",
       "    <tr>\n",
       "      <th>44</th>\n",
       "      <td>44</td>\n",
       "      <td>-4.158883</td>\n",
       "    </tr>\n",
       "    <tr>\n",
       "      <th>45</th>\n",
       "      <td>45</td>\n",
       "      <td>-4.158883</td>\n",
       "    </tr>\n",
       "    <tr>\n",
       "      <th>46</th>\n",
       "      <td>46</td>\n",
       "      <td>-4.158883</td>\n",
       "    </tr>\n",
       "    <tr>\n",
       "      <th>47</th>\n",
       "      <td>47</td>\n",
       "      <td>-4.158883</td>\n",
       "    </tr>\n",
       "    <tr>\n",
       "      <th>48</th>\n",
       "      <td>48</td>\n",
       "      <td>-4.158883</td>\n",
       "    </tr>\n",
       "    <tr>\n",
       "      <th>49</th>\n",
       "      <td>49</td>\n",
       "      <td>-4.158883</td>\n",
       "    </tr>\n",
       "  </tbody>\n",
       "</table>\n",
       "</div>"
      ],
      "text/plain": [
       "    iteration  likelihood\n",
       "0           0  -12.001208\n",
       "1           1   -5.041286\n",
       "2           2   -4.704455\n",
       "3           3   -4.594992\n",
       "4           4   -4.540447\n",
       "5           5   -4.500605\n",
       "6           6   -4.464301\n",
       "7           7   -4.428336\n",
       "8           8   -4.392044\n",
       "9           9   -4.355788\n",
       "10         10   -4.320507\n",
       "11         11   -4.287465\n",
       "12         12   -4.257943\n",
       "13         13   -4.232886\n",
       "14         14   -4.212671\n",
       "15         15   -4.197094\n",
       "16         16   -4.185542\n",
       "17         17   -4.177232\n",
       "18         18   -4.171388\n",
       "19         19   -4.167346\n",
       "20         20   -4.164583\n",
       "21         21   -4.162709\n",
       "22         22   -4.161446\n",
       "23         23   -4.160597\n",
       "24         24   -4.160028\n",
       "25         25   -4.159647\n",
       "26         26   -4.159393\n",
       "27         27   -4.159223\n",
       "28         28   -4.159110\n",
       "29         29   -4.159034\n",
       "30         30   -4.158984\n",
       "31         31   -4.158950\n",
       "32         32   -4.158928\n",
       "33         33   -4.158913\n",
       "34         34   -4.158903\n",
       "35         35   -4.158896\n",
       "36         36   -4.158892\n",
       "37         37   -4.158889\n",
       "38         38   -4.158887\n",
       "39         39   -4.158886\n",
       "40         40   -4.158885\n",
       "41         41   -4.158884\n",
       "42         42   -4.158884\n",
       "43         43   -4.158884\n",
       "44         44   -4.158883\n",
       "45         45   -4.158883\n",
       "46         46   -4.158883\n",
       "47         47   -4.158883\n",
       "48         48   -4.158883\n",
       "49         49   -4.158883"
      ]
     },
     "execution_count": 71,
     "metadata": {},
     "output_type": "execute_result"
    }
   ],
   "source": [
    "df_lls"
   ]
  },
  {
   "cell_type": "code",
   "execution_count": 72,
   "metadata": {
    "collapsed": false
   },
   "outputs": [
    {
     "data": {
      "text/plain": [
       "<matplotlib.text.Text at 0xaa0cffcc>"
      ]
     },
     "execution_count": 72,
     "metadata": {},
     "output_type": "execute_result"
    },
    {
     "data": {
      "image/png": "[encoded data removed]",
      "text/plain": [
       "<matplotlib.figure.Figure at 0xa9dd6fac>"
      ]
     },
     "metadata": {},
     "output_type": "display_data"
    }
   ],
   "source": [
    "plot(df_lls[\"iteration\"],df_lls[\"likelihood\"],'o-')\n",
    "xlabel(\"Iteration\")\n",
    "ylabel(\"Log Likelihood\")"
   ]
  },
  {
   "cell_type": "code",
   "execution_count": 73,
   "metadata": {
    "collapsed": false
   },
   "outputs": [],
   "source": [
    "tab=[]\n",
    "\n",
    "for i,(s,parse) in enumerate(parsed_corpus):\n",
    "    this_parse={'sentence':' '.join(s),'bigrams':' '.join(parse['bis']),'Q':' '.join(parse['rt'][0]),'E':' '.join(parse['rt'][1])}\n",
    "    for iter in range(1,n):\n",
    "        this_parse['iteration_%i p'%iter]=history[iter]['parse_ps'][i]\n",
    "    tab.append(this_parse)"
   ]
  },
  {
   "cell_type": "code",
   "execution_count": 74,
   "metadata": {
    "collapsed": true
   },
   "outputs": [],
   "source": [
    "df.parses=pd.DataFrame(tab)\n"
   ]
  },
  {
   "cell_type": "code",
   "execution_count": 75,
   "metadata": {
    "collapsed": false
   },
   "outputs": [
    {
     "data": {
      "text/html": [
       "<div>\n",
       "<table border=\"1\" class=\"dataframe\">\n",
       "  <thead>\n",
       "    <tr style=\"text-align: right;\">\n",
       "      <th></th>\n",
       "      <th>E</th>\n",
       "      <th>Q</th>\n",
       "      <th>bigrams</th>\n",
       "      <th>iteration_1 p</th>\n",
       "      <th>iteration_10 p</th>\n",
       "      <th>iteration_11 p</th>\n",
       "      <th>iteration_12 p</th>\n",
       "      <th>iteration_13 p</th>\n",
       "      <th>iteration_14 p</th>\n",
       "      <th>iteration_15 p</th>\n",
       "      <th>...</th>\n",
       "      <th>iteration_46 p</th>\n",
       "      <th>iteration_47 p</th>\n",
       "      <th>iteration_48 p</th>\n",
       "      <th>iteration_49 p</th>\n",
       "      <th>iteration_5 p</th>\n",
       "      <th>iteration_6 p</th>\n",
       "      <th>iteration_7 p</th>\n",
       "      <th>iteration_8 p</th>\n",
       "      <th>iteration_9 p</th>\n",
       "      <th>sentence</th>\n",
       "    </tr>\n",
       "  </thead>\n",
       "  <tbody>\n",
       "    <tr>\n",
       "      <th>0</th>\n",
       "      <td>mg end</td>\n",
       "      <td>S NotCL F</td>\n",
       "      <td>[ a</td>\n",
       "      <td>1.000000</td>\n",
       "      <td>1.000000</td>\n",
       "      <td>1.000000</td>\n",
       "      <td>1.000000</td>\n",
       "      <td>1.000000</td>\n",
       "      <td>1.000000</td>\n",
       "      <td>1.000000</td>\n",
       "      <td>...</td>\n",
       "      <td>1.000000e+00</td>\n",
       "      <td>1.000000e+00</td>\n",
       "      <td>1.000000e+00</td>\n",
       "      <td>1.000000e+00</td>\n",
       "      <td>1.000000</td>\n",
       "      <td>1.000000</td>\n",
       "      <td>1.000000</td>\n",
       "      <td>1.000000</td>\n",
       "      <td>1.000000</td>\n",
       "      <td>a</td>\n",
       "    </tr>\n",
       "    <tr>\n",
       "      <th>1</th>\n",
       "      <td>mg mg end</td>\n",
       "      <td>S NotCL NotCL F</td>\n",
       "      <td>[ a a</td>\n",
       "      <td>0.008585</td>\n",
       "      <td>0.920260</td>\n",
       "      <td>0.942785</td>\n",
       "      <td>0.959625</td>\n",
       "      <td>0.971909</td>\n",
       "      <td>0.980679</td>\n",
       "      <td>0.986829</td>\n",
       "      <td>...</td>\n",
       "      <td>1.000000e+00</td>\n",
       "      <td>1.000000e+00</td>\n",
       "      <td>1.000000e+00</td>\n",
       "      <td>1.000000e+00</td>\n",
       "      <td>0.680636</td>\n",
       "      <td>0.750434</td>\n",
       "      <td>0.807261</td>\n",
       "      <td>0.853611</td>\n",
       "      <td>0.890904</td>\n",
       "      <td>a   a</td>\n",
       "    </tr>\n",
       "    <tr>\n",
       "      <th>2</th>\n",
       "      <td>mg copy end</td>\n",
       "      <td>S NotCL NotCL F</td>\n",
       "      <td>[ a</td>\n",
       "      <td>0.991415</td>\n",
       "      <td>0.079740</td>\n",
       "      <td>0.057215</td>\n",
       "      <td>0.040375</td>\n",
       "      <td>0.028091</td>\n",
       "      <td>0.019321</td>\n",
       "      <td>0.013171</td>\n",
       "      <td>...</td>\n",
       "      <td>4.809061e-08</td>\n",
       "      <td>3.206041e-08</td>\n",
       "      <td>2.137361e-08</td>\n",
       "      <td>1.424907e-08</td>\n",
       "      <td>0.319364</td>\n",
       "      <td>0.249566</td>\n",
       "      <td>0.192739</td>\n",
       "      <td>0.146389</td>\n",
       "      <td>0.109096</td>\n",
       "      <td>a   a</td>\n",
       "    </tr>\n",
       "    <tr>\n",
       "      <th>3</th>\n",
       "      <td>mg mg mg end</td>\n",
       "      <td>S NotCL NotCL NotCL F</td>\n",
       "      <td>[ a a a</td>\n",
       "      <td>0.006021</td>\n",
       "      <td>0.597560</td>\n",
       "      <td>0.674543</td>\n",
       "      <td>0.745771</td>\n",
       "      <td>0.807884</td>\n",
       "      <td>0.859067</td>\n",
       "      <td>0.899163</td>\n",
       "      <td>...</td>\n",
       "      <td>9.999996e-01</td>\n",
       "      <td>9.999997e-01</td>\n",
       "      <td>9.999998e-01</td>\n",
       "      <td>9.999999e-01</td>\n",
       "      <td>0.264268</td>\n",
       "      <td>0.313763</td>\n",
       "      <td>0.374023</td>\n",
       "      <td>0.443355</td>\n",
       "      <td>0.519073</td>\n",
       "      <td>a   a   a</td>\n",
       "    </tr>\n",
       "    <tr>\n",
       "      <th>4</th>\n",
       "      <td>mg copy mg end</td>\n",
       "      <td>S NotCL NotCL NotCL F</td>\n",
       "      <td>[ a a</td>\n",
       "      <td>0.695325</td>\n",
       "      <td>0.051778</td>\n",
       "      <td>0.040936</td>\n",
       "      <td>0.031378</td>\n",
       "      <td>0.023350</td>\n",
       "      <td>0.016925</td>\n",
       "      <td>0.012001</td>\n",
       "      <td>...</td>\n",
       "      <td>4.809059e-08</td>\n",
       "      <td>3.206040e-08</td>\n",
       "      <td>2.137360e-08</td>\n",
       "      <td>1.424907e-08</td>\n",
       "      <td>0.123998</td>\n",
       "      <td>0.104346</td>\n",
       "      <td>0.089301</td>\n",
       "      <td>0.076033</td>\n",
       "      <td>0.063563</td>\n",
       "      <td>a   a   a</td>\n",
       "    </tr>\n",
       "    <tr>\n",
       "      <th>5</th>\n",
       "      <td>mg clear mg copy end</td>\n",
       "      <td>S NotCL CLEAR_S CLEAR NotCL F</td>\n",
       "      <td>[ a a</td>\n",
       "      <td>0.298654</td>\n",
       "      <td>0.350662</td>\n",
       "      <td>0.284521</td>\n",
       "      <td>0.222851</td>\n",
       "      <td>0.168766</td>\n",
       "      <td>0.124008</td>\n",
       "      <td>0.088837</td>\n",
       "      <td>...</td>\n",
       "      <td>3.647953e-07</td>\n",
       "      <td>2.431970e-07</td>\n",
       "      <td>1.621313e-07</td>\n",
       "      <td>1.080876e-07</td>\n",
       "      <td>0.611733</td>\n",
       "      <td>0.581891</td>\n",
       "      <td>0.536676</td>\n",
       "      <td>0.480613</td>\n",
       "      <td>0.417363</td>\n",
       "      <td>a   a   a</td>\n",
       "    </tr>\n",
       "  </tbody>\n",
       "</table>\n",
       "<p>6 rows × 53 columns</p>\n",
       "</div>"
      ],
      "text/plain": [
       "                      E                              Q  bigrams  \\\n",
       "0                mg end                      S NotCL F      [ a   \n",
       "1             mg mg end                S NotCL NotCL F    [ a a   \n",
       "2           mg copy end                S NotCL NotCL F      [ a   \n",
       "3          mg mg mg end          S NotCL NotCL NotCL F  [ a a a   \n",
       "4        mg copy mg end          S NotCL NotCL NotCL F    [ a a   \n",
       "5  mg clear mg copy end  S NotCL CLEAR_S CLEAR NotCL F    [ a a   \n",
       "\n",
       "   iteration_1 p  iteration_10 p  iteration_11 p  iteration_12 p  \\\n",
       "0       1.000000        1.000000        1.000000        1.000000   \n",
       "1       0.008585        0.920260        0.942785        0.959625   \n",
       "2       0.991415        0.079740        0.057215        0.040375   \n",
       "3       0.006021        0.597560        0.674543        0.745771   \n",
       "4       0.695325        0.051778        0.040936        0.031378   \n",
       "5       0.298654        0.350662        0.284521        0.222851   \n",
       "\n",
       "   iteration_13 p  iteration_14 p  iteration_15 p    ...      iteration_46 p  \\\n",
       "0        1.000000        1.000000        1.000000    ...        1.000000e+00   \n",
       "1        0.971909        0.980679        0.986829    ...        1.000000e+00   \n",
       "2        0.028091        0.019321        0.013171    ...        4.809061e-08   \n",
       "3        0.807884        0.859067        0.899163    ...        9.999996e-01   \n",
       "4        0.023350        0.016925        0.012001    ...        4.809059e-08   \n",
       "5        0.168766        0.124008        0.088837    ...        3.647953e-07   \n",
       "\n",
       "   iteration_47 p  iteration_48 p  iteration_49 p  iteration_5 p  \\\n",
       "0    1.000000e+00    1.000000e+00    1.000000e+00       1.000000   \n",
       "1    1.000000e+00    1.000000e+00    1.000000e+00       0.680636   \n",
       "2    3.206041e-08    2.137361e-08    1.424907e-08       0.319364   \n",
       "3    9.999997e-01    9.999998e-01    9.999999e-01       0.264268   \n",
       "4    3.206040e-08    2.137360e-08    1.424907e-08       0.123998   \n",
       "5    2.431970e-07    1.621313e-07    1.080876e-07       0.611733   \n",
       "\n",
       "   iteration_6 p  iteration_7 p  iteration_8 p  iteration_9 p   sentence  \n",
       "0       1.000000       1.000000       1.000000       1.000000          a  \n",
       "1       0.750434       0.807261       0.853611       0.890904      a   a  \n",
       "2       0.249566       0.192739       0.146389       0.109096      a   a  \n",
       "3       0.313763       0.374023       0.443355       0.519073  a   a   a  \n",
       "4       0.104346       0.089301       0.076033       0.063563  a   a   a  \n",
       "5       0.581891       0.536676       0.480613       0.417363  a   a   a  \n",
       "\n",
       "[6 rows x 53 columns]"
      ]
     },
     "execution_count": 75,
     "metadata": {},
     "output_type": "execute_result"
    }
   ],
   "source": [
    "df.parses\n"
   ]
  },
  {
   "cell_type": "code",
   "execution_count": 76,
   "metadata": {
    "collapsed": false
   },
   "outputs": [
    {
     "data": {
      "text/plain": [
       "<module 'markhov' from 'markhov.pyc'>"
      ]
     },
     "execution_count": 76,
     "metadata": {},
     "output_type": "execute_result"
    }
   ],
   "source": [
    "reload(markhov)"
   ]
  },
  {
   "cell_type": "code",
   "execution_count": null,
   "metadata": {
    "collapsed": true
   },
   "outputs": [],
   "source": []
  }
 ],
 "metadata": {
  "anaconda-cloud": {},
  "kernelspec": {
   "display_name": "Python [Root]",
   "language": "python",
   "name": "Python [Root]"
  },
  "language_info": {
   "codemirror_mode": {
    "name": "ipython",
    "version": 2
   },
   "file_extension": ".py",
   "mimetype": "text/x-python",
   "name": "python",
   "nbconvert_exporter": "python",
   "pygments_lexer": "ipython2",
   "version": "2.7.12"
  }
 },
 "nbformat": 4,
 "nbformat_minor": 0
}
