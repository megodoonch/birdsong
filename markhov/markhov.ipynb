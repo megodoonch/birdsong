{
 "cells": [
  {
   "cell_type": "code",
   "execution_count": null,
   "metadata": {
    "collapsed": false
   },
   "outputs": [],
   "source": [
    "import markhov\n",
    "import em\n",
    "import numpy as np\n",
    "%pylab inline"
   ]
  },
  {
   "cell_type": "markdown",
   "metadata": {},
   "source": [
    "# Demonstrating EM\n",
    "\n",
    "Here we demonstrate the use and behaviour of the various functions in our expectation maximisation algorithm for learning rule probagbilities for a two-part grammar made up of a finite state automaton that generates strings of operations and a bigram grammar of legal transitions for the operation Merge."
   ]
  },
  {
   "cell_type": "markdown",
   "metadata": {},
   "source": [
    "### Get set up"
   ]
  },
  {
   "cell_type": "markdown",
   "metadata": {},
   "source": [
    "Some functions for log-transforming the grammar"
   ]
  },
  {
   "cell_type": "code",
   "execution_count": null,
   "metadata": {
    "collapsed": true
   },
   "outputs": [],
   "source": [
    "def ops_log(ops):\n",
    "    for a in ops:\n",
    "        for b in ops[a]:\n",
    "            for w in ops[a][b]:\n",
    "                ops[a][b][w]=np.log(ops[a][b][w])\n",
    "    return ops\n",
    "\n",
    "def bis_log(bigrams):\n",
    "    for a in bigrams:\n",
    "        for b in bigrams[a]:\n",
    "            bigrams[a][b]=np.log(bigrams[a][b])\n",
    "    return bigrams\n"
   ]
  },
  {
   "cell_type": "markdown",
   "metadata": {},
   "source": [
    "Make some transitions"
   ]
  },
  {
   "cell_type": "code",
   "execution_count": null,
   "metadata": {
    "collapsed": true
   },
   "outputs": [],
   "source": [
    "trans = {'a':['a','b'],\n",
    "           'b':['b','a'],\n",
    "           '[':['a','b']\n",
    "       }\n"
   ]
  },
  {
   "cell_type": "code",
   "execution_count": null,
   "metadata": {
    "collapsed": false
   },
   "outputs": [],
   "source": [
    "trans_probs = {'a':{'a':0.5,'b':0.5},\n",
    "           'b':{'b':0.5,'a':0.5},\n",
    "           '[':{'a':0.5,'b':0.5}\n",
    "       }\n",
    "\n",
    "trans_probs=bis_log(trans_probs)"
   ]
  },
  {
   "cell_type": "markdown",
   "metadata": {},
   "source": [
    "Operations FSA"
   ]
  },
  {
   "cell_type": "code",
   "execution_count": null,
   "metadata": {
    "collapsed": true
   },
   "outputs": [],
   "source": [
    "ops = {'S':{'NotCL':['mg']}, # from start we have to merge\n",
    "       'NotCL':{'NotCL':['mg','copy'], # this state is the state in which the last \"special\" operation was *not* Clear. \n",
    "                #Either we've done none or the last was copy. From here we can do everything including end\n",
    "               'CLEAR_S':['clear'], # go here to clear the buffer\n",
    "               'F':['end'] # go here to end\n",
    "           },\n",
    "       'CLEAR_S':{'CLEAR':['mg']}, # this is where we've just cleared. Buffer is empty so you can only Merge\n",
    "       'CLEAR':{'CLEAR':['mg'], # the last special op was Clear so we can Copy or Merge.\n",
    "                'NotCL':['copy'] # if we Copy, the last special op was Copy so go to NotCL\n",
    "            },\n",
    "       'F':{} #final state\n",
    "   }\n"
   ]
  },
  {
   "cell_type": "code",
   "execution_count": null,
   "metadata": {
    "collapsed": true
   },
   "outputs": [],
   "source": [
    "ops_probs = {'S':{'NotCL':{'mg':1.}}, # from start we have to merge\n",
    "       'NotCL':{'NotCL':{'mg':0.3,'copy':0.1}, # this state is the state in which the last \"special\" operation was *not* Clear. \n",
    "                #Either we've done none or the last was copy. From here we can do everything including end\n",
    "               'CLEAR_S':{'clear':0.1}, # go here to clear the buffer\n",
    "               'F':{'end':0.5} # go here to end\n",
    "           },\n",
    "       'CLEAR_S':{'CLEAR':{'mg':1.}}, # this is where we've just cleared. Buffer is empty so you can only Merge\n",
    "       'CLEAR':{'CLEAR':{'mg':0.5}, # the last special op was Clear so we can Copy or Merge.\n",
    "                'NotCL':{'copy':0.5} # if we Copy, the last special op was Copy so go to NotCL\n",
    "            },\n",
    "       'F':{} #final state\n",
    "   }\n",
    "\n",
    "ops_probs=ops_log(ops_probs)"
   ]
  },
  {
   "cell_type": "markdown",
   "metadata": {
    "collapsed": false
   },
   "source": [
    "A corpus"
   ]
  },
  {
   "cell_type": "code",
   "execution_count": null,
   "metadata": {
    "collapsed": false
   },
   "outputs": [],
   "source": [
    "aaa = ['a','a a','a a a']"
   ]
  },
  {
   "cell_type": "markdown",
   "metadata": {},
   "source": [
    "### Parse a sentence"
   ]
  },
  {
   "cell_type": "code",
   "execution_count": null,
   "metadata": {
    "collapsed": true
   },
   "outputs": [],
   "source": [
    "s=aaa[-1]"
   ]
  },
  {
   "cell_type": "code",
   "execution_count": null,
   "metadata": {
    "collapsed": false
   },
   "outputs": [],
   "source": [
    "parses=markhov.parse(s,trans,ops)"
   ]
  },
  {
   "cell_type": "code",
   "execution_count": null,
   "metadata": {
    "collapsed": false
   },
   "outputs": [],
   "source": [
    "for i in range(len(parses)):\n",
    "    print(markhov.parse2string(parses[i]))"
   ]
  },
  {
   "cell_type": "markdown",
   "metadata": {},
   "source": [
    "### Parse the corpus"
   ]
  },
  {
   "cell_type": "code",
   "execution_count": null,
   "metadata": {
    "collapsed": false
   },
   "outputs": [],
   "source": [
    "parsed_corpus=em.parse_corpus(aaa,trans,ops)"
   ]
  },
  {
   "cell_type": "code",
   "execution_count": null,
   "metadata": {
    "collapsed": false
   },
   "outputs": [],
   "source": [
    "print(em.parsed_corpus2string(parsed_corpus))"
   ]
  },
  {
   "cell_type": "markdown",
   "metadata": {},
   "source": [
    "Make a parallel list of parse relative probabilities"
   ]
  },
  {
   "cell_type": "code",
   "execution_count": null,
   "metadata": {
    "collapsed": false
   },
   "outputs": [],
   "source": [
    "parse_probs=em.get_p_parses(parsed_corpus,ops_probs,trans_probs)"
   ]
  },
  {
   "cell_type": "code",
   "execution_count": null,
   "metadata": {
    "collapsed": false
   },
   "outputs": [],
   "source": [
    "print(parse_probs)"
   ]
  },
  {
   "cell_type": "code",
   "execution_count": null,
   "metadata": {
    "collapsed": false
   },
   "outputs": [],
   "source": [
    "(exp_unigrams,exp_bigrams) = em.expected_counts_trans(parsed_corpus,parse_probs,trans)"
   ]
  },
  {
   "cell_type": "code",
   "execution_count": null,
   "metadata": {
    "collapsed": false
   },
   "outputs": [],
   "source": [
    "for u in exp_unigrams:\n",
    "    print '\\nExpected count of %s in each sentence:'%u\n",
    "    for s in exp_unigrams[u]:\n",
    "        print (' %s: %.4f'%(s,exp_unigrams[u][s]))"
   ]
  },
  {
   "cell_type": "code",
   "execution_count": null,
   "metadata": {
    "collapsed": false
   },
   "outputs": [],
   "source": [
    "for a in exp_bigrams:\n",
    "    for b in exp_bigrams[a]:\n",
    "        print '\\nExpected count of %s %s in each sentence:'%(a,b)\n",
    "        for s in exp_bigrams[a][b]:\n",
    "            print (' %s: %.4f'%(s,exp_bigrams[a][b][s]))"
   ]
  },
  {
   "cell_type": "code",
   "execution_count": null,
   "metadata": {
    "collapsed": true
   },
   "outputs": [],
   "source": [
    "(exp_states,exp_tr) = em.expected_counts_fsa(parsed_corpus,parse_probs,ops)"
   ]
  },
  {
   "cell_type": "code",
   "execution_count": null,
   "metadata": {
    "collapsed": false
   },
   "outputs": [],
   "source": [
    "for u in exp_states:\n",
    "    print '\\nExpected count of %s in each sentence:'%u\n",
    "    for s in exp_states[u]:\n",
    "        print (' %s: %.4f'%(s,exp_states[u][s]))"
   ]
  },
  {
   "cell_type": "code",
   "execution_count": null,
   "metadata": {
    "collapsed": false
   },
   "outputs": [],
   "source": [
    "for a in exp_tr:\n",
    "    for b in exp_tr[a]:\n",
    "        for e in exp_tr[a][b]:\n",
    "            print '\\nExpected count of (%s %s %s) in each sentence:'%(a,e,b)\n",
    "            for s in exp_tr[a][b][e]:\n",
    "                print (' %s: %.4f'%(s,exp_tr[a][b][e][s]))"
   ]
  },
  {
   "cell_type": "code",
   "execution_count": null,
   "metadata": {
    "collapsed": false
   },
   "outputs": [],
   "source": [
    "new_ops = em.update_rabbit_fsa(exp_states,exp_tr,ops)"
   ]
  },
  {
   "cell_type": "code",
   "execution_count": null,
   "metadata": {
    "collapsed": false
   },
   "outputs": [],
   "source": [
    "print (markhov.fsa2string(new_ops,False)) # False prints the non-log probs"
   ]
  },
  {
   "cell_type": "code",
   "execution_count": null,
   "metadata": {
    "collapsed": false
   },
   "outputs": [],
   "source": [
    "em.check_fsa(new_ops) # is this a valid probability distribution?"
   ]
  },
  {
   "cell_type": "code",
   "execution_count": null,
   "metadata": {
    "collapsed": false
   },
   "outputs": [],
   "source": [
    "new_trans = em.update_rabbit_trans(exp_unigrams,exp_bigrams,trans)"
   ]
  },
  {
   "cell_type": "code",
   "execution_count": null,
   "metadata": {
    "collapsed": false
   },
   "outputs": [],
   "source": [
    "print (markhov.trans2string(new_trans))"
   ]
  },
  {
   "cell_type": "code",
   "execution_count": null,
   "metadata": {
    "collapsed": false
   },
   "outputs": [],
   "source": [
    "em.check_bis(new_trans) # check this is a valid probability distribution"
   ]
  },
  {
   "cell_type": "markdown",
   "metadata": {},
   "source": [
    "## Expectation Maximisation time!"
   ]
  },
  {
   "cell_type": "code",
   "execution_count": null,
   "metadata": {
    "collapsed": true
   },
   "outputs": [],
   "source": [
    "n = 5 # number of EM iterations to do"
   ]
  },
  {
   "cell_type": "code",
   "execution_count": null,
   "metadata": {
    "collapsed": false
   },
   "outputs": [],
   "source": [
    "history=em.em_rabbit(aaa,trans,ops,n) # run EM"
   ]
  },
  {
   "cell_type": "code",
   "execution_count": null,
   "metadata": {
    "collapsed": false
   },
   "outputs": [],
   "source": [
    "#for i,step in enumerate(history):\n",
    "#    print ('\\n--------\\n--------\\nIteration %i'%i)\n",
    "#    print ('FSA:')\n",
    "#    print (markhov.fsa2string(step['fsa']))\n",
    "#    print ('\\n------\\nTrans probs:')\n",
    "#    print (markhov.trans2string(step['trans_probs']))"
   ]
  },
  {
   "cell_type": "markdown",
   "metadata": {},
   "source": [
    "Display the results"
   ]
  },
  {
   "cell_type": "code",
   "execution_count": null,
   "metadata": {
    "collapsed": true
   },
   "outputs": [],
   "source": [
    "import pandas as pd"
   ]
  },
  {
   "cell_type": "markdown",
   "metadata": {},
   "source": [
    "Make the rules into a simpler list"
   ]
  },
  {
   "cell_type": "code",
   "execution_count": null,
   "metadata": {
    "collapsed": false
   },
   "outputs": [],
   "source": [
    "rules=[]\n",
    "for lhs in ops:\n",
    "    for rhs in ops[lhs]:\n",
    "        for e in ops[lhs][rhs]:\n",
    "            rules.append(('%s->%s %s'%(lhs,e,rhs),(lhs,rhs,e)))"
   ]
  },
  {
   "cell_type": "markdown",
   "metadata": {},
   "source": [
    "Put them and their updating probabilities into a table"
   ]
  },
  {
   "cell_type": "code",
   "execution_count": null,
   "metadata": {
    "collapsed": true
   },
   "outputs": [],
   "source": [
    "tab=[]\n",
    "for (rule,(lhs,rhs,e)) in rules:\n",
    "    thisrule={'rule':rule}\n",
    "    for i in range(n):\n",
    "        p=history[i]['fsa'][lhs][rhs][e]\n",
    "        thisrule[\"p.iteration%03d\"%i]=p\n",
    "    tab.append(thisrule)"
   ]
  },
  {
   "cell_type": "markdown",
   "metadata": {},
   "source": [
    "Use pandas to make the table into a datafram"
   ]
  },
  {
   "cell_type": "code",
   "execution_count": null,
   "metadata": {
    "collapsed": true
   },
   "outputs": [],
   "source": [
    "df = pd.DataFrame(tab)"
   ]
  },
  {
   "cell_type": "code",
   "execution_count": null,
   "metadata": {
    "collapsed": false
   },
   "outputs": [],
   "source": [
    "df"
   ]
  },
  {
   "cell_type": "code",
   "execution_count": null,
   "metadata": {
    "collapsed": true
   },
   "outputs": [],
   "source": [
    "df.to_csv('ops_%s.csv'%('oct_22_2016_aaa')) # print to file"
   ]
  },
  {
   "cell_type": "markdown",
   "metadata": {},
   "source": [
    "Same for the transitions"
   ]
  },
  {
   "cell_type": "code",
   "execution_count": null,
   "metadata": {
    "collapsed": true
   },
   "outputs": [],
   "source": [
    "bigrams=[]\n",
    "for lhs in trans:\n",
    "    for rhs in trans[lhs]:\n",
    "        bigrams.append(('%s,%s'%(lhs,rhs),(lhs,rhs)))"
   ]
  },
  {
   "cell_type": "code",
   "execution_count": null,
   "metadata": {
    "collapsed": false,
    "scrolled": true
   },
   "outputs": [],
   "source": [
    "bigrams"
   ]
  },
  {
   "cell_type": "code",
   "execution_count": null,
   "metadata": {
    "collapsed": true
   },
   "outputs": [],
   "source": [
    "tab=[]\n",
    "for (bi,(lhs,rhs)) in bigrams:\n",
    "    thisrule={'rule':bi}\n",
    "    for i in range(n):\n",
    "        p=history[i]['trans_probs'][lhs][rhs]\n",
    "        thisrule[\"p.iteration%i\"%i]=p\n",
    "    tab.append(thisrule)"
   ]
  },
  {
   "cell_type": "code",
   "execution_count": null,
   "metadata": {
    "collapsed": true
   },
   "outputs": [],
   "source": [
    "df_bis = pd.DataFrame(tab)"
   ]
  },
  {
   "cell_type": "code",
   "execution_count": null,
   "metadata": {
    "collapsed": false
   },
   "outputs": [],
   "source": [
    "df_bis"
   ]
  },
  {
   "cell_type": "code",
   "execution_count": null,
   "metadata": {
    "collapsed": true
   },
   "outputs": [],
   "source": [
    "df_bis.to_csv('trans_%s.csv'%('oct_22_2016_aaa'))"
   ]
  },
  {
   "cell_type": "code",
   "execution_count": null,
   "metadata": {
    "collapsed": false
   },
   "outputs": [],
   "source": []
  },
  {
   "cell_type": "markdown",
   "metadata": {},
   "source": [
    "### Calculate the log likelihood of the corpus given the trained grammar\n",
    "\n",
    "This is the ll of the corpus at the end of training:"
   ]
  },
  {
   "cell_type": "code",
   "execution_count": null,
   "metadata": {
    "collapsed": false
   },
   "outputs": [],
   "source": [
    "markhov.ll_corpus(parsed_corpus,history[-1]['trans_probs'],history[-1]['fsa'])"
   ]
  },
  {
   "cell_type": "markdown",
   "metadata": {},
   "source": [
    "Make a dataframe of the LL of the corpus throughout training:"
   ]
  },
  {
   "cell_type": "code",
   "execution_count": null,
   "metadata": {
    "collapsed": true
   },
   "outputs": [],
   "source": [
    "tab=[]\n",
    "for i in range(n):\n",
    "    this_iter={'iteration':i,\n",
    "               'likelihood':markhov.ll_corpus(parsed_corpus,history[i]['trans_probs'],history[i]['fsa'])}\n",
    "    tab.append(this_iter)"
   ]
  },
  {
   "cell_type": "code",
   "execution_count": null,
   "metadata": {
    "collapsed": true
   },
   "outputs": [],
   "source": [
    "df_lls=pd.DataFrame(tab)"
   ]
  },
  {
   "cell_type": "code",
   "execution_count": null,
   "metadata": {
    "collapsed": false
   },
   "outputs": [],
   "source": [
    "df_lls"
   ]
  },
  {
   "cell_type": "code",
   "execution_count": null,
   "metadata": {
    "collapsed": false
   },
   "outputs": [],
   "source": [
    "plot(df_lls[\"iteration\"],df_lls[\"likelihood\"],'o-')\n",
    "xlabel(\"Iteration\")\n",
    "ylabel(\"Log Likelihood\")"
   ]
  },
  {
   "cell_type": "code",
   "execution_count": null,
   "metadata": {
    "collapsed": false
   },
   "outputs": [],
   "source": [
    "tab=[]\n",
    "\n",
    "for i,(s,parse) in enumerate(parsed_corpus):\n",
    "    this_parse={'sentence':' '.join(s),'bigrams':' '.join(parse['bis']),'Q':' '.join(parse['rt'][0]),'E':' '.join(parse['rt'][1])}\n",
    "    for iter in range(1,n):\n",
    "        this_parse['iteration_%i p'%iter]=history[iter]['parse_ps'][i]\n",
    "    tab.append(this_parse)"
   ]
  },
  {
   "cell_type": "code",
   "execution_count": null,
   "metadata": {
    "collapsed": true
   },
   "outputs": [],
   "source": [
    "df.parses=pd.DataFrame(tab)\n"
   ]
  },
  {
   "cell_type": "code",
   "execution_count": null,
   "metadata": {
    "collapsed": false
   },
   "outputs": [],
   "source": [
    "df.parses\n"
   ]
  },
  {
   "cell_type": "code",
   "execution_count": null,
   "metadata": {
    "collapsed": true
   },
   "outputs": [],
   "source": []
  }
 ],
 "metadata": {
  "anaconda-cloud": {},
  "kernelspec": {
   "display_name": "Python [Root]",
   "language": "python",
   "name": "Python [Root]"
  },
  "language_info": {
   "codemirror_mode": {
    "name": "ipython",
    "version": 2
   },
   "file_extension": ".py",
   "mimetype": "text/x-python",
   "name": "python",
   "nbconvert_exporter": "python",
   "pygments_lexer": "ipython2",
   "version": "2.7.12"
  }
 },
 "nbformat": 4,
 "nbformat_minor": 0
}
