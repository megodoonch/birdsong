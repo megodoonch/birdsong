{
 "cells": [
  {
   "cell_type": "code",
   "execution_count": null,
   "metadata": {
    "collapsed": false
   },
   "outputs": [],
   "source": [
    "import cky"
   ]
  },
  {
   "cell_type": "markdown",
   "metadata": {},
   "source": [
    "We make a toy grammar and add some probabilities. Notice the probabilities for each rule set sum to 1. None of these rules are copy rules, which is what False means."
   ]
  },
  {
   "cell_type": "code",
   "execution_count": null,
   "metadata": {
    "collapsed": true
   },
   "outputs": [],
   "source": [
    "grammar_bare = [(\"S\",  [([\"NP\",\"VP\"])]),\n",
    "               (\"VP\", [([\"VP\",\"PP\"]),\n",
    "                       ([\"V\",\"NP\"]),\n",
    "                       ([\"eats\"])]),\n",
    "               (\"PP\", [([\"P\",\"NP\"])]),\n",
    "               (\"NP\", [([\"NP\",\"PP\"]),\n",
    "                       ([\"Det\",\"N\"]),\n",
    "                       ([\"she\"])]),\n",
    "               (\"V\" , [([\"eats\"])]),\n",
    "               (\"P\" , [([\"with\"])]),\n",
    "               (\"N\" , [([\"fish\"]),\n",
    "                       ([\"fork\"])]),\n",
    "               (\"Det\",[([\"a\"])])]"
   ]
  },
  {
   "cell_type": "code",
   "execution_count": null,
   "metadata": {
    "collapsed": false
   },
   "outputs": [],
   "source": [
    "print(cky.grammar2string(grammar_bare))"
   ]
  },
  {
   "cell_type": "code",
   "execution_count": null,
   "metadata": {
    "collapsed": true
   },
   "outputs": [],
   "source": [
    "def mark_no_copy_rules(grammar):\n",
    "    \"\"\" Takes a 'simple' grammar where each rule is not marked as being a copy rule or not,\n",
    "    and returns the same grammar but with an extra field that marks that this rule is not a copy rule (False)\n",
    "    \"\"\"\n",
    "    return [ (lhs,[ (r,False) for r in rhs ]) for (lhs,rhs) in grammar ]"
   ]
  },
  {
   "cell_type": "code",
   "execution_count": null,
   "metadata": {
    "collapsed": false
   },
   "outputs": [],
   "source": [
    "mark_no_copy_rules(grammar_bare)"
   ]
  },
  {
   "cell_type": "code",
   "execution_count": null,
   "metadata": {
    "collapsed": true
   },
   "outputs": [],
   "source": [
    "grammar_copy = mark_no_copy_rules(grammar_bare)"
   ]
  },
  {
   "cell_type": "code",
   "execution_count": null,
   "metadata": {
    "collapsed": true
   },
   "outputs": [],
   "source": [
    "grammar_copy_probs = [(\"S\",  [([\"NP\",\"VP\"],False,1.)]),\n",
    "           (\"VP\", [([\"VP\",\"PP\"],False,0.25),\n",
    "                   ([\"V\",\"NP\"],False,0.5),\n",
    "                   ([\"eats\"],False,0.25)]),\n",
    "           (\"PP\", [([\"P\",\"NP\"],False,1.)]),\n",
    "           (\"NP\", [([\"NP\",\"PP\"],False,0.3),\n",
    "                   ([\"Det\",\"N\"],False,0.4),\n",
    "                   ([\"she\"],False,0.3)]),\n",
    "           (\"V\" , [([\"eats\"],False,1.)]),\n",
    "           (\"P\" , [([\"with\"],False,1.)]),\n",
    "           (\"N\" , [([\"fish\"],False,0.4),\n",
    "                   ([\"fork\"],False,0.6)]),\n",
    "           (\"Det\",[([\"a\"],False,1.)])]"
   ]
  },
  {
   "cell_type": "markdown",
   "metadata": {},
   "source": [
    "A second grammar that generates full binary trees"
   ]
  },
  {
   "cell_type": "code",
   "execution_count": null,
   "metadata": {
    "collapsed": true
   },
   "outputs": [],
   "source": [
    "grammar_ambig = [(\"S\",[([\"S\",\"S\"],False),([\"a\"],False)])]\n",
    "grammar_ambig_probs = [(\"S\",[([\"S\",\"S\"],False,0.5),([\"a\"],False,0.5)])]"
   ]
  }
 ],
 "metadata": {
  "kernelspec": {
   "display_name": "Python 3",
   "language": "python",
   "name": "python3"
  },
  "language_info": {
   "codemirror_mode": {
    "name": "ipython",
    "version": 3
   },
   "file_extension": ".py",
   "mimetype": "text/x-python",
   "name": "python",
   "nbconvert_exporter": "python",
   "pygments_lexer": "ipython3",
   "version": "3.5.2"
  }
 },
 "nbformat": 4,
 "nbformat_minor": 0
}
