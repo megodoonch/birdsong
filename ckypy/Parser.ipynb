{
 "cells": [
  {
   "cell_type": "code",
   "execution_count": 3,
   "metadata": {
    "collapsed": true
   },
   "outputs": [],
   "source": [
    "import ckypy"
   ]
  },
  {
   "cell_type": "markdown",
   "metadata": {},
   "source": [
    "We make a toy grammar and add some probabilities. Notice the probabilities for each rule set sum to 1. None of these rules are copy rules, which is what False means."
   ]
  },
  {
   "cell_type": "code",
   "execution_count": 4,
   "metadata": {
    "collapsed": true
   },
   "outputs": [],
   "source": [
    "grammar_copy = [(\"S\",  [([\"NP\",\"VP\"],False)]),\n",
    "           (\"VP\", [([\"VP\",\"PP\"],False),\n",
    "                   ([\"V\",\"NP\"],False),\n",
    "                   ([\"eats\"],False)]),\n",
    "           (\"PP\", [([\"P\",\"NP\"],False)]),\n",
    "           (\"NP\", [([\"NP\",\"PP\"],False),\n",
    "                   ([\"Det\",\"N\"],False),\n",
    "                   ([\"she\"],False)]),\n",
    "           (\"V\" , [([\"eats\"],False)]),\n",
    "           (\"P\" , [([\"with\"],False)]),\n",
    "           (\"N\" , [([\"fish\"],False),\n",
    "                   ([\"fork\"],False)]),\n",
    "           (\"Det\",[([\"a\"],False)])]"
   ]
  },
  {
   "cell_type": "code",
   "execution_count": 6,
   "metadata": {
    "collapsed": true
   },
   "outputs": [],
   "source": [
    "grammar_copy_probs = [(\"S\",  [([\"NP\",\"VP\"],False,1.)]),\n",
    "           (\"VP\", [([\"VP\",\"PP\"],False,0.25),\n",
    "                   ([\"V\",\"NP\"],False,0.5),\n",
    "                   ([\"eats\"],False,0.25)]),\n",
    "           (\"PP\", [([\"P\",\"NP\"],False,1.)]),\n",
    "           (\"NP\", [([\"NP\",\"PP\"],False,0.3),\n",
    "                   ([\"Det\",\"N\"],False,0.4),\n",
    "                   ([\"she\"],False,0.3)]),\n",
    "           (\"V\" , [([\"eats\"],False,1.)]),\n",
    "           (\"P\" , [([\"with\"],False,1.)]),\n",
    "           (\"N\" , [([\"fish\"],False,0.4),\n",
    "                   ([\"fork\"],False,0.6)]),\n",
    "           (\"Det\",[([\"a\"],False,1.)])]"
   ]
  },
  {
   "cell_type": "markdown",
   "metadata": {},
   "source": [
    "A second grammar that generates full binary trees"
   ]
  },
  {
   "cell_type": "code",
   "execution_count": 7,
   "metadata": {
    "collapsed": true
   },
   "outputs": [],
   "source": [
    "grammar_ambig = [(\"S\",[([\"S\",\"S\"],False),([\"a\"],False)])]\n",
    "grammar_ambig_probs = [(\"S\",[([\"S\",\"S\"],False,0.5),([\"a\"],False,0.5)])]"
   ]
  }
 ],
 "metadata": {
  "kernelspec": {
   "display_name": "Python [Root]",
   "language": "python",
   "name": "Python [Root]"
  },
  "language_info": {
   "codemirror_mode": {
    "name": "ipython",
    "version": 2
   },
   "file_extension": ".py",
   "mimetype": "text/x-python",
   "name": "python",
   "nbconvert_exporter": "python",
   "pygments_lexer": "ipython2",
   "version": "2.7.12"
  }
 },
 "nbformat": 4,
 "nbformat_minor": 0
}
