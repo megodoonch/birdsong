{
 "cells": [
  {
   "cell_type": "markdown",
   "metadata": {},
   "source": [
    "# CKY parser with string copying"
   ]
  },
  {
   "cell_type": "markdown",
   "metadata": {},
   "source": [
    "This parser was written by Meaghan. It implements copying through a special category and placeholder string which has the effect of copying some amount of material from the end of the sentence so far and adding it to the end.\n",
    "\n",
    "This implementation allows copies to overlap, and does not require that copies be constituents.\n",
    "\n",
    "The grammar actually generates strings in Lex+\"copy\", where \"copy\" is a special string. There is then a second grammar that generates the real string from a string that includes instances of \"copy\" by copying some amount of material from before \"copy\" and replacing \"copy\" with it. The amount of material to be copied is determined by that second grammar. For the parser, we don't have to worry about it; we just need to find potential copies.\n",
    "\n",
    "The grammar may have one rule set with the LHS Copy and the RHS copy (ie Copy->copy). if this rule set is present, the parser will check, for every cell, whether the string it represents is identical to the preceding string of the same length. If it is, it puts the Copy category in the cell and the \"copy\" lexical item in the backpointers. Otherwise, the parser proceeds like a normal CKY parser."
   ]
  },
  {
   "cell_type": "code",
   "execution_count": null,
   "metadata": {
    "collapsed": false
   },
   "outputs": [],
   "source": [
    "import cky\n",
    "from IPython.display import Image\n",
    "from IPython.display import display"
   ]
  },
  {
   "cell_type": "markdown",
   "metadata": {},
   "source": [
    "We make a toy grammar. None of these rules are copy rules."
   ]
  },
  {
   "cell_type": "code",
   "execution_count": null,
   "metadata": {
    "collapsed": true
   },
   "outputs": [],
   "source": [
    "grammar = [(\"S\",  [([\"NP\",\"VP\"])]),\n",
    "               (\"VP\", [([\"VP\",\"PP\"]),\n",
    "                       ([\"V\",\"NP\"]),\n",
    "                       ([\"eats\"])]),\n",
    "               (\"PP\", [([\"P\",\"NP\"])]),\n",
    "               (\"NP\", [([\"NP\",\"PP\"]),\n",
    "                       ([\"Det\",\"N\"]),\n",
    "                       ([\"she\"])]),\n",
    "               (\"V\" , [([\"eats\"])]),\n",
    "               (\"P\" , [([\"with\"])]),\n",
    "               (\"N\" , [([\"fish\"]),\n",
    "                       ([\"fork\"])]),\n",
    "               (\"Det\",[([\"a\"])])]"
   ]
  },
  {
   "cell_type": "markdown",
   "metadata": {},
   "source": [
    "A second grammar that generates full binary trees"
   ]
  },
  {
   "cell_type": "code",
   "execution_count": null,
   "metadata": {
    "collapsed": true
   },
   "outputs": [],
   "source": [
    "grammar_ambig = [(\"S\",[([\"S\",\"S\"]),([\"a\"])])]\n",
    "grammar_ambig_probs = [(\"S\",[([\"S\",\"S\"],0.5),([\"a\"],0.5)])]\n"
   ]
  },
  {
   "cell_type": "code",
   "execution_count": null,
   "metadata": {
    "collapsed": false
   },
   "outputs": [],
   "source": [
    "print(cky.grammar2string(grammar_ambig))"
   ]
  },
  {
   "cell_type": "markdown",
   "metadata": {},
   "source": [
    "A third grammar with copying"
   ]
  },
  {
   "cell_type": "code",
   "execution_count": null,
   "metadata": {
    "collapsed": true
   },
   "outputs": [],
   "source": [
    "grammar_ambig_copy = [(\"S\",[[\"S\",\"S\"],[\"a\"],[\"S\",\"Copy\"],[\"Copy\",\"S\"]]),(\"Copy\",[[\"copy\"]])]\n",
    "grammar_ambig_copy_probs = [(\"S\",[([\"S\",\"S\"],0.2),([\"a\"],0.3),([\"S\",\"Copy\"],0.2),([\"Copy\",\"S\"],0.3)]),(\"Copy\",[([\"copy\"],1.)])]"
   ]
  },
  {
   "cell_type": "code",
   "execution_count": null,
   "metadata": {
    "collapsed": false
   },
   "outputs": [],
   "source": [
    "print(cky.grammar2string(grammar_ambig_copy))"
   ]
  },
  {
   "cell_type": "markdown",
   "metadata": {},
   "source": [
    "## Let's run some examples"
   ]
  },
  {
   "cell_type": "code",
   "execution_count": null,
   "metadata": {
    "collapsed": true
   },
   "outputs": [],
   "source": [
    "s = \"she eats a fish with a fork\".split(\" \")"
   ]
  },
  {
   "cell_type": "code",
   "execution_count": null,
   "metadata": {
    "collapsed": false
   },
   "outputs": [],
   "source": [
    "g = grammar"
   ]
  },
  {
   "cell_type": "markdown",
   "metadata": {},
   "source": [
    "Parse s with g"
   ]
  },
  {
   "cell_type": "code",
   "execution_count": null,
   "metadata": {
    "collapsed": false
   },
   "outputs": [],
   "source": [
    "chart,backpointers = cky.parse(s,g)"
   ]
  },
  {
   "cell_type": "code",
   "execution_count": null,
   "metadata": {
    "collapsed": false
   },
   "outputs": [],
   "source": [
    "cky.print_chart(chart)"
   ]
  },
  {
   "cell_type": "code",
   "execution_count": null,
   "metadata": {
    "collapsed": false
   },
   "outputs": [],
   "source": [
    "cky.pretty_print_backpointers(backpointers,g)"
   ]
  },
  {
   "cell_type": "markdown",
   "metadata": {},
   "source": [
    "Collect the trees"
   ]
  },
  {
   "cell_type": "code",
   "execution_count": null,
   "metadata": {
    "collapsed": false
   },
   "outputs": [],
   "source": [
    "parses = cky.collect_trees(\"S\",chart,backpointers,g,s)"
   ]
  },
  {
   "cell_type": "markdown",
   "metadata": {},
   "source": [
    "Print the trees to files"
   ]
  },
  {
   "cell_type": "code",
   "execution_count": null,
   "metadata": {
    "collapsed": true
   },
   "outputs": [],
   "source": [
    "for i,parse in enumerate(parses):    \n",
    "    cky.tree_to_png(parse,\"parse_%i.png\"%i)"
   ]
  },
  {
   "cell_type": "code",
   "execution_count": null,
   "metadata": {
    "collapsed": false
   },
   "outputs": [],
   "source": [
    "x=Image(filename='parse_0.png')\n",
    "y=Image(filename='parse_1.png')\n",
    "display(x,y)"
   ]
  },
  {
   "cell_type": "markdown",
   "metadata": {},
   "source": [
    "Count the trees"
   ]
  },
  {
   "cell_type": "code",
   "execution_count": null,
   "metadata": {
    "collapsed": false
   },
   "outputs": [],
   "source": [
    "cky.n_parses(\"S\",chart,backpointers,g,s)"
   ]
  },
  {
   "cell_type": "markdown",
   "metadata": {
    "collapsed": true
   },
   "source": [
    "Calculate probabilities"
   ]
  },
  {
   "cell_type": "code",
   "execution_count": null,
   "metadata": {
    "collapsed": true
   },
   "outputs": [],
   "source": [
    "grammar_probs = [(\"S\",  [([\"NP\",\"VP\"],1.)]),\n",
    "               (\"VP\", [([\"VP\",\"PP\"],0.3),\n",
    "                       ([\"V\",\"NP\"],0.4),\n",
    "                       ([\"eats\"],0.3)]),\n",
    "               (\"PP\", [([\"P\",\"NP\"],1.)]),\n",
    "               (\"NP\", [([\"NP\",\"PP\"],0.5),\n",
    "                       ([\"Det\",\"N\"],0.3),\n",
    "                       ([\"she\"],0.2)]),\n",
    "               (\"V\" , [([\"eats\"],1.)]),\n",
    "               (\"P\" , [([\"with\"],1.)]),\n",
    "               (\"N\" , [([\"fish\"],0.6),\n",
    "                       ([\"fork\"],0.4)]),\n",
    "               (\"Det\",[([\"a\"],1.)])]"
   ]
  },
  {
   "cell_type": "code",
   "execution_count": null,
   "metadata": {
    "collapsed": false
   },
   "outputs": [],
   "source": [
    "g_probs = cky.make_rule_probs(grammar_probs)"
   ]
  },
  {
   "cell_type": "code",
   "execution_count": null,
   "metadata": {
    "collapsed": false
   },
   "outputs": [],
   "source": [
    "print(cky.grammar2string_probs(grammar_probs))\n"
   ]
  },
  {
   "cell_type": "code",
   "execution_count": null,
   "metadata": {
    "collapsed": false
   },
   "outputs": [],
   "source": [
    "(probs,s_prob)=cky.probability(\"S\",chart,backpointers,g,s,g_probs)"
   ]
  },
  {
   "cell_type": "markdown",
   "metadata": {},
   "source": [
    "The log probability of the sentence is the second element"
   ]
  },
  {
   "cell_type": "code",
   "execution_count": null,
   "metadata": {
    "collapsed": false
   },
   "outputs": [],
   "source": [
    "s_prob"
   ]
  },
  {
   "cell_type": "markdown",
   "metadata": {},
   "source": [
    "Let's un-log it just to get a look"
   ]
  },
  {
   "cell_type": "code",
   "execution_count": null,
   "metadata": {
    "collapsed": false
   },
   "outputs": [],
   "source": [
    "cky.np.exp(s_prob)"
   ]
  },
  {
   "cell_type": "markdown",
   "metadata": {},
   "source": [
    "## Full binary tree grammars"
   ]
  },
  {
   "cell_type": "markdown",
   "metadata": {},
   "source": [
    "### Using the binary tree grammar without copying"
   ]
  },
  {
   "cell_type": "code",
   "execution_count": null,
   "metadata": {
    "collapsed": true
   },
   "outputs": [],
   "source": [
    "g = grammar_ambig"
   ]
  },
  {
   "cell_type": "code",
   "execution_count": null,
   "metadata": {
    "collapsed": true
   },
   "outputs": [],
   "source": [
    "s = [\"a\"]*3"
   ]
  },
  {
   "cell_type": "code",
   "execution_count": null,
   "metadata": {
    "collapsed": false
   },
   "outputs": [],
   "source": [
    "chart,backpointers = cky.parse(s,g)"
   ]
  },
  {
   "cell_type": "code",
   "execution_count": null,
   "metadata": {
    "collapsed": false
   },
   "outputs": [],
   "source": [
    "cky.print_chart(chart)"
   ]
  },
  {
   "cell_type": "code",
   "execution_count": null,
   "metadata": {
    "collapsed": false
   },
   "outputs": [],
   "source": [
    "cky.pretty_print_backpointers(backpointers,g)\n",
    "# cky.print_backpointers(backpointers)  ## in case there are so many pointers in a cell that pretty_print won't show them"
   ]
  },
  {
   "cell_type": "code",
   "execution_count": null,
   "metadata": {
    "collapsed": false
   },
   "outputs": [],
   "source": [
    "cky.n_parses(\"S\",chart,backpointers,g,s)"
   ]
  },
  {
   "cell_type": "code",
   "execution_count": null,
   "metadata": {
    "collapsed": false
   },
   "outputs": [],
   "source": [
    "parses = cky.collect_trees(\"S\",chart,backpointers,g,s)"
   ]
  },
  {
   "cell_type": "code",
   "execution_count": null,
   "metadata": {
    "collapsed": true
   },
   "outputs": [],
   "source": [
    "for i,parse in enumerate(parses):    \n",
    "    cky.tree_to_png(parse,\"parse_%i.png\"%i)"
   ]
  },
  {
   "cell_type": "code",
   "execution_count": null,
   "metadata": {
    "collapsed": false
   },
   "outputs": [],
   "source": [
    "x=Image(filename='parse_0.png')\n",
    "y=Image(filename='parse_1.png')\n",
    "display(x,y)"
   ]
  },
  {
   "cell_type": "markdown",
   "metadata": {},
   "source": [
    "Probability of sentence"
   ]
  },
  {
   "cell_type": "code",
   "execution_count": null,
   "metadata": {
    "collapsed": false
   },
   "outputs": [],
   "source": [
    "g_probs = cky.make_rule_probs(grammar_ambig_probs)"
   ]
  },
  {
   "cell_type": "code",
   "execution_count": null,
   "metadata": {
    "collapsed": false
   },
   "outputs": [],
   "source": [
    "(probs,s_prob)=cky.probability(\"S\",chart,backpointers,g,s,g_probs)"
   ]
  },
  {
   "cell_type": "markdown",
   "metadata": {},
   "source": [
    "The log probability of the sentence is the second element"
   ]
  },
  {
   "cell_type": "code",
   "execution_count": null,
   "metadata": {
    "collapsed": false
   },
   "outputs": [],
   "source": [
    "s_prob"
   ]
  },
  {
   "cell_type": "markdown",
   "metadata": {},
   "source": [
    "Let's un-log it just to get a look"
   ]
  },
  {
   "cell_type": "code",
   "execution_count": null,
   "metadata": {
    "collapsed": false
   },
   "outputs": [],
   "source": [
    "cky.np.exp(s_prob)"
   ]
  },
  {
   "cell_type": "code",
   "execution_count": null,
   "metadata": {
    "collapsed": true
   },
   "outputs": [],
   "source": []
  },
  {
   "cell_type": "markdown",
   "metadata": {},
   "source": [
    "### Computing Catalan numbers"
   ]
  },
  {
   "cell_type": "markdown",
   "metadata": {},
   "source": [
    "We're interested in Catalan numbers because they provide an easy check on the basic behaviour of the parser, sans copying. the nth Catalan number is the number of parses of a full binary tree with n leaves. "
   ]
  },
  {
   "cell_type": "code",
   "execution_count": null,
   "metadata": {
    "collapsed": true
   },
   "outputs": [],
   "source": [
    "def a_sent(n): return [\"a\"]*n\n",
    "\n",
    "#catalan numbers are 1, 1, 2, 5, 14, 42, 132, 429, 1430,\n",
    "#4862, 16796, 58786, 208012, 742900, 2674440, 9694845, \n",
    "#35357670, 129644790, 477638700, 1767263190, 6564120420,\n",
    "#24466267020, 91482563640, 343059613650, 1289904147324, 4861946401452, \n",
    "\n",
    "def catalan(n):\n",
    "    \"\"\"calculates the first n catalan numbers (except 0th) extremely inefficiently\"\"\"\n",
    "    for i in range(1,n):\n",
    "        s=a_sent(i)\n",
    "        chart,backpoints = cky.parse(s,grammar_ambig)\n",
    "        print(cky.n_parses(\"S\",chart,backpoints,grammar_ambig,s))\n",
    "\n",
    "\n",
    "def catalan_probs(n):\n",
    "    \"\"\"calculates the probabilities of fully ambiguous trees, with both rules p=0.5\"\"\"\n",
    "    for i in range(1,n):\n",
    "        s=a_sent(i)\n",
    "        chart,backpoints = cky.parse(s,grammar_ambig)\n",
    "        print(cky.probability(\"S\",chart,backpoints,grammar_ambig,s,g_probs)[1])\n",
    "    \n"
   ]
  },
  {
   "cell_type": "code",
   "execution_count": null,
   "metadata": {
    "collapsed": false
   },
   "outputs": [],
   "source": [
    "catalan(7) ## the first 7 Catalan numbers"
   ]
  },
  {
   "cell_type": "code",
   "execution_count": null,
   "metadata": {
    "collapsed": false
   },
   "outputs": [],
   "source": [
    "catalan_probs(7) ## log probabilities of the first 7 Catalan numbers using the grammar with even probabilities for the 2 rules"
   ]
  },
  {
   "cell_type": "markdown",
   "metadata": {},
   "source": [
    "### Using the binary tree grammar with copying"
   ]
  },
  {
   "cell_type": "code",
   "execution_count": null,
   "metadata": {
    "collapsed": true
   },
   "outputs": [],
   "source": []
  },
  {
   "cell_type": "code",
   "execution_count": null,
   "metadata": {
    "collapsed": true
   },
   "outputs": [],
   "source": [
    "g = grammar_ambig_copy"
   ]
  },
  {
   "cell_type": "code",
   "execution_count": null,
   "metadata": {
    "collapsed": true
   },
   "outputs": [],
   "source": [
    "s = [\"a\"]*3"
   ]
  },
  {
   "cell_type": "code",
   "execution_count": null,
   "metadata": {
    "collapsed": false
   },
   "outputs": [],
   "source": [
    "chart,backpointers = cky.parse(s,g)"
   ]
  },
  {
   "cell_type": "code",
   "execution_count": null,
   "metadata": {
    "collapsed": false
   },
   "outputs": [],
   "source": [
    "cky.print_chart(chart)"
   ]
  },
  {
   "cell_type": "code",
   "execution_count": null,
   "metadata": {
    "collapsed": false
   },
   "outputs": [],
   "source": [
    "cky.pretty_print_backpointers(backpointers,g) "
   ]
  },
  {
   "cell_type": "code",
   "execution_count": null,
   "metadata": {
    "collapsed": false
   },
   "outputs": [],
   "source": [
    "cky.n_parses(\"S\",chart,backpointers,g,s)"
   ]
  },
  {
   "cell_type": "code",
   "execution_count": null,
   "metadata": {
    "collapsed": false
   },
   "outputs": [],
   "source": [
    "parses = cky.collect_trees(\"S\",chart,backpointers,g,s)"
   ]
  },
  {
   "cell_type": "code",
   "execution_count": null,
   "metadata": {
    "collapsed": true
   },
   "outputs": [],
   "source": [
    "for i,parse in enumerate(parses):    \n",
    "    cky.tree_to_png(parse,\"parse_%i.png\"%i)"
   ]
  },
  {
   "cell_type": "code",
   "execution_count": null,
   "metadata": {
    "collapsed": false
   },
   "outputs": [],
   "source": [
    "a=Image(filename='parse_0.png')\n",
    "b=Image(filename='parse_1.png')\n",
    "c=Image(filename='parse_2.png')\n",
    "d=Image(filename='parse_3.png')\n",
    "e=Image(filename='parse_4.png')\n",
    "f=Image(filename='parse_5.png')\n",
    "h=Image(filename='parse_6.png')\n",
    "\n",
    "\n",
    "display(a,b,c,d,e,f,h)"
   ]
  },
  {
   "cell_type": "markdown",
   "metadata": {},
   "source": [
    "Probability of sentence"
   ]
  },
  {
   "cell_type": "code",
   "execution_count": null,
   "metadata": {
    "collapsed": true
   },
   "outputs": [],
   "source": [
    "g_probs = cky.make_rule_probs(grammar_ambig_copy_probs)"
   ]
  },
  {
   "cell_type": "code",
   "execution_count": null,
   "metadata": {
    "collapsed": false
   },
   "outputs": [],
   "source": [
    "(probs,s_prob)=cky.probability(\"S\",chart,backpointers,g,s,g_probs)"
   ]
  },
  {
   "cell_type": "markdown",
   "metadata": {},
   "source": [
    "The log probability of the sentence is the second element"
   ]
  },
  {
   "cell_type": "code",
   "execution_count": null,
   "metadata": {
    "collapsed": false
   },
   "outputs": [],
   "source": [
    "s_prob"
   ]
  },
  {
   "cell_type": "markdown",
   "metadata": {},
   "source": [
    "Let's un-log it just to get a look"
   ]
  },
  {
   "cell_type": "code",
   "execution_count": null,
   "metadata": {
    "collapsed": false
   },
   "outputs": [],
   "source": [
    "cky.np.exp(s_prob)"
   ]
  },
  {
   "cell_type": "markdown",
   "metadata": {},
   "source": [
    "Let's try with sentence aaaa"
   ]
  },
  {
   "cell_type": "code",
   "execution_count": null,
   "metadata": {
    "collapsed": true
   },
   "outputs": [],
   "source": [
    "s = [\"a\"]*4"
   ]
  },
  {
   "cell_type": "code",
   "execution_count": null,
   "metadata": {
    "collapsed": false
   },
   "outputs": [],
   "source": [
    "chart,backpointers = cky.parse(s,g)"
   ]
  },
  {
   "cell_type": "code",
   "execution_count": null,
   "metadata": {
    "collapsed": false
   },
   "outputs": [],
   "source": [
    "cky.print_chart(chart)"
   ]
  },
  {
   "cell_type": "code",
   "execution_count": null,
   "metadata": {
    "collapsed": false
   },
   "outputs": [],
   "source": [
    "cky.print_backpointers(backpointers) "
   ]
  },
  {
   "cell_type": "code",
   "execution_count": null,
   "metadata": {
    "collapsed": false
   },
   "outputs": [],
   "source": [
    "cky.n_parses(\"S\",chart,backpointers,g,s) ## 35 PARSES!"
   ]
  },
  {
   "cell_type": "code",
   "execution_count": null,
   "metadata": {
    "collapsed": false
   },
   "outputs": [],
   "source": [
    "parses = cky.collect_trees(\"S\",chart,backpointers,g,s)"
   ]
  },
  {
   "cell_type": "code",
   "execution_count": null,
   "metadata": {
    "collapsed": true
   },
   "outputs": [],
   "source": [
    "for i,parse in enumerate(parses[:5]):    ## let's just look at the first 5\n",
    "    cky.tree_to_png(parse,\"parse_%i.png\"%i)"
   ]
  },
  {
   "cell_type": "code",
   "execution_count": null,
   "metadata": {
    "collapsed": false
   },
   "outputs": [],
   "source": [
    "a=Image(filename='parse_0.png')\n",
    "b=Image(filename='parse_1.png')\n",
    "c=Image(filename='parse_2.png')\n",
    "d=Image(filename='parse_3.png')\n",
    "e=Image(filename='parse_4.png')\n",
    "\n",
    "display(a,b,c,d,e)"
   ]
  },
  {
   "cell_type": "markdown",
   "metadata": {},
   "source": [
    "Probability of sentence"
   ]
  },
  {
   "cell_type": "code",
   "execution_count": null,
   "metadata": {
    "collapsed": true
   },
   "outputs": [],
   "source": [
    "g_probs = cky.make_rule_probs(grammar_ambig_copy_probs)"
   ]
  },
  {
   "cell_type": "code",
   "execution_count": null,
   "metadata": {
    "collapsed": false
   },
   "outputs": [],
   "source": [
    "(probs,s_prob)=cky.probability(\"S\",chart,backpointers,g,s,g_probs)"
   ]
  },
  {
   "cell_type": "markdown",
   "metadata": {},
   "source": [
    "The log probability of the sentence is the second element"
   ]
  },
  {
   "cell_type": "code",
   "execution_count": null,
   "metadata": {
    "collapsed": false
   },
   "outputs": [],
   "source": [
    "s_prob"
   ]
  },
  {
   "cell_type": "markdown",
   "metadata": {},
   "source": [
    "Let's un-log it just to get a look"
   ]
  },
  {
   "cell_type": "code",
   "execution_count": null,
   "metadata": {
    "collapsed": false
   },
   "outputs": [],
   "source": [
    "cky.np.exp(s_prob)"
   ]
  },
  {
   "cell_type": "code",
   "execution_count": null,
   "metadata": {
    "collapsed": true
   },
   "outputs": [],
   "source": []
  }
 ],
 "metadata": {
  "anaconda-cloud": {},
  "kernelspec": {
   "display_name": "Python [Root]",
   "language": "python",
   "name": "Python [Root]"
  },
  "language_info": {
   "codemirror_mode": {
    "name": "ipython",
    "version": 2
   },
   "file_extension": ".py",
   "mimetype": "text/x-python",
   "name": "python",
   "nbconvert_exporter": "python",
   "pygments_lexer": "ipython2",
   "version": "2.7.12"
  }
 },
 "nbformat": 4,
 "nbformat_minor": 0
}
